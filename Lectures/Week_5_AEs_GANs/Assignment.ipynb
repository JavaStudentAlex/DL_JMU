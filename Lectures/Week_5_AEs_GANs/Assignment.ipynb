{
  "cells": [
    {
      "cell_type": "markdown",
      "metadata": {
        "id": "XwMtFA-GomHz"
      },
      "source": [
        "# **Lab5: Autoencoders and Generative Neural Networks**\n",
        "\n",
        "------\n",
        "\n",
        "Instructors: Dr. Nancy Mehta, Ph.D. , Prof. Dr. Radu Timofte\n",
        "\n",
        "Content:\n",
        "  1. Generative models       \n",
        "  2. Popular Generative models\n",
        "  3. Overview of GANs architecture  \n",
        "  a. Vanilla GAN Training \\\n",
        "  b. Pix2Pix \\\n",
        "  c. CycleGAN\n",
        "\n",
        "  4. Image Quality Assessment\n",
        "  \n",
        "  5. Challenges in GANs\n",
        "\n",
        "  The assignment has been made in order to make your concepts bit more clear about autoencoders and GANs. In case of any doubt, contact me directly on nancy.mehta@uni-wuerzburg.de. The main exercise to be solved is at the bottom, but in order to solve the questions you need to go from top to bottom, especially the coding part."
      ]
    },
    {
      "cell_type": "markdown",
      "metadata": {
        "id": "KZvpvQo4omH1"
      },
      "source": [
        "# Discriminative vs. Generative models:\n",
        "\n",
        "Broadly speaking, there are two main approaches to understand (model) the world and making decisions. Before diving into the topic for today's lab, we will first discuss about the them.\n",
        "   #### Discriminative Models:\n",
        "   Directly maps features to class labels.The algorithm is trying to learn p(y|x) directly, to map from inputs to labels, where y represents the labels and x represents the features. (Support Vector Machines and Logistic Regression)\n",
        "      <br>\n",
        "\n",
        "<img src=\"https://files.realpython.com/media/fig_discriminative.9c22a1cd877d.png\" border=\"0\">\n",
        "\n",
        "<br>\n",
        "\n",
        "   #### Generative models:\n",
        "   Models the distribution of features for each class. The algorithm is trying to model p(x|y) and p(y) to understand the data.\n",
        "   <br>\n",
        "\n",
        "<img src=\" https://files.realpython.com/media/fig_generative.5f01c08f5208.png\" border=\"0\">\n",
        "\n",
        "<br>\n",
        "\n",
        "**Discriminative algorithms care about the relations between x and y; generative models care about how you get x.**\n",
        "      <br>\n",
        "\n",
        "<img src=\"https://learnopencv.com/wp-content/uploads/2020/10/gen_disc_model-1-1536x639.jpg\" border=\"0\">\n",
        "\n",
        "<br>\n"
      ]
    },
    {
      "cell_type": "markdown",
      "metadata": {
        "id": "08KqFJnUomH2"
      },
      "source": [
        "# Generative Models:\n",
        "    \n",
        "Generative AI refers to unsupervised and semi-supervised machine learning algorithms that enable computers to use existing content like text, audio and video files, images, and even code to create new possible content. The main idea is to generate completely original artifacts that would look like the real deal by learning the complex probablity distributions. Inputs and outputs to these models can include text, images, sounds, animation, 3D models, or other types of data.\n",
        "\n",
        "Popular Generative Models:\n",
        "<br>\n",
        "\n",
        "<img src=\"https://www.mdpi.com/remotesensing/remotesensing-15-03452/article_deploy/html/images/remotesensing-15-03452-g001-550.jpg\" border=\"0\">\n",
        "\n",
        "<br>\n",
        "\n",
        "**GANs**:They learn to generate new data similar to a training dataset. It consists of two neural networks, a generator, and a discriminator, that play a two-player game. The generator takes in random values sampled from a normal distribution and produces a synthetic sample, while the discriminator tries to distinguish between the real and generated sample. The generator is trained to produce realistic output that can fool the discriminator, while the discriminator is trained to correctly distinguish between the real and generated data.\n",
        "\n",
        "**VAEs**: consist of an encoder and a decoder. The encoder maps high-dimensional input data into a low-dimensional representation, while the decoder attempts to reconstruct the original high-dimensional input data by mapping this representation back to its original form. The encoder outputs the normal distribution of the latent code as a low-dimensional representation by predicting the mean and standard deviation vectors.\n",
        "\n",
        "**Diffusion models**: consist of forward diffusion and reverse diffusion processes. Forward diffusion is a Markov chain that gradually adds noise to input data until white noise is obtained. It is not a learnable process and typically takes 1000 steps. The reverse diffusion process aims to reverse the forward process step by step removing the noise to recover the original data. The reverse diffusion process is implemented using a trainable neural network.\n",
        "\n",
        "**Normalising Flows**: Normalizing flows is a series of simple functions which are invertible, or the analytical inverse of the function can be calculated. For example, f(x) = x + 2 is a reversible function because for each input, a unique output exists and vice-versa whereas f(x) = x² is not a reversible function.\n",
        "\n",
        "**The three key requirements of a successful generative AI model are:**  \n",
        "\n",
        "1.**Quality**: Especially for applications that interact directly with users, having high-quality generation outputs is key. For example, in speech generation, poor speech quality is difficult to understand. Similarly, in image generation, the desired outputs should be visually indistinguishable from natural images.\n",
        "\n",
        "2.**Diversity**: A good generative model captures the minority modes in its data distribution without sacrificing generation quality. This helps reduce undesired biases in the learned models.\n",
        "\n",
        "3.**Speed**: Many interactive applications require fast generation, such as real-time image editing to allow use in content creation workflows.\n",
        "\n",
        "<br>\n",
        "\n",
        "<img src=\"https://miro.medium.com/v2/resize:fit:1400/1*NTGS1FGXYANVnlKCyqPsUg.png\" border=\"0\">\n",
        "\n",
        "<br>\n"
      ]
    },
    {
      "cell_type": "markdown",
      "metadata": {
        "id": "gRaDKIumnDvP"
      },
      "source": [
        "# Types of Autoencoders:\n",
        "\n",
        " As discussed in the lecture, we talked about basic autoencoders and variational autoencoders but there are other types of autoencoders that are popular.  Autoencoders are considered an unsupervised learning technique since they don’t need explicit labels to train on. But to be more precise they are self-supervised because they generate their own labels from the training data.\n",
        "\n",
        "**1. Under Complete Autoencoder**\n",
        "\n",
        "An undercomplete autoencoder is the simplest autoencoder that learns to compress input data into a lower-dimensional latent space. In this case, the dimensionality of the latent space is smaller than the dimensionality of the input data, which creates a bottleneck and forces the autoencoder to learn a more compact representation of the data.\n",
        "It is created by using a bottleneck layer with fewer neurons than the input and output layers. The encoder maps the input data to the latent space through this bottleneck layer, and the decoder maps the latent space back to the output data.\n",
        "\n",
        "<br>\n",
        "\n",
        "<img src=\"https://www.fieryflamingo.com/static/blog/articles/assets/basic-autoencoder-types/undercomplete_autoencoder.png\" border=\"0\">\n",
        "\n",
        "<br>\n",
        "\n",
        "\n",
        "**2. Sparse Autoencoder**\n",
        "\n",
        "A sparse autoencoder is a type of autoencoder that is designed to learn a compressed representation of the input data while also enforcing sparsity in the learned representation. The sparsity constraint encourages the autoencoder to learn a representation that uses only a small number of neurons in the hidden layer to encode the input. This can help to reduce overfitting and improve the interpretability of the learned representation. While undercomplete autoencoders are regulated and fine-tuned by regulating the size of the bottleneck, the sparse autoencoder is regulated by changing the number of nodes at each hidden layer. Since it is not possible to design a neural network that has a flexible number of nodes at its hidden layers, sparse autoencoders work by penalizing the activation of some neurons in hidden layers. The sparsity constraint is typically achieved by adding a regularization term via L1 loss function or KL divergence to the loss function that penalizes the hidden layer activations that are significantly different from a small target value.\n",
        "\n",
        "<br>\n",
        "\n",
        "<img src=\"https://assets-global.website-files.com/5d7b77b063a9066d83e1209c/60e424e6f33c5b477e856285_input-hidden-output-layers.png\" border=\"0\">\n",
        "\n",
        "<br>\n",
        "\n",
        "\n",
        "**3. Denoising Autoencoder**\n",
        "Keeping the code layer small forced our autoencoder to learn an intelligent representation of the data. There is another way to force the autoencoder to learn useful features, which is adding random noise to its inputs and making it recover the original noise-free data. This way the autoencoder can’t simply copy the input to its output because the input also contains random noise. We are asking it to subtract the noise and produce the underlying meaningful data. This is called a denoising autoencoder. Thus it is a type of autoencoder that is designed to remove noise from the input data. It is trained on corrupted versions of the input data, where the noise can be introduced in various ways such as adding Gaussian noise, masking random pixels or applying random rotations to the input data. The autoencoder then learns to reconstruct the original input data from the corrupted version, which can be used to remove the noise from new, unseen data.\n",
        "\n",
        "<br>\n",
        "\n",
        "<img src=\"https://assets-global.website-files.com/5d7b77b063a9066d83e1209c/60bbe71203425680a535a476_pasted%20image%200.png\" border=\"0\">\n",
        "\n",
        "<br>\n",
        "\n"
      ]
    },
    {
      "cell_type": "code",
      "execution_count": null,
      "metadata": {
        "id": "rencW7XPu9T3"
      },
      "outputs": [],
      "source": [
        "###Let's start by defining a simple autoencoder that we learnt in the lecture #####\n",
        "\n",
        "import torch\n",
        "from torchvision import datasets\n",
        "from torchvision import transforms\n",
        "import matplotlib.pyplot as plt\n",
        "\n",
        "###Download the dataset #####\n",
        "\n",
        "tensor_transform = transforms.ToTensor()\n",
        "\n",
        "# Download the MNIST Dataset\n",
        "dataset = datasets.MNIST(root = \"./data\",\n",
        "                         train = True,\n",
        "                         download = True,\n",
        "                         transform = tensor_transform)\n",
        "\n",
        "# DataLoader is used to load the dataset\n",
        "# for training\n",
        "loader = torch.utils.data.DataLoader(dataset = dataset,\n",
        "                                     batch_size = 32,\n",
        "                                     shuffle = True)\n",
        "\n",
        "###Let's dive into what we learnt about the encoder (for encoding the data into a latent representation) and decoder (for reconstruction) #####\n",
        "#28*28 = 784 ==> 128 ==> 64 ==> 36 ==> 18 ==> 9#  (encoding from 784 to 9) and then 9 ==> 18 ==> 36 ==> 64 ==> 128 ==> 784 ==> 28*28 = 784 (deccoding from 9 to 784)\n",
        "\n",
        "# Creating a PyTorch class\n",
        "# 28*28 ==> 9 ==> 28*28\n",
        "class AE(torch.nn.Module):\n",
        "    def __init__(self):\n",
        "        super().__init__()\n",
        "\n",
        "        # Building an linear encoder with Linear\n",
        "        # layer followed by Relu activation function\n",
        "        # 784 ==> 9\n",
        "        self.encoder = torch.nn.Sequential(\n",
        "            torch.nn.Linear(28 * 28, 128),\n",
        "            torch.nn.ReLU(),\n",
        "            torch.nn.Linear(128, 64),\n",
        "            torch.nn.ReLU(),\n",
        "            torch.nn.Linear(64, 36),\n",
        "            torch.nn.ReLU(),\n",
        "            torch.nn.Linear(36, 18),\n",
        "            torch.nn.ReLU(),\n",
        "            torch.nn.Linear(18, 9)\n",
        "        )\n",
        "\n",
        "        # Building an linear decoder with Linear\n",
        "        # layer followed by Relu activation function\n",
        "        # The Sigmoid activation function\n",
        "        # outputs the value between 0 and 1\n",
        "        # 9 ==> 784\n",
        "        self.decoder = torch.nn.Sequential(\n",
        "            torch.nn.Linear(9, 18),\n",
        "            torch.nn.ReLU(),\n",
        "            torch.nn.Linear(18, 36),\n",
        "            torch.nn.ReLU(),\n",
        "            torch.nn.Linear(36, 64),\n",
        "            torch.nn.ReLU(),\n",
        "            torch.nn.Linear(64, 128),\n",
        "            torch.nn.ReLU(),\n",
        "            torch.nn.Linear(128, 28 * 28),\n",
        "            torch.nn.Sigmoid()\n",
        "        )\n",
        "\n",
        "    def forward(self, x):\n",
        "        encoded = self.encoder(x)\n",
        "        decoded = self.decoder(encoded)\n",
        "        return decoded\n",
        "\n",
        "\n",
        "# Model Initialization\n",
        "model = AE()\n",
        "\n",
        "# Validation using MSE Loss function\n",
        "loss_function = torch.nn.MSELoss()\n",
        "\n",
        "# Using an Adam Optimizer with lr = 0.1\n",
        "optimizer = torch.optim.Adam(model.parameters(),\n",
        "                             lr = 1e-1,\n",
        "                             weight_decay = 1e-8)\n",
        "\n",
        "epochs = 1                                                 ####We checked for 1 epoch, you can increase the number of epochs and observe the differences\n",
        "outputs = []\n",
        "losses = []\n",
        "for epoch in range(epochs):\n",
        "    for (image, _) in loader:\n",
        "\n",
        "      # Reshaping the image to (-1, 784)\n",
        "      image = image.reshape(-1, 28*28)\n",
        "\n",
        "      # Output of Autoencoder\n",
        "      reconstructed = model(image)\n",
        "\n",
        "      # Calculating the loss function\n",
        "      loss = loss_function(reconstructed, image)\n",
        "\n",
        "      # The gradients are set to zero,\n",
        "      # the gradient is computed and stored.\n",
        "      # .step() performs parameter update\n",
        "      optimizer.zero_grad()\n",
        "      loss.backward()\n",
        "      optimizer.step()\n",
        "\n",
        "      # Storing the losses in a list for plotting\n",
        "      losses.append(loss)\n",
        "    outputs.append((epochs, image, reconstructed))\n",
        "\n",
        "\n",
        "for i, item in enumerate(image):\n",
        "  # Reshape the array for plotting\n",
        "  item = item.reshape(-1, 28, 28)\n",
        "  plt.imshow(item[0].detach().numpy())\n",
        "\n",
        "\n",
        " ###The output here shows you the reconstructed output by encoders, try to do it yourseslf by plotting both the input image and reconstructed image side by side, and then you can easily spot the difference##\n",
        "for i, item in enumerate(reconstructed):\n",
        "  item = item.reshape(-1, 28, 28)\n",
        "  plt.imshow(item[0].detach().numpy())"
      ]
    },
    {
      "cell_type": "markdown",
      "metadata": {
        "id": "g-M1SR4O3QQU"
      },
      "source": [
        "##Reparametrization Trick in VAEs##\n",
        "The reparameterization trick has indeed been introduced to allow gradient-based optimization (i.e., making it trainable) of models involving stochastic variables by transforming the sampling process into a differentiable operation.\n",
        "\n",
        "The figure below shows a simple variational autoencoder, we learnt about in the lecture. What's the problem with this?\n",
        "<br>\n",
        "\n",
        "<img src=\"https://miro.medium.com/v2/resize:fit:720/format:webp/1*XJ3B8_dPmfEkRmBhsCIFPw.png\" border=\"0\">\n",
        "\n",
        "<br>\n",
        "We saw that instead of directly mapping the input data points into latent variables, the input data points get mapped to a multivariate normal distribution. This distribution limits the free rein of the encoder when it was encoding the input data points into latent variables. At the same time, it introduces stochasticity in the network because we are now sampling points from a probability distribution. This creates problem while backpropagating the gradients, So what is the solution?\n",
        "<br>\n",
        "\n",
        "<img src=\"https://miro.medium.com/v2/resize:fit:720/format:webp/1*zOWWdSZNqfvJxNvE4rdLYg.png\" border=\"0\">\n",
        "\n",
        "<br>\n",
        "The reparametrized form of VAE push random sampling out of the backpropagation path.  It sample epsilon ε from 𝐍(0,I) instead of directly sampling from 𝐍(μ,Σ), where μ is mean and Σ is covariance matrix.\n",
        "\n",
        "<br>\n",
        "\n",
        "<img src=\"https://miro.medium.com/v2/resize:fit:640/format:webp/1*k1k6e0ghkY9rZVnbNrsYuA.png\" border=\"0\">\n",
        "\n",
        "<br>\n",
        "\n",
        "\n",
        "For better understanding of this reparameterization trick, please find the link attacthed below:\n",
        "https://towardsdatascience.com/reparameterization-trick-126062cfd3c3"
      ]
    },
    {
      "cell_type": "markdown",
      "metadata": {
        "id": "Bz0QalWvomH3"
      },
      "source": [
        "# Overview of GAN architecture:\n",
        "Generative Adversarial Networks (GANs) are Neural Networks that take random noise as input and generate outputs (e.g. a picture of a human face) that appear to be a sample from the distribution of the training set (e.g. set of other human faces). It achieves this property by training two models simultaneously:\n",
        "    1. The generator learns to generate plausible data by capturing the distribution of training set. The generated instances become negative training examples for the discriminator.\n",
        "    2. The discriminator learns to distinguish the generator's fake data from real data. The discriminator penalizes the generator for producing implausible results.\n",
        "\n",
        "![GAN.png](attachment:GAN.png)"
      ]
    },
    {
      "cell_type": "markdown",
      "metadata": {
        "id": "pSJwzbYgomH3"
      },
      "source": [
        "\n",
        "Let $x$ be data representing an image. $D(x)$ is the discriminator network which outputs the (scalar) probability that $x$ came from training data rather than the generator. The input to $D(x)$ is the image. Intuitively, $D(x)$ should be HIGH when $x$ comes from training data and LOW when $x$ comes from the generator. $D(x)$ can also be thought of as a traditional binary classifier.\n",
        "\n",
        "For the generator’s notation, let $z$ be a latent space vector sampled from a standard normal distribution. $G(z)$ represents the generator function which maps the latent vector $z$ to data-space. The goal of $G$ is to estimate the distribution that the training data comes from $(p_{data})$\n",
        "​so it can generate fake samples from that estimated distribution $(p_g)$.\n",
        "\n",
        "So, $D(G(z))$ is the probability (scalar) that the output of the generator $G$ is a real image. As described in [Goodfellow’s paper](https://arxiv.org/abs/1406.2661), $D$ and $G$ play a minimax game in which $D$ tries to maximize the probability it correctly classifies reals and fakes $(logD(x))$, and $G$ tries to minimize the probability that $D$ will predict its outputs are fake $(log(1-D(G(z))))$. From the paper, the GAN loss function (binary cross entropy) is:\n",
        "\n",
        "<br>\n",
        "\n",
        "<img src=\"https://github.com/christianversloot/machine-learning-articles/blob/main/images/image-1-1024x401.png?raw=true\" border=\"0\">\n",
        "\n",
        "<br>\n",
        "\n",
        "\n",
        "\n",
        "\n"
      ]
    },
    {
      "cell_type": "markdown",
      "metadata": {
        "id": "dRbfEtWIomH4"
      },
      "source": [
        "# Vanilla GANs Training\n",
        "We don’t train the discriminator and the generator separately. In GAN training, we train the discriminator and generator networks in turn in the same training loop. If we train only the generator network first, the discriminator couldn’t distinguish between real and fake images well, and the loss value is not very useful. GAN training is tricky because we must train both to ensure both are learning harmoniously. If one network learns too fast, the other network may not learn very effectively. We want to achieve a win-win situation where both networks improve side-by-side. https://proceedings.neurips.cc/paper_files/paper/2014/hash/5ca3e9b122f61f8f06494c97b1afccf3-Abstract.html\n",
        "\n",
        "Let's see the steps involved step by step:\n"
      ]
    },
    {
      "cell_type": "code",
      "execution_count": null,
      "metadata": {
        "id": "qTyXQrYgomH4"
      },
      "outputs": [],
      "source": [
        "###download MNIST DATASET###\n",
        "from torchvision import datasets, transforms\n",
        "\n",
        "transform = transforms.ToTensor()\n",
        "\n",
        "dataset = datasets.MNIST(root='./data', train=True, download=True, transform=transform)"
      ]
    },
    {
      "cell_type": "code",
      "execution_count": null,
      "metadata": {
        "colab": {
          "base_uri": "https://localhost:8080/"
        },
        "id": "30SK1ghAomH5",
        "outputId": "d7aebd3b-8299-4e5c-ecd8-64a72dc2dc1c"
      },
      "outputs": [
        {
          "name": "stdout",
          "output_type": "stream",
          "text": [
            "torch.Size([64, 1, 28, 28])\n",
            "tensor([5, 0, 4, 1, 9, 2, 1, 3, 1, 4, 3, 5, 3, 6, 1, 7, 2, 8, 6, 9, 4, 0, 9, 1,\n",
            "        1, 2, 4, 3, 2, 7, 3, 8, 6, 9, 0, 5, 6, 0, 7, 6, 1, 8, 7, 9, 3, 9, 8, 5,\n",
            "        9, 3, 3, 0, 7, 4, 9, 8, 0, 9, 4, 1, 4, 4, 6, 0])\n"
          ]
        }
      ],
      "source": [
        "###Sample Images###\n",
        "from torch.utils.data import DataLoader\n",
        "dataloader = DataLoader(dataset, batch_size=64, drop_last=True)\n",
        "images, labels = next(iter(dataloader))\n",
        "print(images.shape)\n",
        "print(labels)"
      ]
    },
    {
      "cell_type": "code",
      "execution_count": null,
      "metadata": {
        "id": "HS1z9MeAomH6"
      },
      "outputs": [],
      "source": [
        "###Visualize Images###\n",
        "import torch\n",
        "from torchvision.utils import make_grid\n",
        "import matplotlib.pyplot as plt\n",
        "\n",
        "def show_image_grid(images: torch.Tensor, ncol: int):\n",
        "    image_grid = make_grid(images, ncol)     # Make images into a grid\n",
        "    image_grid = image_grid.permute(1, 2, 0) # Move channel to the last\n",
        "    image_grid = image_grid.detach().numpy()    # Convert into Numpy\n",
        "\n",
        "    plt.imshow(image_grid)\n",
        "    plt.xticks([])\n",
        "    plt.yticks([])\n",
        "    plt.show()\n"
      ]
    },
    {
      "cell_type": "code",
      "execution_count": null,
      "metadata": {
        "colab": {
          "base_uri": "https://localhost:8080/"
        },
        "id": "9GehA-zgomH8",
        "outputId": "01f369d4-441b-4e34-f335-540bb2c42eea"
      },
      "outputs": [
        {
          "name": "stdout",
          "output_type": "stream",
          "text": [
            "tensor([[ 1.0263, -0.6169,  0.0720, -2.2844, -0.0426, -1.3488, -1.5924, -1.4034,\n",
            "         -2.5754, -0.4056,  1.1361, -0.8959, -0.4697, -0.2258,  1.4442,  0.2923,\n",
            "          0.5809, -1.6494, -1.3385,  0.5901,  0.0430,  0.3491, -0.0039, -0.1593,\n",
            "         -1.0879, -0.7299,  0.6193, -0.9599,  0.0156, -0.9846,  0.7012, -0.2936,\n",
            "          0.9403, -0.6917, -0.5602, -0.3565, -0.0578, -0.1010, -0.6934,  1.5304,\n",
            "          0.4083, -0.3210,  1.1503, -0.4945, -0.7480,  0.0470, -1.7489,  0.8048,\n",
            "          0.7890,  0.3948,  1.0897, -1.6531,  0.7901, -0.2568, -0.1840,  1.3631,\n",
            "         -0.2140, -0.5048, -0.6146,  0.6895, -0.0969,  1.4524, -1.7235,  0.0046,\n",
            "          0.3053,  0.7335, -0.8163,  1.7144,  1.6626, -0.3414,  0.0790,  0.4173,\n",
            "         -1.7794,  0.7852,  1.9249,  0.8033, -1.7050, -0.7167, -0.5920, -0.2690,\n",
            "         -0.2713, -0.3189, -0.6626, -0.2588,  1.0164,  1.0750, -0.9284, -0.2926,\n",
            "         -1.5612,  0.3678,  0.8988,  1.1140, -0.1775,  0.2886, -2.4412,  0.5871,\n",
            "          0.3299,  0.1063, -0.8494,  1.6325]])\n"
          ]
        }
      ],
      "source": [
        "##Deciding the size of the random value vector. More random values may potentially add variations to generated images.For our example we take 100 random values per input vector, that are generated frm the uiform distribution.\n",
        "z = torch.randn(1, 100)\n",
        "print(z)"
      ]
    },
    {
      "cell_type": "code",
      "execution_count": null,
      "metadata": {
        "id": "LApvZmq3omH9"
      },
      "outputs": [],
      "source": [
        "##generator network### (Here, if you remember from the lecture we learnt that Generator is a neural network, here we defined it as a very small CNN, you can design it according to the application and requirements)\n",
        "from torch import nn\n",
        "\n",
        "generator = nn.Sequential(nn.Linear(100, 128),\n",
        "                          nn.LeakyReLU(0.01),\n",
        "                          nn.Linear(128, 784),\n",
        "                          nn.Sigmoid())"
      ]
    },
    {
      "cell_type": "code",
      "execution_count": null,
      "metadata": {
        "colab": {
          "base_uri": "https://localhost:8080/",
          "height": 406
        },
        "id": "PArvXn3SomH9",
        "outputId": "89fdc352-1094-481d-d345-21215b6e05b4"
      },
      "outputs": [
        {
          "data": {
            "image/png": "[encoded data removed]",
            "text/plain": [
              "<Figure size 640x480 with 1 Axes>"
            ]
          },
          "metadata": {},
          "output_type": "display_data"
        }
      ],
      "source": [
        "##generator network output before training###\n",
        "def generate_images():\n",
        "    # Random value inputs (batch size 64)\n",
        "    z = torch.randn(64, 100)\n",
        "\n",
        "    # Generator network output\n",
        "    output = generator(z)\n",
        "\n",
        "    # Reshape the output into 64 images\n",
        "    generated_images = output.reshape(64, 1, 28, 28)\n",
        "\n",
        "    return generated_images\n",
        "\n",
        "\n",
        "# Call the function to generate images\n",
        "generated_images = generate_images()\n",
        "\n",
        "# Display images in a grid layout\n",
        "show_image_grid(generated_images, ncol = 8)                        ####Untrained generator network produces noise"
      ]
    },
    {
      "cell_type": "code",
      "execution_count": null,
      "metadata": {
        "id": "BD6-yEcXomH-"
      },
      "outputs": [],
      "source": [
        "discriminator = nn.Sequential(nn.Linear(784, 128),nn.LeakyReLU(0.01),nn.Linear(128, 1)) #(Here, if you remember from the lecture we learnt that Discriminator is also a neural network, here we defined it also as a very small CNN, you can design it according to the application and requirements)#\n",
        "#######Discriminator output before training##########\n",
        "discriminator.eval()\n",
        "with torch.no_grad():\n",
        "    prediction = discriminator(generated_images.reshape(-1, 784))\n",
        "    #print(prediction)"
      ]
    },
    {
      "cell_type": "code",
      "execution_count": null,
      "metadata": {
        "id": "NhMUPEnIomH-"
      },
      "outputs": [],
      "source": [
        "real_targets = torch.ones(64, 1)    #for real images input to the discriminator\n",
        "fake_targets = torch.zeros(64, 1)   #for generated images input to the discriminator\n",
        "def calculate_loss(images: torch.Tensor, targets: torch.Tensor):\n",
        "    prediction = discriminator(images.reshape(-1, 784))\n",
        "    loss = F.binary_cross_entropy_with_logits(prediction, targets)\n",
        "    return loss"
      ]
    },
    {
      "cell_type": "code",
      "execution_count": null,
      "metadata": {
        "id": "mwttuowmomH-"
      },
      "outputs": [],
      "source": [
        "from torch.nn import functional as F\n",
        "d_optimizer = torch.optim.Adam(discriminator.parameters(), lr=1.0e-4)\n",
        "# On training mode\n",
        "discriminator.train()\n",
        "# On eval mode\n",
        "generator.eval()\n",
        "# Training loop\n",
        "for epoch in range(2):\n",
        "    for images, labels in dataloader:\n",
        "        # Loss with MNIST image inputs and real_targets as labels\n",
        "        d_loss = calculate_loss(images, real_targets)\n",
        "        # Loss with generated image inputs and fake_targets as labels\n",
        "        generated_images = generate_images()\n",
        "        d_loss += calculate_loss(generated_images, fake_targets)\n",
        "        # Optimizer updates the discriminator parameters\n",
        "        d_optimizer.zero_grad()\n",
        "        d_loss.backward()\n",
        "        d_optimizer.step()"
      ]
    },
    {
      "cell_type": "code",
      "execution_count": null,
      "metadata": {
        "id": "c0W_oNd_omH_"
      },
      "outputs": [],
      "source": [
        "g_optimizer = torch.optim.Adam(generator.parameters(), lr=1.0e-4)\n",
        "# On training mode\n",
        "generator.train()\n",
        "# On eval mode\n",
        "discriminator.eval()\n",
        "for epoch in range(2):\n",
        "    for images, labels in dataloader:\n",
        "        # Loss with generated image inputs and real_targets as labels\n",
        "        generated_images = generate_images()\n",
        "        g_loss = calculate_loss(generated_images, real_targets)\n",
        "        # Optimizer updates the generator parameters\n",
        "        g_optimizer.zero_grad()\n",
        "        g_loss.backward()\n",
        "        g_optimizer.step()"
      ]
    },
    {
      "cell_type": "code",
      "execution_count": null,
      "metadata": {
        "id": "wDJWNRcgomH_"
      },
      "outputs": [],
      "source": [
        "############Combining all the above steps into 1##########\n",
        "import numpy as np\n",
        "import matplotlib.pyplot as plt\n",
        "import torch\n",
        "from torch import nn\n",
        "from torch.nn import functional as F\n",
        "from torch.utils.data import DataLoader\n",
        "from torchvision import datasets, transforms\n",
        "from torchvision.utils import make_grid\n",
        "from tqdm import tqdm\n",
        "\n",
        "\n",
        "# Configuration\n",
        "epochs      = 1       # u can increase the number of epochs to see the differences in the results more clear\n",
        "batch_size  = 64\n",
        "sample_size = 100    # Number of random values to sample\n",
        "g_lr        = 1.0e-4 # Generator's learning rate\n",
        "d_lr        = 1.0e-4 # Discriminator's learning rate\n",
        "\n",
        "\n",
        "# DataLoader for MNIST\n",
        "transform = transforms.ToTensor()\n",
        "dataset = datasets.MNIST(root='./data', train=True, download=True, transform=transform)\n",
        "dataloader = DataLoader(dataset, batch_size=batch_size, drop_last=True)\n",
        "\n",
        "\n",
        "# Generator Network\n",
        "class Generator(nn.Sequential):\n",
        "    def __init__(self, sample_size: int):\n",
        "        super().__init__(\n",
        "            nn.Linear(sample_size, 128),\n",
        "            nn.LeakyReLU(0.01),\n",
        "            nn.Linear(128, 784),\n",
        "            nn.Sigmoid())\n",
        "\n",
        "        # Random value vector size\n",
        "        self.sample_size = sample_size\n",
        "\n",
        "    def forward(self, batch_size: int):\n",
        "        # Generate randon values\n",
        "        z = torch.randn(batch_size, self.sample_size)\n",
        "\n",
        "        # Generator output\n",
        "        output = super().forward(z)\n",
        "\n",
        "        # Convert the output into a greyscale image (1x28x28)\n",
        "        generated_images = output.reshape(batch_size, 1, 28, 28)\n",
        "        return generated_images\n",
        "\n",
        "\n",
        "# Discriminator Network\n",
        "class Discriminator(nn.Sequential):\n",
        "    def __init__(self):\n",
        "        super().__init__(\n",
        "            nn.Linear(784, 128),\n",
        "            nn.LeakyReLU(0.01),\n",
        "            nn.Linear(128, 1))\n",
        "\n",
        "    def forward(self, images: torch.Tensor, targets: torch.Tensor):\n",
        "        prediction = super().forward(images.reshape(-1, 784))\n",
        "        loss = F.binary_cross_entropy_with_logits(prediction, targets)\n",
        "        return loss\n",
        "\n",
        "\n",
        "# To save images in grid layout\n",
        "def save_image_grid(epoch: int, images: torch.Tensor, ncol: int):\n",
        "    image_grid = make_grid(images, ncol)     # Images in a grid\n",
        "    image_grid = image_grid.permute(1, 2, 0) # Move channel last\n",
        "    image_grid = image_grid.detach().numpy()    # To Numpy\n",
        "    plt.imshow(image_grid)\n",
        "    plt.xticks([])\n",
        "    plt.yticks([])\n",
        "    #plt.savefig(f'generated_{epoch:03d}.jpg')\n",
        "    plt.show()\n",
        "\n",
        "\n",
        "# Real and fake labels\n",
        "real_targets = torch.ones(batch_size, 1)\n",
        "fake_targets = torch.zeros(batch_size, 1)\n",
        "\n",
        "\n",
        "# Generator and Discriminator networks\n",
        "generator = Generator(sample_size)\n",
        "discriminator = Discriminator()\n",
        "\n",
        "\n",
        "# Optimizers\n",
        "d_optimizer = torch.optim.Adam(discriminator.parameters(), lr=d_lr)\n",
        "g_optimizer = torch.optim.Adam(generator.parameters(), lr=g_lr)\n",
        "\n",
        "\n",
        "# Training loop\n",
        "for epoch in range(epochs):\n",
        "\n",
        "    d_losses = []\n",
        "    g_losses = []\n",
        "\n",
        "    for images, labels in tqdm(dataloader):\n",
        "        #===============================\n",
        "        # Discriminator Network Training\n",
        "        #===============================\n",
        "\n",
        "        # Loss with MNIST image inputs and real_targets as labels\n",
        "        discriminator.train()\n",
        "        d_loss = discriminator(images, real_targets)\n",
        "\n",
        "        # Generate images in eval mode\n",
        "        generator.eval()\n",
        "        with torch.no_grad():\n",
        "            generated_images = generator(batch_size)\n",
        "\n",
        "        # Loss with generated image inputs and fake_targets as labels\n",
        "        d_loss += discriminator(generated_images, fake_targets)\n",
        "\n",
        "        # Optimizer updates the discriminator parameters\n",
        "        d_optimizer.zero_grad()\n",
        "        d_loss.backward()\n",
        "        d_optimizer.step()\n",
        "\n",
        "        #===============================\n",
        "        # Generator Network Training\n",
        "        #===============================\n",
        "\n",
        "        # Generate images in train mode\n",
        "        generator.train()\n",
        "        generated_images = generator(batch_size)\n",
        "\n",
        "        # Loss with generated image inputs and real_targets as labels\n",
        "        discriminator.eval() # eval but we still need gradients\n",
        "        g_loss = discriminator(generated_images, real_targets)\n",
        "\n",
        "        # Optimizer updates the generator parameters\n",
        "        g_optimizer.zero_grad()\n",
        "        g_loss.backward()\n",
        "        g_optimizer.step()\n",
        "\n",
        "        # Keep losses for logging\n",
        "        d_losses.append(d_loss.item())\n",
        "        g_losses.append(g_loss.item())\n",
        "\n",
        "    # Print average losses\n",
        "    print(epoch, np.mean(d_losses), np.mean(g_losses))\n",
        "\n",
        "    # Save images\n",
        "    save_image_grid(epoch, generator(batch_size), ncol=8)"
      ]
    },
    {
      "cell_type": "markdown",
      "metadata": {
        "id": "xsNI997UomIA"
      },
      "source": [
        "# 1.Conditional GANs(cGAN)\n",
        "\n",
        "Vanilla GANs are unconditional. In order to teach the Generator to use the latent distribution in an even more structured way, adding a condition to the probabilities helps, this forms the concept of conditional GANs. Here both the generator and discriminator are conditioned on auxillary information, such as class label. https://arxiv.org/abs/1411.1784\n",
        "\n",
        "<br>\n",
        "\n",
        "<img src=\"https://learnopencv.com/wp-content/uploads/2021/07/Conditional-GAN-in-PyTorch-and-TensorFlow.jpeg\" border=\"0\">\n",
        "\n",
        "<br>\n",
        "During the training of the CGAN:\n",
        "\n",
        "    1.The Generator is parameterized to learn and produce realistic samples for each label in the training dataset.\n",
        "    2.The Discriminator learns to distinguish fake and real samples, given the label information.\n",
        "    3.However, their roles don’t change. The Generator and Discriminator continue to generate and classify images just like before, but with conditional auxiliary information.\n"
      ]
    },
    {
      "cell_type": "markdown",
      "metadata": {
        "id": "rygalvxkomIA"
      },
      "source": [
        "# 2.Pix2Pix (Paired Image to Image Translation)\n",
        "\n",
        "<br>\n",
        "\n",
        "<img src=\"https://api.wandb.ai/files/cayush/images/projects/459939/247e0f20.png\" border=\"0\">\n",
        "\n",
        "<br>\n",
        "\n",
        "<br>\n",
        "The Pix2Pix GAN (Conditional GAN) is an approach to train a deep convolutional neural network for paired **image-to-image translation** tasks. It works on the concept of conditional GANs learn a mapping from observed image x and random noise vector z, to y (output label).\n",
        "\n",
        "The image below showcases some of the applications of Pix2Pix:\n",
        "\n",
        "\n",
        "\n",
        "<img src=\"https://phillipi.github.io/pix2pix/images/teaser_v3.png\" border=\"0\">\n",
        "\n",
        "<br>\n",
        "\n",
        "\n",
        "\n",
        "\n",
        "\n",
        "\n",
        "\n",
        "As discussed in the class yesterday, that all these generative models are basically neural networks and defined based upon them. So let's check the architectures of the existing some popular GANs."
      ]
    },
    {
      "cell_type": "code",
      "execution_count": null,
      "metadata": {
        "id": "ssFz0gl6omIA"
      },
      "outputs": [],
      "source": [
        "!wget http://efrosgans.eecs.berkeley.edu/pix2pix/datasets/facades.tar.gz\n",
        "!tar -xvf facades.tar.gz\n"
      ]
    },
    {
      "cell_type": "code",
      "execution_count": null,
      "metadata": {
        "id": "fEQZ572vomIB"
      },
      "outputs": [],
      "source": [
        "#####Formatting the data#####\n",
        "#####Importing Libraries is the first step we need to do before defining a model#####\n",
        "##########Define the path of data and the necessary formatting##############\n",
        "from glob2 import glob\n",
        "from torchvision import transforms\n",
        "class data():\n",
        "   def __init__(self, path='./facades/train/'):\n",
        "       self.filenames = glob(path +'*.jpg')\n",
        "\n",
        "\n",
        "   def __len__(self):\n",
        "       return len(self.filenames)\n",
        "\n",
        "   def __getitem__(self, idx):\n",
        "       filename = self.filenames[idx]\n",
        "       image = cv2.imread(filename)\n",
        "       image_width = image.shape[1]\n",
        "       print(image_width)\n",
        "       image_width = image_width // 2\n",
        "       real = image[:, :image_width, :]\n",
        "       condition = image[:, image_width:, :]\n",
        "\n",
        "       real = transforms.functional.to_tensor(real)\n",
        "       condition = transforms.functional.to_tensor(condition)\n",
        "\n",
        "       return real, condition"
      ]
    },
    {
      "cell_type": "code",
      "execution_count": null,
      "metadata": {
        "id": "b7bnclHTomIB"
      },
      "outputs": [],
      "source": [
        "from torch.utils.data import DataLoader\n",
        "train_dataset = data()\n",
        "train_loader = DataLoader(train_dataset, batch_size=4, shuffle=True)\n",
        "\n",
        "val_dataset = data(path='./facades/val/')\n",
        "val_loader = DataLoader(train_dataset, batch_size=4, shuffle=True)"
      ]
    },
    {
      "cell_type": "code",
      "execution_count": null,
      "metadata": {
        "id": "VdK-Co5pomIB"
      },
      "outputs": [],
      "source": [
        "def cnn_block(in_channels,out_channels,kernel_size,stride=1,padding=0, first_layer = False):       #Here the cnn_block abd tcnn_blcock are the classes basically defined to perform downsampling and upsampling for the generator and disrcinator networks defined below\n",
        "\n",
        "   if first_layer:\n",
        "       return nn.Conv2d(in_channels,out_channels,kernel_size,stride=stride,padding=padding)\n",
        "   else:\n",
        "       return nn.Sequential(\n",
        "           nn.Conv2d(in_channels,out_channels,kernel_size,stride=stride,padding=padding),\n",
        "           nn.BatchNorm2d(out_channels,momentum=0.1,eps=1e-5),\n",
        "           )\n",
        "\n",
        "def tcnn_block(in_channels,out_channels,kernel_size,stride=1,padding=0,output_padding=0, first_layer = False):\n",
        "   if first_layer:\n",
        "       return nn.ConvTranspose2d(in_channels,out_channels,kernel_size,stride=stride,padding=padding,output_padding=output_padding)\n",
        "\n",
        "   else:\n",
        "       return nn.Sequential(\n",
        "           nn.ConvTranspose2d(in_channels,out_channels,kernel_size,stride=stride,padding=padding,output_padding=output_padding),\n",
        "           nn.BatchNorm2d(out_channels,momentum=0.1,eps=1e-5),\n",
        "           )"
      ]
    },
    {
      "cell_type": "code",
      "execution_count": null,
      "metadata": {
        "id": "CNCvPdSYomIB"
      },
      "outputs": [],
      "source": [
        "import torch                ###(PLease note that either you can import all the required libraries at once in the beginning or you can do depending upon your choice or requirement)\n",
        "import torch.nn as nn\n",
        "import cv2\n",
        "import os\n",
        "import numpy as np\n",
        "import matplotlib.pyplot as plt\n",
        "import torch.nn.functional as F"
      ]
    },
    {
      "cell_type": "code",
      "execution_count": null,
      "metadata": {
        "id": "Km01tqncomIB"
      },
      "outputs": [],
      "source": [
        "class Generator(nn.Module):               ###(Here you can see the generator network is a bit complex CNN)\n",
        " def __init__(self,instance_norm=False):#input : 256x256\n",
        "   super(Generator,self).__init__()\n",
        "   self.e1 = cnn_block(c_dim,gf_dim,4,2,1, first_layer = True)\n",
        "   self.e2 = cnn_block(gf_dim,gf_dim*2,4,2,1,)\n",
        "   self.e3 = cnn_block(gf_dim*2,gf_dim*4,4,2,1,)\n",
        "   self.e4 = cnn_block(gf_dim*4,gf_dim*8,4,2,1,)\n",
        "   self.e5 = cnn_block(gf_dim*8,gf_dim*8,4,2,1,)\n",
        "   self.e6 = cnn_block(gf_dim*8,gf_dim*8,4,2,1,)\n",
        "   self.e7 = cnn_block(gf_dim*8,gf_dim*8,4,2,1,)\n",
        "   self.e8 = cnn_block(gf_dim*8,gf_dim*8,4,2,1, first_layer=True)\n",
        "\n",
        "   self.d1 = tcnn_block(gf_dim*8,gf_dim*8,4,2,1)\n",
        "   self.d2 = tcnn_block(gf_dim*8*2,gf_dim*8,4,2,1)\n",
        "   self.d3 = tcnn_block(gf_dim*8*2,gf_dim*8,4,2,1)\n",
        "   self.d4 = tcnn_block(gf_dim*8*2,gf_dim*8,4,2,1)\n",
        "   self.d5 = tcnn_block(gf_dim*8*2,gf_dim*4,4,2,1)\n",
        "   self.d6 = tcnn_block(gf_dim*4*2,gf_dim*2,4,2,1)\n",
        "   self.d7 = tcnn_block(gf_dim*2*2,gf_dim*1,4,2,1)\n",
        "   self.d8 = tcnn_block(gf_dim*1*2,c_dim,4,2,1, first_layer = True)#256x256\n",
        "   self.tanh = nn.Tanh()\n",
        "\n",
        " def forward(self,x):\n",
        "   e1 = self.e1(x)\n",
        "   e2 = self.e2(F.leaky_relu(e1,0.2))\n",
        "   e3 = self.e3(F.leaky_relu(e2,0.2))\n",
        "   e4 = self.e4(F.leaky_relu(e3,0.2))\n",
        "   e5 = self.e5(F.leaky_relu(e4,0.2))\n",
        "   e6 = self.e6(F.leaky_relu(e5,0.2))\n",
        "   e7 = self.e7(F.leaky_relu(e6,0.2))\n",
        "   e8 = self.e8(F.leaky_relu(e7,0.2))\n",
        "   d1 = torch.cat([F.dropout(self.d1(F.relu(e8)),0.5,training=True),e7],1)\n",
        "   d2 = torch.cat([F.dropout(self.d2(F.relu(d1)),0.5,training=True),e6],1)\n",
        "   d3 = torch.cat([F.dropout(self.d3(F.relu(d2)),0.5,training=True),e5],1)\n",
        "   d4 = torch.cat([self.d4(F.relu(d3)),e4],1)\n",
        "   d5 = torch.cat([self.d5(F.relu(d4)),e3],1)\n",
        "   d6 = torch.cat([self.d6(F.relu(d5)),e2],1)\n",
        "   d7 = torch.cat([self.d7(F.relu(d6)),e1],1)\n",
        "   d8 = self.d8(F.relu(d7))\n",
        "\n",
        "   return self.tanh(d8)"
      ]
    },
    {
      "cell_type": "code",
      "execution_count": null,
      "metadata": {
        "id": "ONVHqFzBomIC"
      },
      "outputs": [],
      "source": [
        "class Discriminator(nn.Module):\n",
        " def __init__(self,instance_norm=False):#input : 256x256\n",
        "   super(Discriminator,self).__init__()\n",
        "   self.conv1 = cnn_block(c_dim*2,df_dim,4,2,1, first_layer=True) # 128x128\n",
        "   self.conv2 = cnn_block(df_dim,df_dim*2,4,2,1)# 64x64\n",
        "   self.conv3 = cnn_block(df_dim*2,df_dim*4,4,2,1)# 32 x 32\n",
        "   self.conv4 = cnn_block(df_dim*4,df_dim*8,4,1,1)# 31 x 31\n",
        "   self.conv5 = cnn_block(df_dim*8,1,4,1,1, first_layer=True)# 30 x 30\n",
        "\n",
        "   self.sigmoid = nn.Sigmoid()\n",
        " def forward(self, x, y):\n",
        "   O = torch.cat([x,y],dim=1)\n",
        "   O = F.leaky_relu(self.conv1(O),0.2)\n",
        "   O = F.leaky_relu(self.conv2(O),0.2)\n",
        "   O = F.leaky_relu(self.conv3(O),0.2)\n",
        "   O = F.leaky_relu(self.conv4(O),0.2)\n",
        "   O = self.conv5(O)\n",
        "\n",
        "   return self.sigmoid(O)"
      ]
    },
    {
      "cell_type": "code",
      "execution_count": null,
      "metadata": {
        "id": "I3PhGmfNomIC"
      },
      "outputs": [],
      "source": [
        "from torchvision.utils import make_grid\n",
        "batch_size = 1\n",
        "workers = 1\n",
        "\n",
        "epochs = 5\n",
        "\n",
        "gf_dim = 64\n",
        "df_dim = 64\n",
        "\n",
        "L1_lambda = 100.0\n",
        "\n",
        "in_w = in_h = 256\n",
        "c_dim = 3\n",
        "\n",
        "device = torch.device(\"cuda\" if torch.cuda.is_available() else \"cpu\")"
      ]
    },
    {
      "cell_type": "code",
      "execution_count": null,
      "metadata": {
        "id": "ubhaasiBomIC"
      },
      "outputs": [],
      "source": [
        "from torch import optim\n",
        "G = Generator().to(device)\n",
        "D = Discriminator().to(device)\n",
        "G_optimizer = optim.Adam(G.parameters(), lr=2e-4,betas=(0.5,0.999))\n",
        "D_optimizer = optim.Adam(D.parameters(), lr=2e-4,betas=(0.5,0.999))\n",
        "\n",
        "bce_criterion = nn.BCELoss()\n",
        "L1_criterion = nn.L1Loss()"
      ]
    },
    {
      "cell_type": "code",
      "execution_count": null,
      "metadata": {
        "id": "a2HPUR8HomIC"
      },
      "outputs": [],
      "source": [
        "for ep in range(epochs):\n",
        " for i, data in enumerate(train_loader):\n",
        "\n",
        "   y, x = data\n",
        "   x = x.to(device)\n",
        "   y = y.to(device)\n",
        "\n",
        "   b_size = x.shape[0]\n",
        "\n",
        "   real_class = torch.ones(b_size,1,30,30).to(device)\n",
        "   fake_class = torch.zeros(b_size,1,30,30).to(device)\n",
        "\n",
        "   #Train D\n",
        "   D.zero_grad()\n",
        "\n",
        "   real_patch = D(y,x)\n",
        "   real_gan_loss=bce_criterion(real_patch,real_class)\n",
        "\n",
        "   fake=G(x)\n",
        "\n",
        "   fake_patch = D(fake.detach(),x)\n",
        "   fake_gan_loss=bce_criterion(fake_patch,fake_class)\n",
        "\n",
        "   D_loss = real_gan_loss + fake_gan_loss\n",
        "   D_loss.backward()\n",
        "   D_optimizer.step()\n",
        "\n",
        "\n",
        "   #Train G\n",
        "   G.zero_grad()\n",
        "   fake_patch = D(fake,x)\n",
        "   fake_gan_loss=bce_criterion(fake_patch,real_class)\n",
        "\n",
        "   L1_loss = L1_criterion(fake,y)\n",
        "   G_loss = fake_gan_loss + L1_lambda*L1_loss\n",
        "   G_loss.backward()\n",
        "\n",
        "   G_optimizer.step()\n",
        "\n",
        "   #Neptune logging\n",
        "   #run[\"Gen Loss\"].log(G_loss.item())\n",
        "   #run[\"Dis Loss\"].log(D_loss.item())\n",
        "   ##run['L1 Loss'].log(L1_loss.item())\n",
        "   #run['Gen GAN Loss'].log(fake_gan_loss.item())\n",
        "   # Log PyTorch model weights\n",
        "   torch.save(G.state_dict(), 'PIX2PIX.ckpt')\n",
        "   #run['model_checkpoints'].upload('PIX2PIX.ckpt')\n",
        "   G_losses = []\n",
        "   D_losses = []\n",
        "   G_GAN_losses = []\n",
        "   G_L1_losses = []\n",
        "\n",
        "\n",
        "   if (i+1)%5 == 0 :\n",
        "     print('Epoch [{}/{}], Step [{}/{}], d_loss: {:.4f}, g_loss: {:.4f},D(real): {:.2f}, D(fake):{:.2f},g_loss_gan:{:.4f},g_loss_L1:{:.4f}'\n",
        "           .format(ep, epochs, i+1, len(train_loader), D_loss.item(), G_loss.item(),real_patch.mean(), fake_patch.mean(),fake_gan_loss.item(),L1_loss.item()))\n",
        "     G_losses.append(G_loss.item())\n",
        "     D_losses.append(D_loss.item())\n",
        "     G_GAN_losses.append(fake_gan_loss.item())\n",
        "     G_L1_losses.append(L1_loss.item())\n",
        "\n",
        "     with torch.no_grad():\n",
        "       G.eval()\n",
        "       fake = G(x).detach().cpu()\n",
        "       G.train()\n",
        "     figs=plt.figure(figsize=(10,10))\n",
        "     plt.subplot(1,3,1)\n",
        "     plt.axis(\"off\")\n",
        "     plt.title(\"conditional image (x)\")\n",
        "     plt.imshow(np.transpose(make_grid(x, nrow=1,padding=5, normalize=True).cpu(),(1,2,0)))\n",
        "\n",
        "     plt.subplot(1,3,2)\n",
        "     plt.axis(\"off\")\n",
        "     plt.title(\"fake image\")\n",
        "     plt.imshow(np.transpose(make_grid(fake, nrow=1,padding=5, normalize=True).cpu(),(1,2,0)))\n",
        "\n",
        "     plt.subplot(1,3,3)\n",
        "     plt.axis(\"off\")\n",
        "     plt.title(\"ground truth (y)\")\n",
        "     plt.imshow(np.transpose(make_grid(y, nrow=1,padding=5, normalize=True).cpu(),(1,2,0)))\n",
        "\n",
        "\n",
        "     plt.savefig(os.path.join('./','pix2pix'+\"-\"+str(ep) +\".png\"))\n",
        "\n",
        "     #run['Results'].log(File(f'pix2pix-{str(ep)}.png'))\n",
        "     plt.close()\n",
        "     #img_list.append(figs)\n"
      ]
    },
    {
      "cell_type": "markdown",
      "metadata": {
        "id": "kISQphZoomID"
      },
      "source": [
        "# 3.CycleGAN (Unpaired Image to Image Translation)\n",
        "\n",
        "<br>\n",
        "\n",
        "<img src=\"https://miro.medium.com/max/1838/0*S5gn5i6UhfyoRr9S.png\" border=\"0\">\n",
        "\n",
        "<br>\n",
        "\n",
        "<br>\n",
        "Its an extension of the GAN architecture that involves the simultaneous training\n",
        "of two generator models and two discriminator models.One generator takes images from the first domain as input and outputs images for the second domain, and the other generator takes images from the second domain as input and generates images for the first domain. Discriminator models are then used to determine how plausible the generated images are and update the generator models accordingly  using cycle consistency loss.\n",
        "\n",
        "**Forward Cycle Consistency Loss** https://arxiv.org/abs/1703.10593: \\\n",
        "Input photo of zebra (collection 1) to GAN 1 \\\n",
        "Output photo of horse from GAN 1 \\\n",
        "Input photo of horse from GAN 1 to GAN 2 \\\n",
        "Output photo of zebra from GAN 2 \\\n",
        "Compare photo of zebra (collection 1) to photo of zebra from GAN 2\n",
        "\n",
        "\n",
        "**Backward Cycle Consistency Loss**: \\\n",
        "Input photo of horse (collection 2) to GAN 2 \\\n",
        "Output photo of zebra from GAN 2 \\\n",
        "Input photo of zebra from GAN 2 to GAN 1 \\\n",
        "Output photo of horse from GAN 1  \\\n",
        "Compare photo of horse (collection 2) to photo of horse from GAN 1\n",
        "\n",
        "Applications: Style Transfer, Object Transconfiguration,Photography Enhancement, Season Interchange.\n",
        "\n",
        "<br>\n",
        "\n",
        "<img src=\"https://junyanz.github.io/CycleGAN/images/teaser_high_res.jpg\" border=\"0\">\n",
        "\n",
        "<br>\n",
        "\n",
        "\n"
      ]
    },
    {
      "cell_type": "markdown",
      "metadata": {
        "id": "l429t_53omID"
      },
      "source": [
        "\n",
        "# **Other Popular GANs**:\n",
        "**For the task of image-to-image translation:**\n",
        "\n",
        "StyleGAN\n",
        "https://openaccess.thecvf.com/content_CVPR_2019/papers/Karras_A_Style-Based_Generator_Architecture_for_Generative_Adversarial_Networks_CVPR_2019_paper.pdf\n",
        "\n",
        "<br>\n",
        "\n",
        "<img src=\"https://miro.medium.com/v2/resize:fit:720/format:webp/1*O16MfmqTbD0ENx3pZEJMIA.png\" border=\"0\">\n",
        "\n",
        "<br>\n",
        "\n",
        "\n",
        "StarGAN (For image translation in multiple domains)  https://arxiv.org/pdf/1711.09020.pdf\n",
        "\n",
        "LSGAN  https://openaccess.thecvf.com/content_ICCV_2017/papers/Mao_Least_Squares_Generative_ICCV_2017_paper.pdf\n",
        "\n",
        "DiscoGAN https://proceedings.mlr.press/v70/kim17a/kim17a.pdf\n",
        "\n",
        "\n",
        "\n",
        "**For the task of text-to-image translation:**\n",
        "\n",
        "StackGAN https://arxiv.org/abs/1612.03242\n",
        "\n",
        "\n",
        "**For the task of super-resolution:**\n",
        "\n",
        "SRGAN https://openaccess.thecvf.com/content_cvpr_2017/papers/Ledig_Photo-Realistic_Single_Image_CVPR_2017_paper.pdf\n",
        "Generator Architecture\n",
        "<br>\n",
        "\n",
        "<img src=\"https://blog.paperspace.com/content/images/2021/11/image-1.png\" border=\"0\">\n",
        "\n",
        "<br>\n",
        "<br>\n",
        "\n",
        "<img src=\"https://blog.paperspace.com/content/images/2021/11/image-2.png\">\n",
        "\n",
        "<br>\n",
        "\n",
        "ESRGAN https://openaccess.thecvf.com/content_cvpr_2017/papers/Ledig_Photo-Realistic_Single_Image_CVPR_2017_paper.pdf"
      ]
    },
    {
      "cell_type": "markdown",
      "metadata": {
        "id": "cPq9EUyRomID"
      },
      "source": [
        "# **Quality Assesment**:\n",
        "\n",
        "Ideally GANs should focus on fidelity and diversity of images while generating them. Thus the evaluation metric should evaluate considering both these properties. Two approaches to compare images that are widely used in computer vision are:\n",
        "### **Pixel Distance**:\n",
        "This is a naive distance measure where we subtract two images' pixel values. However, this is not a reliable metric.\n",
        "### **Feature Distance**:\n",
        "Here we use a pre-trained image classification model and use the activation of an intermediate layer. This vector is the high-level representation of the image. Computing a distance metric with such representation gives a stable and reliable metric than the pixel metric.\n",
        "#### **Frechet Inception Distance(FID)** (For images)\n",
        " Frechet Distance is a measure of similarity between curves that takes into account the location and ordering of the points along the curves. It can be used to measure the distance between two distributions as well.\n",
        "\n",
        "****Here, we use the Inception V3 model pre-trained on the Imagenet dataset. The use of activations from the Inception V3 model to summarize each image gives the score its name of “Frechet Inception Distance.”****\n",
        "\n",
        "A **lower** FID score indicates better image quality, meaning the distributionso of fake images are closer to the distributions of real images, in terms of mean and (co)variance.\n",
        "\n",
        "$$\n",
        "\\begin{align}\n",
        "\\text{FID} &= \\| \\mu - \\mu_{w}\\| + tr(C + C_{w} - w(CC_{w})^{1/2}) \\\\\n",
        "\\end{align}\n",
        "$$\n",
        "\n",
        "#### **Frechet  Video Distance(FVD)** (For videos)\n"
      ]
    },
    {
      "cell_type": "markdown",
      "metadata": {
        "id": "ghhgAwa3omID"
      },
      "source": [
        "# **Challenges in GANs**:\n",
        "1. Mode Collapse (Solution: Diversity promoting loss function)\n",
        "\n",
        "2. GANs Training (Problem: Unstable and difficult to train)\n",
        "\n",
        "3. Computational Challenges (Solution: Distributed or parallel computing, model compression)"
      ]
    },
    {
      "cell_type": "markdown",
      "metadata": {
        "id": "XT1pBo_IomIE"
      },
      "source": [
        "# **Execise**"
      ]
    },
    {
      "cell_type": "markdown",
      "metadata": {
        "id": "VKAsUKlzomIE"
      },
      "source": [
        "1. Choose different types of generative models (that you learnt in the lecture) to generate images. Write your opinion about the generated images (for example about the visible artifacts, computational time, visual quality etc).\n",
        "\n",
        "2. Implement Conditional GAN by adding mnist class labels also as input to the model (to generator? discriminator? or both?)\n",
        "\n",
        "3. Investigate the difference of CycleGan, StyleGAN,Least Squares GAN (LSGAN) with the Vanilla GAN. Change the implementation of Vanilla GAN that you just studied above to optimize with CycleGAN objective (HINT:Loss function).\n",
        "\n",
        "4. Implement any sort of style transfer/object transconfiguration by downloading the dataset (of your choice) using a) Vanilla GAN , b) CycleGAN and compare the FID metric of the generated images for both the cases.\n",
        "\n",
        "5. Compare different types of GANs in terms of their training objectives.\n",
        "\n"
      ]
    },
    {
      "cell_type": "markdown",
      "metadata": {},
      "source": [
        "1. Choose different types of generative models (that you learnt in the lecture) to generate images. Write your opinion about the generated images (for example about the visible artifacts, computational time, visual quality etc)."
      ]
    },
    {
      "cell_type": "markdown",
      "metadata": {},
      "source": [
        "Results:\n",
        "\n",
        "- VAEs: generate images relatively quickly and consistently, though the results are often less sharp. This makes them suitable for tasks where speed and stability are prioritized over the highest possible image quality.\n",
        "\n",
        "- GANs: They generate images with high visual fidelity."
      ]
    },
    {
      "cell_type": "markdown",
      "metadata": {},
      "source": [
        "2. Implement Conditional GAN by adding mnist class labels also as input to the model (to generator? discriminator? or both?)"
      ]
    },
    {
      "cell_type": "code",
      "execution_count": 17,
      "metadata": {},
      "outputs": [],
      "source": [
        "import itertools\n",
        "\n",
        "import matplotlib.pyplot as plt\n",
        "import numpy as np\n",
        "import torch\n",
        "import torch.nn as nn\n",
        "from torchvision.datasets import ImageFolder, MNIST\n",
        "from torchvision import transforms\n",
        "from torch import autograd\n",
        "from torch.autograd import Variable\n",
        "from torchvision.utils import make_grid\n",
        "from tqdm.notebook import tqdm\n",
        "\n",
        "%matplotlib inline"
      ]
    },
    {
      "cell_type": "code",
      "execution_count": 2,
      "metadata": {},
      "outputs": [
        {
          "data": {
            "text/plain": [
              "device(type='cuda')"
            ]
          },
          "execution_count": 2,
          "metadata": {},
          "output_type": "execute_result"
        }
      ],
      "source": [
        "device = torch.device(\"cuda\" if torch.cuda.is_available() else \"cpu\")\n",
        "device"
      ]
    },
    {
      "cell_type": "code",
      "execution_count": 3,
      "metadata": {},
      "outputs": [],
      "source": [
        "transform = transforms.ToTensor()"
      ]
    },
    {
      "cell_type": "code",
      "execution_count": 4,
      "metadata": {},
      "outputs": [],
      "source": [
        "batch_size = 32\n",
        "data_loader = torch.utils.data.DataLoader(MNIST('data', train=True, download=True, transform=transform),\n",
        "                                          batch_size=batch_size, shuffle=True)"
      ]
    },
    {
      "cell_type": "code",
      "execution_count": 6,
      "metadata": {},
      "outputs": [],
      "source": [
        "class Discriminator(nn.Module):\n",
        "    def __init__(self):\n",
        "        super().__init__()\n",
        "        \n",
        "        self.label_emb = nn.Embedding(10, 10)\n",
        "        \n",
        "        self.model = nn.Sequential(\n",
        "            nn.Linear(794, 1024),\n",
        "            nn.LeakyReLU(0.2, inplace=True),\n",
        "            nn.Dropout(0.3),\n",
        "            nn.Linear(1024, 512),\n",
        "            nn.LeakyReLU(0.2, inplace=True),\n",
        "            nn.Dropout(0.3),\n",
        "            nn.Linear(512, 256),\n",
        "            nn.LeakyReLU(0.2, inplace=True),\n",
        "            nn.Dropout(0.3),\n",
        "            nn.Linear(256, 1),\n",
        "            nn.Sigmoid()\n",
        "        )\n",
        "    \n",
        "    def forward(self, x, labels):\n",
        "        x = x.view(x.size(0), 784)\n",
        "        c = self.label_emb(labels)\n",
        "        x = torch.cat([x, c], 1)\n",
        "        out = self.model(x)\n",
        "        return out.squeeze()"
      ]
    },
    {
      "cell_type": "code",
      "execution_count": null,
      "metadata": {},
      "outputs": [],
      "source": [
        "class Generator(nn.Module):\n",
        "    def __init__(self):\n",
        "        super().__init__()\n",
        "        \n",
        "        self.label_emb = nn.Embedding(10, 10)\n",
        "        \n",
        "        self.model = nn.Sequential(\n",
        "            nn.Linear(110, 256),\n",
        "            nn.LeakyReLU(0.2, inplace=True),\n",
        "            nn.Linear(256, 512),\n",
        "            nn.LeakyReLU(0.2, inplace=True),\n",
        "            nn.Linear(512, 1024),\n",
        "            nn.LeakyReLU(0.2, inplace=True),\n",
        "            nn.Linear(1024, 784),\n",
        "            nn.Tanh()\n",
        "        )\n",
        "    \n",
        "    def forward(self, z, labels):\n",
        "        z = z.view(z.size(0), 100)\n",
        "        c = self.label_emb(labels)\n",
        "        x = torch.cat([z, c], 1)\n",
        "        out = self.model(x)\n",
        "        return out.view(x.size(0), 28, 28)\n"
      ]
    },
    {
      "cell_type": "code",
      "execution_count": 7,
      "metadata": {},
      "outputs": [],
      "source": [
        "generator = Generator().to(device)\n",
        "discriminator = Discriminator().to(device)"
      ]
    },
    {
      "cell_type": "code",
      "execution_count": 8,
      "metadata": {},
      "outputs": [],
      "source": [
        "criterion = nn.BCELoss()\n",
        "d_optimizer = torch.optim.Adam(discriminator.parameters(), lr=1e-4)\n",
        "g_optimizer = torch.optim.Adam(generator.parameters(), lr=1e-4)"
      ]
    },
    {
      "cell_type": "code",
      "execution_count": 9,
      "metadata": {},
      "outputs": [],
      "source": [
        "def generator_train_step(batch_size, discriminator, generator, g_optimizer, criterion):\n",
        "    g_optimizer.zero_grad()\n",
        "    z = Variable(torch.randn(batch_size, 100)).cuda()\n",
        "    fake_labels = Variable(torch.LongTensor(np.random.randint(0, 10, batch_size))).cuda()\n",
        "    fake_images = generator(z, fake_labels)\n",
        "    validity = discriminator(fake_images, fake_labels)\n",
        "    g_loss = criterion(validity, Variable(torch.ones(batch_size)).cuda())\n",
        "    g_loss.backward()\n",
        "    g_optimizer.step()\n",
        "    return g_loss.item()"
      ]
    },
    {
      "cell_type": "code",
      "execution_count": 10,
      "metadata": {},
      "outputs": [],
      "source": [
        "def discriminator_train_step(batch_size, discriminator, generator, d_optimizer, criterion, real_images, labels):\n",
        "    d_optimizer.zero_grad()\n",
        "\n",
        "    # train with real images\n",
        "    real_validity = discriminator(real_images, labels)\n",
        "    real_loss = criterion(real_validity, Variable(torch.ones(batch_size)).cuda())\n",
        "    \n",
        "    # train with fake images\n",
        "    z = Variable(torch.randn(batch_size, 100)).cuda()\n",
        "    fake_labels = Variable(torch.LongTensor(np.random.randint(0, 10, batch_size))).cuda()\n",
        "    fake_images = generator(z, fake_labels)\n",
        "    fake_validity = discriminator(fake_images, fake_labels)\n",
        "    fake_loss = criterion(fake_validity, Variable(torch.zeros(batch_size)).cuda())\n",
        "    \n",
        "    d_loss = real_loss + fake_loss\n",
        "    d_loss.backward()\n",
        "    d_optimizer.step()\n",
        "    return d_loss.item()"
      ]
    },
    {
      "cell_type": "code",
      "execution_count": null,
      "metadata": {},
      "outputs": [],
      "source": [
        "num_epochs = 50\n",
        "n_critic = 5\n",
        "for epoch in tqdm(range(num_epochs)):\n",
        "    for i, (images, labels) in enumerate(data_loader):\n",
        "        \n",
        "        step = epoch * len(data_loader) + i + 1\n",
        "        real_images = Variable(images).to(device)\n",
        "        labels = Variable(labels).to(device)\n",
        "\n",
        "        discriminator.train()\n",
        "        d_optimizer.zero_grad()\n",
        "        generator.eval()\n",
        "        \n",
        "        d_loss = 0\n",
        "        for _ in range(n_critic):\n",
        "            d_loss = discriminator_train_step(len(real_images), discriminator,\n",
        "                                              generator, d_optimizer, criterion,\n",
        "                                              real_images, labels)\n",
        "        \n",
        "        generator.train()\n",
        "        discriminator.eval()\n",
        "        g_optimizer.zero_grad()\n",
        "\n",
        "        g_loss = generator_train_step(batch_size, discriminator, generator, g_optimizer, criterion)\n",
        "    print(f\"Generative loss: {g_loss}, Discriminative loss: {d_loss / n_critic}\")"
      ]
    },
    {
      "cell_type": "markdown",
      "metadata": {},
      "source": [
        "Labels are added to the conditional GAN in both generator and discriminator parts as it is shown in the code."
      ]
    },
    {
      "cell_type": "markdown",
      "metadata": {},
      "source": [
        "3. Investigate the difference of CycleGan, StyleGAN,Least Squares GAN (LSGAN) with the Vanilla GAN. Change the implementation of Vanilla GAN that you just studied above to optimize with CycleGAN objective (HINT:Loss function).\n",
        "\n",
        "- GAN: consists of a generator and a discriminator. The generator tries to create fake data to pass the discriminator, while the discriminator tries to distinguish real data from fake. The objective is to train both networks until the discriminator can no longer distinguish real data from fake.\n",
        "\n",
        "- cGAN: both the generator and the discriminator are conditioned on some sort of auxiliary information (like a class label). The objective is to learn the data distribution conditioned on this auxiliary information.\n",
        "\n",
        "- CycleGAN: is used for image-to-image translation tasks when paired training data is not available. The objective is to learn mapping functions between two domains such that the distribution of images in one domain matches the other.\n",
        "\n",
        "- StyleGAN: introduces a style-based generator architecture which brings about control over the generated images' disentangled aspects. The objective is to generate high-quality images that capture as many aspects of the real data distribution as possible.\n",
        "\n",
        "- LSGAN: aims to produce higher quality images than the original GAN and also stabilize the training process. It does this by replacing the traditional GAN's discriminator with a least squares loss function.\n",
        "\n",
        "CycleGAN:"
      ]
    },
    {
      "cell_type": "code",
      "execution_count": null,
      "metadata": {},
      "outputs": [],
      "source": [
        "netG_A2B = Generator()\n",
        "netG_B2A = Generator()\n",
        "netD_A = Discriminator()\n",
        "netD_B = Discriminator()"
      ]
    },
    {
      "cell_type": "code",
      "execution_count": 19,
      "metadata": {},
      "outputs": [],
      "source": [
        "# Define the GAN loss and the cycle consistency loss\n",
        "criterion_GAN = torch.nn.MSELoss()\n",
        "criterion_cycle = torch.nn.L1Loss()\n",
        "criterion_identity = torch.nn.L1Loss()"
      ]
    },
    {
      "cell_type": "code",
      "execution_count": 21,
      "metadata": {},
      "outputs": [],
      "source": [
        "optimizer_G = torch.optim.Adam(itertools.chain(netG_A2B.parameters(), netG_B2A.parameters()),\n",
        "                                lr=0.001, betas=(0.5, 0.999))\n",
        "optimizer_D_A = torch.optim.Adam(netD_A.parameters(), lr=0.001, betas=(0.5, 0.999))\n",
        "optimizer_D_B = torch.optim.Adam(netD_B.parameters(), lr=0.001, betas=(0.5, 0.999))"
      ]
    },
    {
      "cell_type": "markdown",
      "metadata": {},
      "source": [
        "In the training cycle:"
      ]
    },
    {
      "cell_type": "code",
      "execution_count": null,
      "metadata": {},
      "outputs": [],
      "source": [
        "for epoch in tqdm(range(50)):\n",
        "    for i, batch in enumerate(data_loader):\n",
        "        real_A = batch['A'].to(device)\n",
        "        real_B = batch['B'].to(device)\n",
        "\n",
        "        # Now train generators G_A and G_B\n",
        "        optimizer_G.zero_grad()\n",
        "\n",
        "        # Identity loss\n",
        "        same_B = netG_A2B(real_B)\n",
        "        loss_identity_B = criterion_identity(same_B, real_B)\n",
        "\n",
        "        same_A = netG_B2A(real_A)\n",
        "        loss_identity_A = criterion_identity(same_A, real_A)\n",
        "\n",
        "        # GAN loss\n",
        "        fake_B = netG_A2B(real_A)\n",
        "        pred_fake = netD_B(fake_B)\n",
        "        loss_GAN_A2B = criterion_GAN(pred_fake, torch.ones_like(pred_fake))\n",
        "\n",
        "        fake_A = netG_B2A(real_B)\n",
        "        pred_fake = netD_A(fake_A)\n",
        "        loss_GAN_B2A = criterion_GAN(pred_fake, torch.ones_like(pred_fake))\n",
        "\n",
        "        # Cycle loss\n",
        "        recovered_A = netG_B2A(fake_B)\n",
        "        loss_cycle_ABA = criterion_cycle(recovered_A, real_A)\n",
        "\n",
        "        recovered_B = netG_A2B(fake_A)\n",
        "        loss_cycle_BAB = criterion_cycle(recovered_B, real_B)\n",
        "\n",
        "        # Build the total loss for discriminators\n",
        "        loss_G = loss_GAN_A2B + loss_GAN_B2A + loss_cycle_ABA + loss_cycle_BAB + loss_identity_A + loss_identity_B\n",
        "        loss_G.backward()\n",
        "        optimizer_G.step()\n",
        "\n",
        "        # Now train the discriminators\n",
        "        # discriminator A\n",
        "        # Real loss\n",
        "        pred_real = netD_A(real_A)\n",
        "        loss_D_real = criterion_GAN(pred_real, torch.ones_like(pred_fake))\n",
        "\n",
        "        # Fake loss\n",
        "        pred_fake = netD_A(fake_A.detach())\n",
        "        loss_D_fake = criterion_GAN(pred_fake, torch.ones_like(pred_fake))\n",
        "\n",
        "        # Total loss\n",
        "        loss_D_A = loss_D_real + loss_D_fake\n",
        "        loss_D_A.backward()\n",
        "        optimizer_D_A.step()\n",
        "\n",
        "        optimizer_D_B.zero_grad()\n",
        "\n",
        "        # Real loss\n",
        "        pred_real = netD_B(real_B)\n",
        "        loss_D_real = criterion_GAN(pred_real, torch.ones_like(pred_fake))\n",
        "        \n",
        "        # Fake loss\n",
        "        pred_fake = netD_B(fake_B.detach())\n",
        "        loss_D_fake = criterion_GAN(pred_fake, torch.ones_like(pred_fake))\n",
        "\n",
        "        # Total loss\n",
        "        loss_D_B = (loss_D_real + loss_D_fake)*0.5\n",
        "        loss_D_B.backward()\n",
        "        optimizer_D_B.step()\n"
      ]
    },
    {
      "cell_type": "markdown",
      "metadata": {},
      "source": [
        "4. Implement any sort of style transfer/object transconfiguration by downloading the dataset (of your choice) using a) Vanilla GAN , b) CycleGAN and compare the FID metric of the generated images for both the cases."
      ]
    },
    {
      "cell_type": "markdown",
      "metadata": {},
      "source": [
        "5. Compare different types of GANs in terms of their training objectives.\n",
        "\n",
        "This question was answered in 3."
      ]
    }
  ],
  "metadata": {
    "colab": {
      "provenance": []
    },
    "kernelspec": {
      "display_name": "Python 3 (ipykernel)",
      "language": "python",
      "name": "python3"
    },
    "language_info": {
      "codemirror_mode": {
        "name": "ipython",
        "version": 3
      },
      "file_extension": ".py",
      "mimetype": "text/x-python",
      "name": "python",
      "nbconvert_exporter": "python",
      "pygments_lexer": "ipython3",
      "version": "3.10.14"
    }
  },
  "nbformat": 4,
  "nbformat_minor": 0
}
