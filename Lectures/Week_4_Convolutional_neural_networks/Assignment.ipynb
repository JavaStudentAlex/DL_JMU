{
  "cells": [
    {
      "cell_type": "markdown",
      "metadata": {
        "id": "Brk7E6ZANZ1C"
      },
      "source": [
        "# Exercise # 3\n",
        "\n",
        "Instructor for Assignment:\n",
        " - George Ciubotariu: george.ciubotariu@uni-wuerzburg.de\n",
        " - Kindly post your questions here: https://wuecampus.uni-wuerzburg.de/moodle/mod/forum/view.php?id=3093380\n",
        "\n",
        "Complete implementation and analysis of building LeNet-5 model from scratch in PyTorch and training on MNIST dataset.\n",
        "\n",
        "In this exercise, you will learn about Convolutional Neural Networks by implementing some layers (focusing mostly on their forward and backpropagation functions). You will also complete the code for visualizations and understanding the inner mechanics of the CNNs.\n",
        "\n",
        "Note: Notation may not be the same as the lecture. In that case, kindly open an issue at the forum. DO NOT CHANGE THE CODE SKELETONS, JUST COMPLETE THE MISSING PARTS, as instructed.\n",
        "\n",
        "Pre-requistes:\n",
        "0. Preferrably, use Google Colab, or a conda environment for easier libraries and dependencies management\n",
        "1. Python >= 3.8\n",
        "2. [torch (PyTorch)](https://pytorch.org/get-started/locally/) -> PyTorch is a library for working with tensors on GPUs (or CPUs; you do not need a GPU for the exericses). This is **the** library for implementing and training deep learning models.\n",
        "3. [Numpy](https://numpy.org/install/) -> Library for working with tensors. It is CPU-only.\n",
        "4. [maplotlib](https://pypi.org/project/matplotlib/) -> Library for creating visualizations. You will not be using this library but it is important to install it.\n",
        "5. [pandas](https://pypi.org/project/pandas/) -> Powerful data structures for data analysis, time series, and statistics.\n",
        "6. [seaborn](https://pypi.org/project/seaborn/) -> Statistical data visualization library.\n",
        "7. [sklearn](https://pypi.org/project/scikit-learn/) -> ML, data mining, and stats library with a lot of mathematical tools.\n",
        "8. [torchinfo](https://pypi.org/project/torchinfo/) -> Model summary in PyTorch, based off of the original torchsummary.\n",
        "9. [torchmetrics](https://pypi.org/project/torchmetrics/) -> PyTorch native Metrics.\n",
        "\n",
        "<font color=\"red\">\n",
        "HOMEWORK:\n",
        "</font>\n",
        "</br>\n",
        "<font color=\"red\">\n",
        "- implement LeNet using Pytorch, and use the existing scripts to train the model and evaluate it.\n",
        "</font>\n",
        "</br>\n",
        "<font color=\"red\">\n",
        "- implement layers from scratch and test your implementation using the existing tests.\n",
        "</font>"
      ]
    },
    {
      "cell_type": "markdown",
      "metadata": {
        "id": "oGwHBOlANh2G"
      },
      "source": [
        "#Dataset Preparation"
      ]
    },
    {
      "cell_type": "markdown",
      "metadata": {
        "id": "vEI2Hvo8G_9h"
      },
      "source": [
        "Among the most well-known datasets in Computer Vision, there is MNIST (Modified National Institute of Standards and Technology database) dataset for digit recognition, introduced in:\n",
        "\n",
        "> Y. Lecun, L. Bottou, Y. Bengio and P. Haffner, \"Gradient-based learning applied to document recognition,\" in Proceedings of the IEEE, vol. 86, no. 11, pp. 2278-2324, Nov. 1998, doi: 10.1109/5.726791.\n",
        "\n",
        "\n",
        "It has a training set of 60,000 examples, and a test set of 10,000 examples.\n",
        "The original black and white (bilevel) images from NIST were size normalized to fit in a 20x20 pixel box while preserving their aspect ratio.\n",
        "The resulting images contain grey levels as a result of the anti-aliasing technique used by the normalization algorithm.\n",
        "The images were centered in a 28x28 image by computing the center of mass of the pixels, and translating the image so as to position this point at the center of the 28x28 field.\n",
        "\n",
        "In this section, you have to run the code snippets, download the dataset using the `torchvision` library (so that you do not have to bother about I/O-level operations on binary data, or organizing and structuring the data). Then, we see check the inner structure of the dataset, and its data types. After coming to grips with the dataset, we follow the basic pipeline of transforming and processing the data, so that an abstract structure may feed it into a CNN.\n",
        "\n",
        "You may notice from the first few lines of dataset analysis that you are working with PIL (`Pillow` lib) images and integer labels (from 0 to 9, representing the digit)."
      ]
    },
    {
      "cell_type": "markdown",
      "metadata": {
        "id": "A-K55PtwNmRB"
      },
      "source": [
        "##Dowload the dataset"
      ]
    },
    {
      "cell_type": "code",
      "execution_count": 1,
      "metadata": {
        "id": "EnRe2pk0Mwqe"
      },
      "outputs": [],
      "source": [
        "from torchvision import datasets"
      ]
    },
    {
      "cell_type": "code",
      "execution_count": 2,
      "metadata": {
        "id": "iogtAbnxNBCe"
      },
      "outputs": [],
      "source": [
        "train_val_dataset = datasets.MNIST(root=\"./datasets/\", train=True, download=True)\n",
        "test_dataset = datasets.MNIST(root=\"./datasets/\", train=False, download=True)"
      ]
    },
    {
      "cell_type": "markdown",
      "metadata": {
        "id": "xfPXL6pyNrXZ"
      },
      "source": [
        "##Analyze the dataset"
      ]
    },
    {
      "cell_type": "code",
      "execution_count": 3,
      "metadata": {
        "id": "TDoK0nPANENX"
      },
      "outputs": [
        {
          "data": {
            "text/plain": [
              "(Dataset MNIST\n",
              "     Number of datapoints: 60000\n",
              "     Root location: ./datasets/\n",
              "     Split: Train,\n",
              " Dataset MNIST\n",
              "     Number of datapoints: 10000\n",
              "     Root location: ./datasets/\n",
              "     Split: Test)"
            ]
          },
          "execution_count": 3,
          "metadata": {},
          "output_type": "execute_result"
        }
      ],
      "source": [
        "train_val_dataset, test_dataset"
      ]
    },
    {
      "cell_type": "code",
      "execution_count": 4,
      "metadata": {
        "id": "4fMyKng4NFM6"
      },
      "outputs": [
        {
          "data": {
            "text/plain": [
              "'0 - zero'"
            ]
          },
          "execution_count": 4,
          "metadata": {},
          "output_type": "execute_result"
        }
      ],
      "source": [
        "class_names = train_val_dataset.classes\n",
        "class_names[0]"
      ]
    },
    {
      "cell_type": "code",
      "execution_count": 5,
      "metadata": {
        "id": "0TlsgspdNHyY"
      },
      "outputs": [
        {
          "data": {
            "text/plain": [
              "{'0 - zero': 0,\n",
              " '1 - one': 1,\n",
              " '2 - two': 2,\n",
              " '3 - three': 3,\n",
              " '4 - four': 4,\n",
              " '5 - five': 5,\n",
              " '6 - six': 6,\n",
              " '7 - seven': 7,\n",
              " '8 - eight': 8,\n",
              " '9 - nine': 9}"
            ]
          },
          "execution_count": 5,
          "metadata": {},
          "output_type": "execute_result"
        }
      ],
      "source": [
        "class_index = train_val_dataset.class_to_idx\n",
        "class_index"
      ]
    },
    {
      "cell_type": "code",
      "execution_count": 6,
      "metadata": {
        "id": "RaQKPQ4aNI6Y"
      },
      "outputs": [
        {
          "data": {
            "text/plain": [
              "(<PIL.Image.Image image mode=L size=28x28>, 5)"
            ]
          },
          "execution_count": 6,
          "metadata": {},
          "output_type": "execute_result"
        }
      ],
      "source": [
        "img, label = train_val_dataset[0]\n",
        "img, label"
      ]
    },
    {
      "cell_type": "code",
      "execution_count": 7,
      "metadata": {
        "id": "Fo1kI2_ZNK94"
      },
      "outputs": [
        {
          "data": {
            "image/png": "[encoded data removed]",
            "text/plain": [
              "<Figure size 640x480 with 1 Axes>"
            ]
          },
          "metadata": {},
          "output_type": "display_data"
        }
      ],
      "source": [
        "import matplotlib.pyplot as plt\n",
        "\n",
        "plt.imshow(img, cmap='gray')\n",
        "plt.title(f\"{class_names[label]}\");"
      ]
    },
    {
      "cell_type": "markdown",
      "metadata": {
        "id": "PkLfNnR2KnYr"
      },
      "source": [
        "So far, we have seen how an image looks to humans, and how the data is structured in this dataset, namely in tuples of 28 by 28 pixels PIL images and their corresponding labelled digit.\n",
        "\n",
        "We are now going to how the images are represented, by displaying the pixel values overlaid onto each of them.\n",
        "\n",
        "The code is relatively straightforward. Since pixels are represented as 8bit values in memory, we have absolute black 0 and absolute white 255.\n",
        "In the figure below we are displaying the luminosity of a pixel and, in order to see their actual numeric value written on top of them, the writing must be inversely proportional to their brightness."
      ]
    },
    {
      "cell_type": "code",
      "execution_count": 8,
      "metadata": {
        "id": "plM9n3XGNN8J"
      },
      "outputs": [],
      "source": [
        "import numpy as np\n",
        "\n",
        "def img_pixel_superimpose(img, ax):\n",
        "    w, h = img.shape\n",
        "    color_map = plt.cm.get_cmap('gray_r')  # gray_reversed\n",
        "    ax.imshow(img, cmap='gray')\n",
        "    for x in range(w):\n",
        "        for y in range(h):\n",
        "            color = color_map(img[x][y])\n",
        "            ax.annotate(str(img[x][y]), xy=(y,x), horizontalalignment='center', verticalalignment='center',\n",
        "                        color=color)\n",
        "            plt.axis(False)"
      ]
    },
    {
      "cell_type": "code",
      "execution_count": 9,
      "metadata": {
        "id": "zGXfbpbdNQDZ"
      },
      "outputs": [
        {
          "name": "stderr",
          "output_type": "stream",
          "text": [
            "/tmp/ipykernel_555/1572773032.py:5: MatplotlibDeprecationWarning: The get_cmap function was deprecated in Matplotlib 3.7 and will be removed two minor releases later. Use ``matplotlib.colormaps[name]`` or ``matplotlib.colormaps.get_cmap(obj)`` instead.\n",
            "  color_map = plt.cm.get_cmap('gray_r')  # gray_reversed\n"
          ]
        },
        {
          "data": {
            "image/png": "[encoded data removed]",
            "text/plain": [
              "<Figure size 1200x1200 with 1 Axes>"
            ]
          },
          "metadata": {},
          "output_type": "display_data"
        }
      ],
      "source": [
        "import torch\n",
        "\n",
        "torch.manual_seed(42)\n",
        "\n",
        "fig = plt.figure(figsize = (12,12))\n",
        "ax0 = fig.add_subplot(1, 1, 1)\n",
        "\n",
        "rand_ind = torch.randint(0, len(train_val_dataset), size=[1]).item()\n",
        "\n",
        "img0 = train_val_dataset.data[rand_ind]\n",
        "img0 = img0.numpy()\n",
        "img_pixel_superimpose(img0, ax0)"
      ]
    },
    {
      "cell_type": "markdown",
      "metadata": {
        "id": "G3PAo1n9MYC6"
      },
      "source": [
        "Lastly, we consider a sample slice of the dataset and display the digits and their labels, so that we gain a better understanding of the complexity of the problem we are dealing with."
      ]
    },
    {
      "cell_type": "code",
      "execution_count": 10,
      "metadata": {
        "id": "tSdm6A8fNRrL"
      },
      "outputs": [
        {
          "data": {
            "image/png": "[encoded data removed]",
            "text/plain": [
              "<Figure size 1600x400 with 20 Axes>"
            ]
          },
          "metadata": {},
          "output_type": "display_data"
        }
      ],
      "source": [
        "torch.manual_seed(42)  # Search on the internet why '42' is special\n",
        "\n",
        "fig = plt.figure(figsize=(16, 4))\n",
        "rows, cols = 2, 10\n",
        "\n",
        "for i in range(1, (rows*cols) + 1):\n",
        "    rand_ind = torch.randint(0, len(train_val_dataset), size=[1]).item()\n",
        "    img, lab = train_val_dataset[rand_ind]\n",
        "    fig.add_subplot(rows, cols, i)\n",
        "    plt.imshow(img, cmap='gray')\n",
        "    plt.title(f\"{class_names[lab]}\")\n",
        "    plt.axis(False)\n",
        "    plt.tight_layout()"
      ]
    },
    {
      "cell_type": "markdown",
      "metadata": {
        "id": "Ag50I5FdNv9h"
      },
      "source": [
        "##Transform the dataset"
      ]
    },
    {
      "cell_type": "markdown",
      "metadata": {
        "id": "B5RcXHeZNGrA"
      },
      "source": [
        "Now that we have understood the basics of our dataset, we are preparing the data for the steps to follow, namely training a LeNet model on the dataset.\n",
        "\n",
        "Since we are going to follow a Pytorch implementation, we are working with `torch` and its `Tensor` data structure.\n",
        "\n",
        "We follow about the same steps as before and notice the differences.\n",
        "\n",
        "ToTensor - converts the before PIL image to a Pytorch tensor.\n",
        "You may take a deeper look into what Tensors are. In short, they are higher-dimension matrices, but that is not the complete definition.\n",
        "\n",
        "Normalize - grants stability in the optimization process, promoting faster convergence during gradient-based training\n",
        "\n",
        "Split - fundamental to the development of robust and reliable machine learning models, we have to test the generalization ablities of our model to perform on unseen data. That means that we may only train on the *training split*, then perform the inference on the *validation split*. After we have achieved a satisfying performance on it, we submit the model to be benchmarked on the *testing split*.\n",
        "In most scenarios, the test data is either not available, or we do not have access to it, so we cannot purposely overfit on it.\n",
        "\n",
        "Dataloader - `torch.utils.data` has already implemented containers for data. They are usually meant to be used with a common iterator API. Depending on the dataloader policy, some implementations may allow random shuffling, different batch sizes(*), or drop the last incomplete batch if desired.\n",
        "\n",
        "(*): Since in Deep Learning the resources are always limited, and it is not feasible to load all the dataset in the RAM at once, we may only use several data instances at a time, therefore splitting the dataset into batches that may fit in the memory and can be processed in reasonable time."
      ]
    },
    {
      "cell_type": "code",
      "execution_count": 11,
      "metadata": {
        "id": "lIOki5H3NUnb"
      },
      "outputs": [],
      "source": [
        "from torchvision import transforms"
      ]
    },
    {
      "cell_type": "markdown",
      "metadata": {
        "id": "F3GPTJwGN0SM"
      },
      "source": [
        "###ToTensor()"
      ]
    },
    {
      "cell_type": "code",
      "execution_count": 12,
      "metadata": {
        "id": "j-QcUsXnN0yQ"
      },
      "outputs": [
        {
          "data": {
            "text/plain": [
              "(Dataset MNIST\n",
              "     Number of datapoints: 60000\n",
              "     Root location: ./datasets/\n",
              "     Split: Train\n",
              "     StandardTransform\n",
              " Transform: ToTensor(),\n",
              " Dataset MNIST\n",
              "     Number of datapoints: 10000\n",
              "     Root location: ./datasets\n",
              "     Split: Test\n",
              "     StandardTransform\n",
              " Transform: ToTensor())"
            ]
          },
          "execution_count": 12,
          "metadata": {},
          "output_type": "execute_result"
        }
      ],
      "source": [
        "train_val_dataset = datasets.MNIST(root=\"./datasets/\", train=True, download=False, transform=transforms.ToTensor())\n",
        "test_dataset = datasets.MNIST(root=\"./datasets\", train=False, download=False, transform=transforms.ToTensor())\n",
        "train_val_dataset, test_dataset"
      ]
    },
    {
      "cell_type": "code",
      "execution_count": 13,
      "metadata": {
        "id": "skFBo33RN8PC"
      },
      "outputs": [
        {
          "data": {
            "text/plain": [
              "(tensor([[[0.0000, 0.0000, 0.0000, 0.0000, 0.0000, 0.0000, 0.0000, 0.0000,\n",
              "           0.0000, 0.0000, 0.0000, 0.0000, 0.0000, 0.0000, 0.0000, 0.0000,\n",
              "           0.0000, 0.0000, 0.0000, 0.0000, 0.0000, 0.0000, 0.0000, 0.0000,\n",
              "           0.0000, 0.0000, 0.0000, 0.0000],\n",
              "          [0.0000, 0.0000, 0.0000, 0.0000, 0.0000, 0.0000, 0.0000, 0.0000,\n",
              "           0.0000, 0.0000, 0.0000, 0.0000, 0.0000, 0.0000, 0.0000, 0.0000,\n",
              "           0.0000, 0.0000, 0.0000, 0.0000, 0.0000, 0.0000, 0.0000, 0.0000,\n",
              "           0.0000, 0.0000, 0.0000, 0.0000],\n",
              "          [0.0000, 0.0000, 0.0000, 0.0000, 0.0000, 0.0000, 0.0000, 0.0000,\n",
              "           0.0000, 0.0000, 0.0000, 0.0000, 0.0000, 0.0000, 0.0000, 0.0000,\n",
              "           0.0000, 0.0000, 0.0000, 0.0000, 0.0000, 0.0000, 0.0000, 0.0000,\n",
              "           0.0000, 0.0000, 0.0000, 0.0000],\n",
              "          [0.0000, 0.0000, 0.0000, 0.0000, 0.0000, 0.0000, 0.0000, 0.0000,\n",
              "           0.0000, 0.0000, 0.0000, 0.0000, 0.0000, 0.0000, 0.0000, 0.0000,\n",
              "           0.0000, 0.0000, 0.0000, 0.0000, 0.0000, 0.0000, 0.0000, 0.0000,\n",
              "           0.0000, 0.0000, 0.0000, 0.0000],\n",
              "          [0.0000, 0.0000, 0.0000, 0.0000, 0.0000, 0.0000, 0.0000, 0.0000,\n",
              "           0.0000, 0.0000, 0.0000, 0.0000, 0.0000, 0.0000, 0.0000, 0.0000,\n",
              "           0.0000, 0.0000, 0.0000, 0.0000, 0.0000, 0.0000, 0.0000, 0.0000,\n",
              "           0.0000, 0.0000, 0.0000, 0.0000],\n",
              "          [0.0000, 0.0000, 0.0000, 0.0000, 0.0000, 0.0000, 0.0000, 0.0000,\n",
              "           0.0000, 0.0000, 0.0000, 0.0000, 0.0118, 0.0706, 0.0706, 0.0706,\n",
              "           0.4941, 0.5333, 0.6863, 0.1020, 0.6510, 1.0000, 0.9686, 0.4980,\n",
              "           0.0000, 0.0000, 0.0000, 0.0000],\n",
              "          [0.0000, 0.0000, 0.0000, 0.0000, 0.0000, 0.0000, 0.0000, 0.0000,\n",
              "           0.1176, 0.1412, 0.3686, 0.6039, 0.6667, 0.9922, 0.9922, 0.9922,\n",
              "           0.9922, 0.9922, 0.8824, 0.6745, 0.9922, 0.9490, 0.7647, 0.2510,\n",
              "           0.0000, 0.0000, 0.0000, 0.0000],\n",
              "          [0.0000, 0.0000, 0.0000, 0.0000, 0.0000, 0.0000, 0.0000, 0.1922,\n",
              "           0.9333, 0.9922, 0.9922, 0.9922, 0.9922, 0.9922, 0.9922, 0.9922,\n",
              "           0.9922, 0.9843, 0.3647, 0.3216, 0.3216, 0.2196, 0.1529, 0.0000,\n",
              "           0.0000, 0.0000, 0.0000, 0.0000],\n",
              "          [0.0000, 0.0000, 0.0000, 0.0000, 0.0000, 0.0000, 0.0000, 0.0706,\n",
              "           0.8588, 0.9922, 0.9922, 0.9922, 0.9922, 0.9922, 0.7765, 0.7137,\n",
              "           0.9686, 0.9451, 0.0000, 0.0000, 0.0000, 0.0000, 0.0000, 0.0000,\n",
              "           0.0000, 0.0000, 0.0000, 0.0000],\n",
              "          [0.0000, 0.0000, 0.0000, 0.0000, 0.0000, 0.0000, 0.0000, 0.0000,\n",
              "           0.3137, 0.6118, 0.4196, 0.9922, 0.9922, 0.8039, 0.0431, 0.0000,\n",
              "           0.1686, 0.6039, 0.0000, 0.0000, 0.0000, 0.0000, 0.0000, 0.0000,\n",
              "           0.0000, 0.0000, 0.0000, 0.0000],\n",
              "          [0.0000, 0.0000, 0.0000, 0.0000, 0.0000, 0.0000, 0.0000, 0.0000,\n",
              "           0.0000, 0.0549, 0.0039, 0.6039, 0.9922, 0.3529, 0.0000, 0.0000,\n",
              "           0.0000, 0.0000, 0.0000, 0.0000, 0.0000, 0.0000, 0.0000, 0.0000,\n",
              "           0.0000, 0.0000, 0.0000, 0.0000],\n",
              "          [0.0000, 0.0000, 0.0000, 0.0000, 0.0000, 0.0000, 0.0000, 0.0000,\n",
              "           0.0000, 0.0000, 0.0000, 0.5451, 0.9922, 0.7451, 0.0078, 0.0000,\n",
              "           0.0000, 0.0000, 0.0000, 0.0000, 0.0000, 0.0000, 0.0000, 0.0000,\n",
              "           0.0000, 0.0000, 0.0000, 0.0000],\n",
              "          [0.0000, 0.0000, 0.0000, 0.0000, 0.0000, 0.0000, 0.0000, 0.0000,\n",
              "           0.0000, 0.0000, 0.0000, 0.0431, 0.7451, 0.9922, 0.2745, 0.0000,\n",
              "           0.0000, 0.0000, 0.0000, 0.0000, 0.0000, 0.0000, 0.0000, 0.0000,\n",
              "           0.0000, 0.0000, 0.0000, 0.0000],\n",
              "          [0.0000, 0.0000, 0.0000, 0.0000, 0.0000, 0.0000, 0.0000, 0.0000,\n",
              "           0.0000, 0.0000, 0.0000, 0.0000, 0.1373, 0.9451, 0.8824, 0.6275,\n",
              "           0.4235, 0.0039, 0.0000, 0.0000, 0.0000, 0.0000, 0.0000, 0.0000,\n",
              "           0.0000, 0.0000, 0.0000, 0.0000],\n",
              "          [0.0000, 0.0000, 0.0000, 0.0000, 0.0000, 0.0000, 0.0000, 0.0000,\n",
              "           0.0000, 0.0000, 0.0000, 0.0000, 0.0000, 0.3176, 0.9412, 0.9922,\n",
              "           0.9922, 0.4667, 0.0980, 0.0000, 0.0000, 0.0000, 0.0000, 0.0000,\n",
              "           0.0000, 0.0000, 0.0000, 0.0000],\n",
              "          [0.0000, 0.0000, 0.0000, 0.0000, 0.0000, 0.0000, 0.0000, 0.0000,\n",
              "           0.0000, 0.0000, 0.0000, 0.0000, 0.0000, 0.0000, 0.1765, 0.7294,\n",
              "           0.9922, 0.9922, 0.5882, 0.1059, 0.0000, 0.0000, 0.0000, 0.0000,\n",
              "           0.0000, 0.0000, 0.0000, 0.0000],\n",
              "          [0.0000, 0.0000, 0.0000, 0.0000, 0.0000, 0.0000, 0.0000, 0.0000,\n",
              "           0.0000, 0.0000, 0.0000, 0.0000, 0.0000, 0.0000, 0.0000, 0.0627,\n",
              "           0.3647, 0.9882, 0.9922, 0.7333, 0.0000, 0.0000, 0.0000, 0.0000,\n",
              "           0.0000, 0.0000, 0.0000, 0.0000],\n",
              "          [0.0000, 0.0000, 0.0000, 0.0000, 0.0000, 0.0000, 0.0000, 0.0000,\n",
              "           0.0000, 0.0000, 0.0000, 0.0000, 0.0000, 0.0000, 0.0000, 0.0000,\n",
              "           0.0000, 0.9765, 0.9922, 0.9765, 0.2510, 0.0000, 0.0000, 0.0000,\n",
              "           0.0000, 0.0000, 0.0000, 0.0000],\n",
              "          [0.0000, 0.0000, 0.0000, 0.0000, 0.0000, 0.0000, 0.0000, 0.0000,\n",
              "           0.0000, 0.0000, 0.0000, 0.0000, 0.0000, 0.0000, 0.1804, 0.5098,\n",
              "           0.7176, 0.9922, 0.9922, 0.8118, 0.0078, 0.0000, 0.0000, 0.0000,\n",
              "           0.0000, 0.0000, 0.0000, 0.0000],\n",
              "          [0.0000, 0.0000, 0.0000, 0.0000, 0.0000, 0.0000, 0.0000, 0.0000,\n",
              "           0.0000, 0.0000, 0.0000, 0.0000, 0.1529, 0.5804, 0.8980, 0.9922,\n",
              "           0.9922, 0.9922, 0.9804, 0.7137, 0.0000, 0.0000, 0.0000, 0.0000,\n",
              "           0.0000, 0.0000, 0.0000, 0.0000],\n",
              "          [0.0000, 0.0000, 0.0000, 0.0000, 0.0000, 0.0000, 0.0000, 0.0000,\n",
              "           0.0000, 0.0000, 0.0941, 0.4471, 0.8667, 0.9922, 0.9922, 0.9922,\n",
              "           0.9922, 0.7882, 0.3059, 0.0000, 0.0000, 0.0000, 0.0000, 0.0000,\n",
              "           0.0000, 0.0000, 0.0000, 0.0000],\n",
              "          [0.0000, 0.0000, 0.0000, 0.0000, 0.0000, 0.0000, 0.0000, 0.0000,\n",
              "           0.0902, 0.2588, 0.8353, 0.9922, 0.9922, 0.9922, 0.9922, 0.7765,\n",
              "           0.3176, 0.0078, 0.0000, 0.0000, 0.0000, 0.0000, 0.0000, 0.0000,\n",
              "           0.0000, 0.0000, 0.0000, 0.0000],\n",
              "          [0.0000, 0.0000, 0.0000, 0.0000, 0.0000, 0.0000, 0.0706, 0.6706,\n",
              "           0.8588, 0.9922, 0.9922, 0.9922, 0.9922, 0.7647, 0.3137, 0.0353,\n",
              "           0.0000, 0.0000, 0.0000, 0.0000, 0.0000, 0.0000, 0.0000, 0.0000,\n",
              "           0.0000, 0.0000, 0.0000, 0.0000],\n",
              "          [0.0000, 0.0000, 0.0000, 0.0000, 0.2157, 0.6745, 0.8863, 0.9922,\n",
              "           0.9922, 0.9922, 0.9922, 0.9569, 0.5216, 0.0431, 0.0000, 0.0000,\n",
              "           0.0000, 0.0000, 0.0000, 0.0000, 0.0000, 0.0000, 0.0000, 0.0000,\n",
              "           0.0000, 0.0000, 0.0000, 0.0000],\n",
              "          [0.0000, 0.0000, 0.0000, 0.0000, 0.5333, 0.9922, 0.9922, 0.9922,\n",
              "           0.8314, 0.5294, 0.5176, 0.0627, 0.0000, 0.0000, 0.0000, 0.0000,\n",
              "           0.0000, 0.0000, 0.0000, 0.0000, 0.0000, 0.0000, 0.0000, 0.0000,\n",
              "           0.0000, 0.0000, 0.0000, 0.0000],\n",
              "          [0.0000, 0.0000, 0.0000, 0.0000, 0.0000, 0.0000, 0.0000, 0.0000,\n",
              "           0.0000, 0.0000, 0.0000, 0.0000, 0.0000, 0.0000, 0.0000, 0.0000,\n",
              "           0.0000, 0.0000, 0.0000, 0.0000, 0.0000, 0.0000, 0.0000, 0.0000,\n",
              "           0.0000, 0.0000, 0.0000, 0.0000],\n",
              "          [0.0000, 0.0000, 0.0000, 0.0000, 0.0000, 0.0000, 0.0000, 0.0000,\n",
              "           0.0000, 0.0000, 0.0000, 0.0000, 0.0000, 0.0000, 0.0000, 0.0000,\n",
              "           0.0000, 0.0000, 0.0000, 0.0000, 0.0000, 0.0000, 0.0000, 0.0000,\n",
              "           0.0000, 0.0000, 0.0000, 0.0000],\n",
              "          [0.0000, 0.0000, 0.0000, 0.0000, 0.0000, 0.0000, 0.0000, 0.0000,\n",
              "           0.0000, 0.0000, 0.0000, 0.0000, 0.0000, 0.0000, 0.0000, 0.0000,\n",
              "           0.0000, 0.0000, 0.0000, 0.0000, 0.0000, 0.0000, 0.0000, 0.0000,\n",
              "           0.0000, 0.0000, 0.0000, 0.0000]]]),\n",
              " 5)"
            ]
          },
          "execution_count": 13,
          "metadata": {},
          "output_type": "execute_result"
        }
      ],
      "source": [
        "img, lab = train_val_dataset[0]\n",
        "img, lab"
      ]
    },
    {
      "cell_type": "code",
      "execution_count": 14,
      "metadata": {
        "id": "epavX-gON-Av"
      },
      "outputs": [
        {
          "data": {
            "text/plain": [
              "(tensor(0.), tensor(1.))"
            ]
          },
          "execution_count": 14,
          "metadata": {},
          "output_type": "execute_result"
        }
      ],
      "source": [
        "img.min(), img.max()  # The ToTensor() transformation scaled down 0-255 --> 0-1"
      ]
    },
    {
      "cell_type": "code",
      "execution_count": 15,
      "metadata": {
        "id": "0iuhEoNMOA3S"
      },
      "outputs": [
        {
          "data": {
            "image/png": "[encoded data removed]",
            "text/plain": [
              "<Figure size 640x480 with 1 Axes>"
            ]
          },
          "metadata": {},
          "output_type": "display_data"
        }
      ],
      "source": [
        "plt.imshow(img.squeeze_(), cmap='gray')\n",
        "plt.title(f\"{class_names[lab]}\");"
      ]
    },
    {
      "cell_type": "markdown",
      "metadata": {
        "id": "rptNMyJGODvU"
      },
      "source": [
        "###Normalization"
      ]
    },
    {
      "cell_type": "code",
      "execution_count": 16,
      "metadata": {
        "id": "vr0M_JPbOCNg"
      },
      "outputs": [
        {
          "name": "stdout",
          "output_type": "stream",
          "text": [
            "torch.Size([60000, 1, 28, 28])\n"
          ]
        }
      ],
      "source": [
        "# Calculate mean and std\n",
        "\n",
        "imgs = torch.stack([img for img, _ in train_val_dataset], dim=0)\n",
        "print(imgs.shape)"
      ]
    },
    {
      "cell_type": "code",
      "execution_count": 17,
      "metadata": {
        "id": "WzJK2r_WOHnj"
      },
      "outputs": [
        {
          "data": {
            "text/plain": [
              "(tensor([0.1307]), tensor([0.3081]))"
            ]
          },
          "execution_count": 17,
          "metadata": {},
          "output_type": "execute_result"
        }
      ],
      "source": [
        "mean = imgs.view(1, -1).mean(dim=1)    # or imgs.mean()\n",
        "std = imgs.view(1, -1).std(dim=1)     # or imgs.std()\n",
        "mean, std"
      ]
    },
    {
      "cell_type": "code",
      "execution_count": 18,
      "metadata": {
        "id": "wpnR9e7nOIrf"
      },
      "outputs": [
        {
          "data": {
            "text/plain": [
              "Compose(\n",
              "    ToTensor()\n",
              "    Normalize(mean=tensor([0.1307]), std=tensor([0.3081]))\n",
              ")"
            ]
          },
          "execution_count": 18,
          "metadata": {},
          "output_type": "execute_result"
        }
      ],
      "source": [
        "mnist_transforms = transforms.Compose([transforms.ToTensor(),\n",
        "                                       transforms.Normalize(mean=mean, std=std)])\n",
        "mnist_transforms\n"
      ]
    },
    {
      "cell_type": "code",
      "execution_count": 19,
      "metadata": {
        "id": "RFEA3fSmOJ-Y"
      },
      "outputs": [
        {
          "data": {
            "text/plain": [
              "(Dataset MNIST\n",
              "     Number of datapoints: 60000\n",
              "     Root location: ./datasets/\n",
              "     Split: Train\n",
              "     StandardTransform\n",
              " Transform: Compose(\n",
              "                ToTensor()\n",
              "                Normalize(mean=tensor([0.1307]), std=tensor([0.3081]))\n",
              "            ),\n",
              " Dataset MNIST\n",
              "     Number of datapoints: 10000\n",
              "     Root location: ./datasets/\n",
              "     Split: Test\n",
              "     StandardTransform\n",
              " Transform: Compose(\n",
              "                ToTensor()\n",
              "                Normalize(mean=tensor([0.1307]), std=tensor([0.3081]))\n",
              "            ))"
            ]
          },
          "execution_count": 19,
          "metadata": {},
          "output_type": "execute_result"
        }
      ],
      "source": [
        "train_val_dataset = datasets.MNIST(root=\"./datasets/\", train=True, download=False, transform=mnist_transforms)\n",
        "test_dataset = datasets.MNIST(root=\"./datasets/\", train=False, download=False, transform=mnist_transforms)\n",
        "train_val_dataset, test_dataset"
      ]
    },
    {
      "cell_type": "code",
      "execution_count": 20,
      "metadata": {
        "id": "4fybWjvwOLSz"
      },
      "outputs": [
        {
          "data": {
            "text/plain": [
              "(tensor([[[-0.4241, -0.4241, -0.4241, -0.4241, -0.4241, -0.4241, -0.4241,\n",
              "           -0.4241, -0.4241, -0.4241, -0.4241, -0.4241, -0.4241, -0.4241,\n",
              "           -0.4241, -0.4241, -0.4241, -0.4241, -0.4241, -0.4241, -0.4241,\n",
              "           -0.4241, -0.4241, -0.4241, -0.4241, -0.4241, -0.4241, -0.4241],\n",
              "          [-0.4241, -0.4241, -0.4241, -0.4241, -0.4241, -0.4241, -0.4241,\n",
              "           -0.4241, -0.4241, -0.4241, -0.4241, -0.4241, -0.4241, -0.4241,\n",
              "           -0.4241, -0.4241, -0.4241, -0.4241, -0.4241, -0.4241, -0.4241,\n",
              "           -0.4241, -0.4241, -0.4241, -0.4241, -0.4241, -0.4241, -0.4241],\n",
              "          [-0.4241, -0.4241, -0.4241, -0.4241, -0.4241, -0.4241, -0.4241,\n",
              "           -0.4241, -0.4241, -0.4241, -0.4241, -0.4241, -0.4241, -0.4241,\n",
              "           -0.4241, -0.4241, -0.4241, -0.4241, -0.4241, -0.4241, -0.4241,\n",
              "           -0.4241, -0.4241, -0.4241, -0.4241, -0.4241, -0.4241, -0.4241],\n",
              "          [-0.4241, -0.4241, -0.4241, -0.4241, -0.4241, -0.4241, -0.4241,\n",
              "           -0.4241, -0.4241, -0.4241, -0.4241, -0.4241, -0.4241, -0.4241,\n",
              "           -0.4241, -0.4241, -0.4241, -0.4241, -0.4241, -0.4241, -0.4241,\n",
              "           -0.4241, -0.4241, -0.4241, -0.4241, -0.4241, -0.4241, -0.4241],\n",
              "          [-0.4241, -0.4241, -0.4241, -0.4241, -0.4241, -0.4241, -0.4241,\n",
              "           -0.4241, -0.4241, -0.4241, -0.4241, -0.4241, -0.4241, -0.4241,\n",
              "           -0.4241, -0.4241, -0.4241, -0.4241, -0.4241, -0.4241, -0.4241,\n",
              "           -0.4241, -0.4241, -0.4241, -0.4241, -0.4241, -0.4241, -0.4241],\n",
              "          [-0.4241, -0.4241, -0.4241, -0.4241, -0.4241, -0.4241, -0.4241,\n",
              "           -0.4241, -0.4241, -0.4241, -0.4241, -0.4241, -0.3859, -0.1950,\n",
              "           -0.1950, -0.1950,  1.1796,  1.3069,  1.8033, -0.0931,  1.6888,\n",
              "            2.8215,  2.7197,  1.1924, -0.4241, -0.4241, -0.4241, -0.4241],\n",
              "          [-0.4241, -0.4241, -0.4241, -0.4241, -0.4241, -0.4241, -0.4241,\n",
              "           -0.4241, -0.0422,  0.0341,  0.7723,  1.5360,  1.7397,  2.7961,\n",
              "            2.7961,  2.7961,  2.7961,  2.7961,  2.4397,  1.7651,  2.7961,\n",
              "            2.6561,  2.0579,  0.3905, -0.4241, -0.4241, -0.4241, -0.4241],\n",
              "          [-0.4241, -0.4241, -0.4241, -0.4241, -0.4241, -0.4241, -0.4241,\n",
              "            0.1996,  2.6052,  2.7961,  2.7961,  2.7961,  2.7961,  2.7961,\n",
              "            2.7961,  2.7961,  2.7961,  2.7706,  0.7596,  0.6196,  0.6196,\n",
              "            0.2887,  0.0723, -0.4241, -0.4241, -0.4241, -0.4241, -0.4241],\n",
              "          [-0.4241, -0.4241, -0.4241, -0.4241, -0.4241, -0.4241, -0.4241,\n",
              "           -0.1950,  2.3633,  2.7961,  2.7961,  2.7961,  2.7961,  2.7961,\n",
              "            2.0961,  1.8924,  2.7197,  2.6434, -0.4241, -0.4241, -0.4241,\n",
              "           -0.4241, -0.4241, -0.4241, -0.4241, -0.4241, -0.4241, -0.4241],\n",
              "          [-0.4241, -0.4241, -0.4241, -0.4241, -0.4241, -0.4241, -0.4241,\n",
              "           -0.4241,  0.5942,  1.5615,  0.9378,  2.7961,  2.7961,  2.1851,\n",
              "           -0.2841, -0.4241,  0.1232,  1.5360, -0.4241, -0.4241, -0.4241,\n",
              "           -0.4241, -0.4241, -0.4241, -0.4241, -0.4241, -0.4241, -0.4241],\n",
              "          [-0.4241, -0.4241, -0.4241, -0.4241, -0.4241, -0.4241, -0.4241,\n",
              "           -0.4241, -0.4241, -0.2459, -0.4113,  1.5360,  2.7961,  0.7214,\n",
              "           -0.4241, -0.4241, -0.4241, -0.4241, -0.4241, -0.4241, -0.4241,\n",
              "           -0.4241, -0.4241, -0.4241, -0.4241, -0.4241, -0.4241, -0.4241],\n",
              "          [-0.4241, -0.4241, -0.4241, -0.4241, -0.4241, -0.4241, -0.4241,\n",
              "           -0.4241, -0.4241, -0.4241, -0.4241,  1.3451,  2.7961,  1.9942,\n",
              "           -0.3986, -0.4241, -0.4241, -0.4241, -0.4241, -0.4241, -0.4241,\n",
              "           -0.4241, -0.4241, -0.4241, -0.4241, -0.4241, -0.4241, -0.4241],\n",
              "          [-0.4241, -0.4241, -0.4241, -0.4241, -0.4241, -0.4241, -0.4241,\n",
              "           -0.4241, -0.4241, -0.4241, -0.4241, -0.2841,  1.9942,  2.7961,\n",
              "            0.4669, -0.4241, -0.4241, -0.4241, -0.4241, -0.4241, -0.4241,\n",
              "           -0.4241, -0.4241, -0.4241, -0.4241, -0.4241, -0.4241, -0.4241],\n",
              "          [-0.4241, -0.4241, -0.4241, -0.4241, -0.4241, -0.4241, -0.4241,\n",
              "           -0.4241, -0.4241, -0.4241, -0.4241, -0.4241,  0.0214,  2.6434,\n",
              "            2.4397,  1.6124,  0.9505, -0.4113, -0.4241, -0.4241, -0.4241,\n",
              "           -0.4241, -0.4241, -0.4241, -0.4241, -0.4241, -0.4241, -0.4241],\n",
              "          [-0.4241, -0.4241, -0.4241, -0.4241, -0.4241, -0.4241, -0.4241,\n",
              "           -0.4241, -0.4241, -0.4241, -0.4241, -0.4241, -0.4241,  0.6069,\n",
              "            2.6306,  2.7961,  2.7961,  1.0905, -0.1059, -0.4241, -0.4241,\n",
              "           -0.4241, -0.4241, -0.4241, -0.4241, -0.4241, -0.4241, -0.4241],\n",
              "          [-0.4241, -0.4241, -0.4241, -0.4241, -0.4241, -0.4241, -0.4241,\n",
              "           -0.4241, -0.4241, -0.4241, -0.4241, -0.4241, -0.4241, -0.4241,\n",
              "            0.1487,  1.9433,  2.7961,  2.7961,  1.4851, -0.0804, -0.4241,\n",
              "           -0.4241, -0.4241, -0.4241, -0.4241, -0.4241, -0.4241, -0.4241],\n",
              "          [-0.4241, -0.4241, -0.4241, -0.4241, -0.4241, -0.4241, -0.4241,\n",
              "           -0.4241, -0.4241, -0.4241, -0.4241, -0.4241, -0.4241, -0.4241,\n",
              "           -0.4241, -0.2204,  0.7596,  2.7834,  2.7961,  1.9560, -0.4241,\n",
              "           -0.4241, -0.4241, -0.4241, -0.4241, -0.4241, -0.4241, -0.4241],\n",
              "          [-0.4241, -0.4241, -0.4241, -0.4241, -0.4241, -0.4241, -0.4241,\n",
              "           -0.4241, -0.4241, -0.4241, -0.4241, -0.4241, -0.4241, -0.4241,\n",
              "           -0.4241, -0.4241, -0.4241,  2.7452,  2.7961,  2.7452,  0.3905,\n",
              "           -0.4241, -0.4241, -0.4241, -0.4241, -0.4241, -0.4241, -0.4241],\n",
              "          [-0.4241, -0.4241, -0.4241, -0.4241, -0.4241, -0.4241, -0.4241,\n",
              "           -0.4241, -0.4241, -0.4241, -0.4241, -0.4241, -0.4241, -0.4241,\n",
              "            0.1614,  1.2306,  1.9051,  2.7961,  2.7961,  2.2106, -0.3986,\n",
              "           -0.4241, -0.4241, -0.4241, -0.4241, -0.4241, -0.4241, -0.4241],\n",
              "          [-0.4241, -0.4241, -0.4241, -0.4241, -0.4241, -0.4241, -0.4241,\n",
              "           -0.4241, -0.4241, -0.4241, -0.4241, -0.4241,  0.0723,  1.4597,\n",
              "            2.4906,  2.7961,  2.7961,  2.7961,  2.7579,  1.8924, -0.4241,\n",
              "           -0.4241, -0.4241, -0.4241, -0.4241, -0.4241, -0.4241, -0.4241],\n",
              "          [-0.4241, -0.4241, -0.4241, -0.4241, -0.4241, -0.4241, -0.4241,\n",
              "           -0.4241, -0.4241, -0.4241, -0.1186,  1.0269,  2.3888,  2.7961,\n",
              "            2.7961,  2.7961,  2.7961,  2.1342,  0.5687, -0.4241, -0.4241,\n",
              "           -0.4241, -0.4241, -0.4241, -0.4241, -0.4241, -0.4241, -0.4241],\n",
              "          [-0.4241, -0.4241, -0.4241, -0.4241, -0.4241, -0.4241, -0.4241,\n",
              "           -0.4241, -0.1313,  0.4160,  2.2870,  2.7961,  2.7961,  2.7961,\n",
              "            2.7961,  2.0961,  0.6069, -0.3986, -0.4241, -0.4241, -0.4241,\n",
              "           -0.4241, -0.4241, -0.4241, -0.4241, -0.4241, -0.4241, -0.4241],\n",
              "          [-0.4241, -0.4241, -0.4241, -0.4241, -0.4241, -0.4241, -0.1950,\n",
              "            1.7524,  2.3633,  2.7961,  2.7961,  2.7961,  2.7961,  2.0579,\n",
              "            0.5942, -0.3095, -0.4241, -0.4241, -0.4241, -0.4241, -0.4241,\n",
              "           -0.4241, -0.4241, -0.4241, -0.4241, -0.4241, -0.4241, -0.4241],\n",
              "          [-0.4241, -0.4241, -0.4241, -0.4241,  0.2760,  1.7651,  2.4524,\n",
              "            2.7961,  2.7961,  2.7961,  2.7961,  2.6815,  1.2687, -0.2841,\n",
              "           -0.4241, -0.4241, -0.4241, -0.4241, -0.4241, -0.4241, -0.4241,\n",
              "           -0.4241, -0.4241, -0.4241, -0.4241, -0.4241, -0.4241, -0.4241],\n",
              "          [-0.4241, -0.4241, -0.4241, -0.4241,  1.3069,  2.7961,  2.7961,\n",
              "            2.7961,  2.2742,  1.2942,  1.2560, -0.2204, -0.4241, -0.4241,\n",
              "           -0.4241, -0.4241, -0.4241, -0.4241, -0.4241, -0.4241, -0.4241,\n",
              "           -0.4241, -0.4241, -0.4241, -0.4241, -0.4241, -0.4241, -0.4241],\n",
              "          [-0.4241, -0.4241, -0.4241, -0.4241, -0.4241, -0.4241, -0.4241,\n",
              "           -0.4241, -0.4241, -0.4241, -0.4241, -0.4241, -0.4241, -0.4241,\n",
              "           -0.4241, -0.4241, -0.4241, -0.4241, -0.4241, -0.4241, -0.4241,\n",
              "           -0.4241, -0.4241, -0.4241, -0.4241, -0.4241, -0.4241, -0.4241],\n",
              "          [-0.4241, -0.4241, -0.4241, -0.4241, -0.4241, -0.4241, -0.4241,\n",
              "           -0.4241, -0.4241, -0.4241, -0.4241, -0.4241, -0.4241, -0.4241,\n",
              "           -0.4241, -0.4241, -0.4241, -0.4241, -0.4241, -0.4241, -0.4241,\n",
              "           -0.4241, -0.4241, -0.4241, -0.4241, -0.4241, -0.4241, -0.4241],\n",
              "          [-0.4241, -0.4241, -0.4241, -0.4241, -0.4241, -0.4241, -0.4241,\n",
              "           -0.4241, -0.4241, -0.4241, -0.4241, -0.4241, -0.4241, -0.4241,\n",
              "           -0.4241, -0.4241, -0.4241, -0.4241, -0.4241, -0.4241, -0.4241,\n",
              "           -0.4241, -0.4241, -0.4241, -0.4241, -0.4241, -0.4241, -0.4241]]]),\n",
              " 5)"
            ]
          },
          "execution_count": 20,
          "metadata": {},
          "output_type": "execute_result"
        }
      ],
      "source": [
        "img, label = train_val_dataset[0]\n",
        "img, label"
      ]
    },
    {
      "cell_type": "code",
      "execution_count": 21,
      "metadata": {
        "id": "x5OOsIfHOMcl"
      },
      "outputs": [
        {
          "data": {
            "text/plain": [
              "(tensor(-0.4241), tensor(2.8215))"
            ]
          },
          "execution_count": 21,
          "metadata": {},
          "output_type": "execute_result"
        }
      ],
      "source": [
        "img.min(), img.max()"
      ]
    },
    {
      "cell_type": "code",
      "execution_count": 22,
      "metadata": {
        "id": "TpNzu5MTOOPk"
      },
      "outputs": [
        {
          "data": {
            "image/png": "[encoded data removed]",
            "text/plain": [
              "<Figure size 640x480 with 1 Axes>"
            ]
          },
          "metadata": {},
          "output_type": "display_data"
        }
      ],
      "source": [
        "plt.imshow(img.squeeze_(), cmap='gray')\n",
        "plt.title(f\"{class_names[label]}\");"
      ]
    },
    {
      "cell_type": "markdown",
      "metadata": {
        "id": "e5Nj1sIyOQ1I"
      },
      "source": [
        "##Split dataset into Train/Val/Test"
      ]
    },
    {
      "cell_type": "code",
      "execution_count": 23,
      "metadata": {
        "id": "cXQpE7onOPPU"
      },
      "outputs": [
        {
          "data": {
            "text/plain": [
              "(<torch.utils.data.dataset.Subset at 0x7efccf4459f0>,\n",
              " <torch.utils.data.dataset.Subset at 0x7efccf445780>)"
            ]
          },
          "execution_count": 23,
          "metadata": {},
          "output_type": "execute_result"
        }
      ],
      "source": [
        "train_size = int(0.9 * len(train_val_dataset))\n",
        "val_size = len(train_val_dataset) - train_size\n",
        "\n",
        "train_dataset, val_dataset = torch.utils.data.random_split(dataset=train_val_dataset, lengths=[train_size, val_size])\n",
        "train_dataset, val_dataset"
      ]
    },
    {
      "cell_type": "code",
      "execution_count": 24,
      "metadata": {
        "id": "BfUtzx2eOSoV"
      },
      "outputs": [
        {
          "data": {
            "text/plain": [
              "(54000, 6000, 10000)"
            ]
          },
          "execution_count": 24,
          "metadata": {},
          "output_type": "execute_result"
        }
      ],
      "source": [
        "len(train_dataset), len(val_dataset), len(test_dataset)"
      ]
    },
    {
      "cell_type": "code",
      "execution_count": 25,
      "metadata": {
        "id": "AVOW2TPXOTn0"
      },
      "outputs": [
        {
          "data": {
            "text/plain": [
              "(54000, 60000)"
            ]
          },
          "execution_count": 25,
          "metadata": {},
          "output_type": "execute_result"
        }
      ],
      "source": [
        "len(train_dataset), len(train_dataset.dataset)  # Remember train_dataset.dataset access parent train_val_dataset"
      ]
    },
    {
      "cell_type": "code",
      "execution_count": 26,
      "metadata": {
        "id": "UkwdYP9gOUq0"
      },
      "outputs": [
        {
          "data": {
            "image/png": "[encoded data removed]",
            "text/plain": [
              "<Figure size 640x480 with 1 Axes>"
            ]
          },
          "metadata": {},
          "output_type": "display_data"
        }
      ],
      "source": [
        "# Validate train dataset is working fine\n",
        "img, label = train_dataset[0]\n",
        "plt.imshow(img.squeeze_(), cmap='gray')\n",
        "plt.title(f\"{class_names[label]}\");"
      ]
    },
    {
      "cell_type": "markdown",
      "metadata": {
        "id": "N_4BlpVROW7y"
      },
      "source": [
        "##Dataloader preparation"
      ]
    },
    {
      "cell_type": "code",
      "execution_count": 27,
      "metadata": {
        "id": "IQGLoaWyOVf0"
      },
      "outputs": [],
      "source": [
        "from torch.utils.data import DataLoader"
      ]
    },
    {
      "cell_type": "code",
      "execution_count": 28,
      "metadata": {
        "id": "jvUCzRJEOYtG"
      },
      "outputs": [
        {
          "data": {
            "text/plain": [
              "(<torch.utils.data.dataloader.DataLoader at 0x7efccf647730>,\n",
              " <torch.utils.data.dataloader.DataLoader at 0x7efccf620eb0>,\n",
              " <torch.utils.data.dataloader.DataLoader at 0x7efccf621750>)"
            ]
          },
          "execution_count": 28,
          "metadata": {},
          "output_type": "execute_result"
        }
      ],
      "source": [
        "BATCH_SIZE = 32\n",
        "\n",
        "train_dataloader = DataLoader(dataset=train_dataset, batch_size=BATCH_SIZE, shuffle=True)\n",
        "val_dataloader = DataLoader(dataset=val_dataset, batch_size=BATCH_SIZE, shuffle=True)\n",
        "test_dataloader = DataLoader(dataset=test_dataset, batch_size=BATCH_SIZE, shuffle=True)\n",
        "train_dataloader, val_dataloader, test_dataloader"
      ]
    },
    {
      "cell_type": "code",
      "execution_count": 29,
      "metadata": {
        "id": "vEwfnJtNOZuH"
      },
      "outputs": [
        {
          "data": {
            "text/plain": [
              "(torch.Size([1, 28, 28]), 5)"
            ]
          },
          "execution_count": 29,
          "metadata": {},
          "output_type": "execute_result"
        }
      ],
      "source": [
        "img, label = train_dataloader.dataset[0]\n",
        "img.shape, label"
      ]
    },
    {
      "cell_type": "code",
      "execution_count": 30,
      "metadata": {
        "id": "zBvLEsrYObo3"
      },
      "outputs": [
        {
          "data": {
            "text/plain": [
              "(1687.5, 187.5, 312.5)"
            ]
          },
          "execution_count": 30,
          "metadata": {},
          "output_type": "execute_result"
        }
      ],
      "source": [
        "no_train_batches = len(train_dataloader.dataset) / train_dataloader.batch_size\n",
        "no_val_batches = len(val_dataloader.dataset) / val_dataloader.batch_size\n",
        "no_test_batches = len(test_dataloader.dataset) / test_dataloader.batch_size\n",
        "\n",
        "# Let's see no of batches that we have now with the current batch-size\n",
        "no_train_batches, no_val_batches, no_test_batches"
      ]
    },
    {
      "cell_type": "code",
      "execution_count": 31,
      "metadata": {
        "id": "_9j0wW_gOdmH"
      },
      "outputs": [
        {
          "data": {
            "text/plain": [
              "(1688, 188, 313)"
            ]
          },
          "execution_count": 31,
          "metadata": {},
          "output_type": "execute_result"
        }
      ],
      "source": [
        "len(train_dataloader), len(val_dataloader), len(test_dataloader)   # Actual lengths show wrapping at the end"
      ]
    },
    {
      "cell_type": "markdown",
      "metadata": {
        "id": "dORXyEYOOgKM"
      },
      "source": [
        "#Model Architecture, Construct Training & Evaluation Pipeline"
      ]
    },
    {
      "cell_type": "markdown",
      "metadata": {
        "id": "3oohkfUZU4yL"
      },
      "source": [
        "<font color=\"red\">TASK: Implement LeNet:</font>\n",
        "</br>\n",
        "<font color=\"red\">Considering the following model scheme, write your own code inside the `__init__` and `forward` functions below.</font>\n",
        "</br>\n",
        "<font color=\"red\">you must use ONLY layers and activation functions from the `torch.nn` module!</font>\n",
        "</br>\n",
        "<font color=\"red\">in the `forward` function return the output value of the CNN by calling the blocks(*) initialized in `__init__`.</font>\n",
        "\n",
        "(*): Blocks can a grouping of several layers and activation functions in a sequential way.\n",
        "\n",
        "- Feed-forward manner\n",
        "\n",
        "A. feature extractor / feature compression\n",
        "- Block 1. 5x5 Conv outputting 6 channels + Tanh activation + 2x2 AvgPool\n",
        "- Block 2. 5x5 Conv outputting 16 channels + Tanh activation + 2x2 AvgPool\n",
        "* **mind that you should get a feature map resolution of 5x5 here, at the end**\n",
        "\n",
        "B. classifier\n",
        "- Adapt 0. Flatten kernel representation of the multidimensional tensor feature maps\n",
        "- Block 1. Fully-connected outputting 120 features + Tanh activation function\n",
        "- Block 2. Fully-connected outputting  84 features + Tanh activation function\n",
        "- Block 3 (output). Fully-connected that returns the probabilities of each of the 10 digits to be the actual one.\n",
        "\n",
        "The beauty of Pytorch is that once you use their pre-defined layers and functions, there is no need to explicitly implement the backpropagation function.\n",
        "You're good to go unless you design your own intricate activation functions that may not be derivable in specific points, or the autograd may face issues computing the gradient."
      ]
    },
    {
      "cell_type": "markdown",
      "metadata": {
        "id": "Y6pauhnwOhis"
      },
      "source": [
        "##LeNet5_V1"
      ]
    },
    {
      "cell_type": "code",
      "execution_count": 32,
      "metadata": {
        "id": "If55jvYHOelm"
      },
      "outputs": [],
      "source": [
        "from torch import nn"
      ]
    },
    {
      "cell_type": "code",
      "execution_count": 33,
      "metadata": {
        "id": "TuvcuUq3OkRG"
      },
      "outputs": [],
      "source": [
        "class LeNet5V1(nn.Module):\n",
        "    def __init__(self):\n",
        "        super(LeNet5V1, self).__init__()\n",
        "        self.features = nn.Sequential(\n",
        "            nn.Conv2d(1, 6, 5),\n",
        "            nn.Tanh(),\n",
        "            nn.AvgPool2d(2, 2),\n",
        "            nn.Conv2d(6, 16, 5),\n",
        "            nn.Tanh(),\n",
        "            nn.AvgPool2d(2, 2)\n",
        "        )\n",
        "\n",
        "        self.classifier = nn.Sequential(\n",
        "            nn.Flatten(),\n",
        "            nn.Linear(16 * 4 * 4, 120, bias=True),\n",
        "            nn.Tanh(),\n",
        "            nn.Linear(120, 84, bias=True),\n",
        "            nn.Tanh(),\n",
        "            nn.Linear(84, 10, bias=True)\n",
        "        )\n",
        "\n",
        "    def forward(self, x):\n",
        "        x = self.features(x)\n",
        "        x = self.classifier(x)\n",
        "        return x\n"
      ]
    },
    {
      "cell_type": "code",
      "execution_count": 34,
      "metadata": {
        "colab": {
          "base_uri": "https://localhost:8080/"
        },
        "id": "6AOV2DhAOlj5",
        "outputId": "a86b9e4e-b04a-4ec1-9f8a-0b0301e921da"
      },
      "outputs": [
        {
          "data": {
            "text/plain": [
              "LeNet5V1(\n",
              "  (features): Sequential(\n",
              "    (0): Conv2d(1, 6, kernel_size=(5, 5), stride=(1, 1))\n",
              "    (1): Tanh()\n",
              "    (2): AvgPool2d(kernel_size=2, stride=2, padding=0)\n",
              "    (3): Conv2d(6, 16, kernel_size=(5, 5), stride=(1, 1))\n",
              "    (4): Tanh()\n",
              "    (5): AvgPool2d(kernel_size=2, stride=2, padding=0)\n",
              "  )\n",
              "  (classifier): Sequential(\n",
              "    (0): Flatten(start_dim=1, end_dim=-1)\n",
              "    (1): Linear(in_features=256, out_features=120, bias=True)\n",
              "    (2): Tanh()\n",
              "    (3): Linear(in_features=120, out_features=84, bias=True)\n",
              "    (4): Tanh()\n",
              "    (5): Linear(in_features=84, out_features=10, bias=True)\n",
              "  )\n",
              ")"
            ]
          },
          "execution_count": 34,
          "metadata": {},
          "output_type": "execute_result"
        }
      ],
      "source": [
        "model_lenet5v1 = LeNet5V1()\n",
        "model_lenet5v1"
      ]
    },
    {
      "cell_type": "markdown",
      "metadata": {
        "id": "6aVIoqCMOoFd"
      },
      "source": [
        "##Model summary"
      ]
    },
    {
      "cell_type": "markdown",
      "metadata": {
        "id": "zKl3WD8YX74A"
      },
      "source": [
        "`torchinfo` will offer us a better structured report of how our model looks like. Moreover, it displays the number of trainable and total parameters, which is crucial in research for benchmarking a model.\n",
        "\n",
        "It performs a dry run, given a batch of a single 28x28 grayscale image.\n",
        "data format: (batch_size, number_of_channels, height, width).\n",
        "This format differs from one framework to another, and it is usually specified in a metadata file, in an internal config parameter, or passed as an explicit format in a function.\n",
        "If there are multiple channels, e.g., 3 or 4, we may be dealing with RGB or RGBA images, as well as YUV, RGGB or RGBD and multiple other data formats."
      ]
    },
    {
      "cell_type": "code",
      "execution_count": 35,
      "metadata": {
        "id": "O8BLc1lIOwoN"
      },
      "outputs": [],
      "source": [
        "#pip install torchinfo"
      ]
    },
    {
      "cell_type": "code",
      "execution_count": 36,
      "metadata": {
        "id": "C1DmZKS9OmtL"
      },
      "outputs": [],
      "source": [
        "from torchinfo import summary"
      ]
    },
    {
      "cell_type": "code",
      "execution_count": 37,
      "metadata": {
        "id": "8eRLVOJGOp6K"
      },
      "outputs": [
        {
          "name": "stderr",
          "output_type": "stream",
          "text": [
            "/home/jovyan/conda/lib/python3.10/site-packages/torch/nn/modules/conv.py:456: UserWarning: Applied workaround for CuDNN issue, install nvrtc.so (Triggered internally at ../aten/src/ATen/native/cudnn/Conv_v8.cpp:84.)\n",
            "  return F.conv2d(input, weight, bias, self.stride,\n"
          ]
        },
        {
          "data": {
            "text/plain": [
              "========================================================================================================================\n",
              "Layer (type (var_name))                  Input Shape          Output Shape         Param #              Trainable\n",
              "========================================================================================================================\n",
              "LeNet5V1 (LeNet5V1)                      [1, 1, 28, 28]       [1, 10]              --                   True\n",
              "├─Sequential (features)                  [1, 1, 28, 28]       [1, 16, 4, 4]        --                   True\n",
              "│    └─Conv2d (0)                        [1, 1, 28, 28]       [1, 6, 24, 24]       156                  True\n",
              "│    └─Tanh (1)                          [1, 6, 24, 24]       [1, 6, 24, 24]       --                   --\n",
              "│    └─AvgPool2d (2)                     [1, 6, 24, 24]       [1, 6, 12, 12]       --                   --\n",
              "│    └─Conv2d (3)                        [1, 6, 12, 12]       [1, 16, 8, 8]        2,416                True\n",
              "│    └─Tanh (4)                          [1, 16, 8, 8]        [1, 16, 8, 8]        --                   --\n",
              "│    └─AvgPool2d (5)                     [1, 16, 8, 8]        [1, 16, 4, 4]        --                   --\n",
              "├─Sequential (classifier)                [1, 16, 4, 4]        [1, 10]              --                   True\n",
              "│    └─Flatten (0)                       [1, 16, 4, 4]        [1, 256]             --                   --\n",
              "│    └─Linear (1)                        [1, 256]             [1, 120]             30,840               True\n",
              "│    └─Tanh (2)                          [1, 120]             [1, 120]             --                   --\n",
              "│    └─Linear (3)                        [1, 120]             [1, 84]              10,164               True\n",
              "│    └─Tanh (4)                          [1, 84]              [1, 84]              --                   --\n",
              "│    └─Linear (5)                        [1, 84]              [1, 10]              850                  True\n",
              "========================================================================================================================\n",
              "Total params: 44,426\n",
              "Trainable params: 44,426\n",
              "Non-trainable params: 0\n",
              "Total mult-adds (M): 0.29\n",
              "========================================================================================================================\n",
              "Input size (MB): 0.00\n",
              "Forward/backward pass size (MB): 0.04\n",
              "Params size (MB): 0.18\n",
              "Estimated Total Size (MB): 0.22\n",
              "========================================================================================================================"
            ]
          },
          "execution_count": 37,
          "metadata": {},
          "output_type": "execute_result"
        }
      ],
      "source": [
        "summary(model=model_lenet5v1, input_size=(1, 1, 28, 28), col_width=20,\n",
        "                  col_names=['input_size', 'output_size', 'num_params', 'trainable'], row_settings=['var_names'], verbose=0)"
      ]
    },
    {
      "cell_type": "markdown",
      "metadata": {
        "id": "UnFKcW4cO323"
      },
      "source": [
        "##Loss, Optimizer, Metrics"
      ]
    },
    {
      "cell_type": "markdown",
      "metadata": {
        "id": "42d8rp5QZSa1"
      },
      "source": [
        "`torchmetrics` - we are going to use the Accuracy metric without bothering to implement it. This will be later useful when logging results.\n",
        "\n",
        "`tensorboard` - The library's SummaryWriter allows for configurable graphical representations without much effort."
      ]
    },
    {
      "cell_type": "code",
      "execution_count": 38,
      "metadata": {
        "id": "9FCwmKKRO9XJ"
      },
      "outputs": [],
      "source": [
        "#pip install torchmetrics"
      ]
    },
    {
      "cell_type": "code",
      "execution_count": 39,
      "metadata": {
        "id": "AP3Z0MBSO1N8"
      },
      "outputs": [],
      "source": [
        "from torchmetrics import Accuracy\n",
        "\n",
        "loss_fn = nn.CrossEntropyLoss()\n",
        "optimizer = torch.optim.Adam(params=model_lenet5v1.parameters(), lr=0.001)\n",
        "\n",
        "accuracy = Accuracy(task='multiclass', num_classes=10)"
      ]
    },
    {
      "cell_type": "markdown",
      "metadata": {
        "id": "MsJS9Jb0O766"
      },
      "source": [
        "##Train model"
      ]
    },
    {
      "cell_type": "code",
      "execution_count": null,
      "metadata": {
        "id": "kacvbP8QO51M"
      },
      "outputs": [],
      "source": [
        "from tqdm.notebook import tqdm\n",
        "from torch.utils.tensorboard import SummaryWriter\n",
        "\n",
        "from datetime import datetime\n",
        "import os\n",
        "\n",
        "# Experiment tracking\n",
        "timestamp = datetime.now().strftime(\"%Y-%m-%d\")\n",
        "experiment_name = \"MNIST\"\n",
        "model_name = \"LeNet5V1\"\n",
        "log_dir = os.path.join(\"runs\", timestamp, experiment_name, model_name)\n",
        "writer = SummaryWriter(log_dir)\n",
        "\n",
        "# device-agnostic setup\n",
        "device = 'cuda' if torch.cuda.is_available() else 'cpu'\n",
        "accuracy = accuracy.to(device)\n",
        "model_lenet5v1 = model_lenet5v1.to(device)\n",
        "\n",
        "EPOCHS = 12\n",
        "\n",
        "for epoch in tqdm(range(EPOCHS)):\n",
        "    # Training loop\n",
        "    train_loss, train_acc = 0.0, 0.0\n",
        "    for X, y in train_dataloader:\n",
        "        X, y = X.to(device), y.to(device)\n",
        "\n",
        "        model_lenet5v1.train()\n",
        "\n",
        "        y_pred = model_lenet5v1(X)\n",
        "\n",
        "        loss = loss_fn(y_pred, y)\n",
        "        train_loss += loss.item()\n",
        "\n",
        "        acc = accuracy(y_pred, y)\n",
        "        train_acc += acc\n",
        "\n",
        "        optimizer.zero_grad()\n",
        "        loss.backward()\n",
        "        optimizer.step()\n",
        "\n",
        "    train_loss /= len(train_dataloader)\n",
        "    train_acc /= len(train_dataloader)\n",
        "\n",
        "    # Validation loop\n",
        "    val_loss, val_acc = 0.0, 0.0\n",
        "    model_lenet5v1.eval()\n",
        "    with torch.inference_mode():\n",
        "        for X, y in val_dataloader:\n",
        "            X, y = X.to(device), y.to(device)\n",
        "\n",
        "            y_pred = model_lenet5v1(X)\n",
        "\n",
        "            loss = loss_fn(y_pred, y)\n",
        "            val_loss += loss.item()\n",
        "\n",
        "            acc = accuracy(y_pred, y)\n",
        "            val_acc += acc\n",
        "\n",
        "        val_loss /= len(val_dataloader)\n",
        "        val_acc /= len(val_dataloader)\n",
        "\n",
        "    writer.add_scalars(main_tag=\"Loss\", tag_scalar_dict={\"train/loss\": train_loss, \"val/loss\": val_loss}, global_step=epoch)\n",
        "    writer.add_scalars(main_tag=\"Accuracy\", tag_scalar_dict={\"train/acc\": train_acc, \"val/acc\": val_acc}, global_step=epoch)\n",
        "\n",
        "    print(f\"Epoch: {epoch}| Train loss: {train_loss: .5f}| Train acc: {train_acc: .5f}| Val loss: {val_loss: .5f}| Val acc: {val_acc: .5f}\")\n"
      ]
    },
    {
      "cell_type": "markdown",
      "metadata": {
        "id": "_Cy7U4LPPIoi"
      },
      "source": [
        "##Save model"
      ]
    },
    {
      "cell_type": "markdown",
      "metadata": {
        "id": "chrmdP2VZpWx"
      },
      "source": [
        "Utils I/O for persistence of trained checkpoints - saves you a lot of time and avoids total loss in case of fatal erorrs (data server becomes unreachable and dataloader fails, therfore causing a chain-reaction-like failure)"
      ]
    },
    {
      "cell_type": "code",
      "execution_count": 41,
      "metadata": {
        "id": "9WDsbebrPHri"
      },
      "outputs": [],
      "source": [
        "from pathlib import Path\n",
        "\n",
        "MODEL_PATH = Path(\"models\")\n",
        "MODEL_PATH.mkdir(parents=True, exist_ok=True)\n",
        "\n",
        "MODEL_NAME = \"lenet5_v1_mnist.pth\"\n",
        "MODEL_SAVE_PATH = MODEL_PATH / MODEL_NAME"
      ]
    },
    {
      "cell_type": "code",
      "execution_count": 42,
      "metadata": {
        "colab": {
          "base_uri": "https://localhost:8080/"
        },
        "id": "TMaiVb5YPNT7",
        "outputId": "89d12fce-ee47-43d2-9c7f-e605f8382291"
      },
      "outputs": [
        {
          "name": "stdout",
          "output_type": "stream",
          "text": [
            "Saving the model: models/lenet5_v1_mnist.pth\n"
          ]
        }
      ],
      "source": [
        "print(f\"Saving the model: {MODEL_SAVE_PATH}\")\n",
        "torch.save(obj=model_lenet5v1.state_dict(), f=MODEL_SAVE_PATH)"
      ]
    },
    {
      "cell_type": "markdown",
      "metadata": {
        "id": "rT5M8fTYPPX6"
      },
      "source": [
        "##Load model"
      ]
    },
    {
      "cell_type": "code",
      "execution_count": 43,
      "metadata": {
        "id": "F4BqX3TtPQGP"
      },
      "outputs": [
        {
          "data": {
            "text/plain": [
              "LeNet5V1(\n",
              "  (features): Sequential(\n",
              "    (0): Conv2d(1, 6, kernel_size=(5, 5), stride=(1, 1))\n",
              "    (1): Tanh()\n",
              "    (2): AvgPool2d(kernel_size=2, stride=2, padding=0)\n",
              "    (3): Conv2d(6, 16, kernel_size=(5, 5), stride=(1, 1))\n",
              "    (4): Tanh()\n",
              "    (5): AvgPool2d(kernel_size=2, stride=2, padding=0)\n",
              "  )\n",
              "  (classifier): Sequential(\n",
              "    (0): Flatten(start_dim=1, end_dim=-1)\n",
              "    (1): Linear(in_features=256, out_features=120, bias=True)\n",
              "    (2): Tanh()\n",
              "    (3): Linear(in_features=120, out_features=84, bias=True)\n",
              "    (4): Tanh()\n",
              "    (5): Linear(in_features=84, out_features=10, bias=True)\n",
              "  )\n",
              ")"
            ]
          },
          "execution_count": 43,
          "metadata": {},
          "output_type": "execute_result"
        }
      ],
      "source": [
        "model_lenet5_v1_mnist_loaded = LeNet5V1()\n",
        "model_lenet5_v1_mnist_loaded.load_state_dict(torch.load(MODEL_SAVE_PATH))\n",
        "model_lenet5_v1_mnist_loaded"
      ]
    },
    {
      "cell_type": "markdown",
      "metadata": {
        "id": "OIjkAfwvPVgG"
      },
      "source": [
        "##Evaluate model"
      ]
    },
    {
      "cell_type": "markdown",
      "metadata": {
        "id": "T7RmfmgdaAfr"
      },
      "source": [
        "Benchmarking on the final test set.\n",
        "\n",
        "We only perform this step after being fully confident that the performance validation set would not get any better using the chosen methodology. Again, We raise awareness that the *testing set* is not for abusively overfitting the models. Usually, in the literature, one model is trained on the train + validation sets and then submitted to be tested on multiple test sets from different datasets, so that the generality of the model is not compromised by only achieving impressive results on a single specific dataset."
      ]
    },
    {
      "cell_type": "code",
      "execution_count": 44,
      "metadata": {
        "id": "7GlAkvWbPWYh"
      },
      "outputs": [
        {
          "name": "stdout",
          "output_type": "stream",
          "text": [
            "Test loss:  0.04196| Test acc:  0.98682\n"
          ]
        }
      ],
      "source": [
        "test_loss, test_acc = 0, 0\n",
        "\n",
        "model_lenet5_v1_mnist_loaded.to(device)\n",
        "\n",
        "model_lenet5_v1_mnist_loaded.eval()\n",
        "with torch.inference_mode():\n",
        "    for X, y in test_dataloader:\n",
        "        X, y = X.to(device), y.to(device)\n",
        "        y_pred = model_lenet5_v1_mnist_loaded(X)\n",
        "\n",
        "        test_loss += loss_fn(y_pred, y)\n",
        "        test_acc += accuracy(y_pred, y)\n",
        "\n",
        "    test_loss /= len(test_dataloader)\n",
        "    test_acc /= len(test_dataloader)\n",
        "\n",
        "print(f\"Test loss: {test_loss: .5f}| Test acc: {test_acc: .5f}\")"
      ]
    },
    {
      "cell_type": "code",
      "execution_count": 45,
      "metadata": {
        "id": "WTcsQQZfTRfz"
      },
      "outputs": [],
      "source": [
        "import pandas as pd\n",
        "import seaborn as sn\n",
        "from sklearn.metrics import accuracy_score, confusion_matrix\n",
        "\n",
        "y_pred = []\n",
        "y_test = []\n",
        "for x, y in test_dataloader:\n",
        "  y_pred.append(model_lenet5_v1_mnist_loaded(x.to(device)).cpu().detach().numpy())\n",
        "  y_test.append(y.detach().numpy())\n",
        "\n",
        "y_pred = np.concatenate(y_pred)\n",
        "y_test = np.concatenate(y_test)"
      ]
    },
    {
      "cell_type": "markdown",
      "metadata": {
        "id": "5CuwnElea31n"
      },
      "source": [
        "Confusion matrix\n",
        "\n",
        "This evaluation method visually displays us the correctly classified digits on the main diagonal and everything else is either a mistaken predictions.\n",
        "\n",
        "For further reference, please use: https://en.wikipedia.org/wiki/Template:Diagnostic_testing_diagram\n",
        "\n",
        "However, in this resource, it is considered that the data is binary. In our multi-class case we have to use something like this: https://www.researchgate.net/figure/Confusion-matrix-for-multi-class_fig1_342719313"
      ]
    },
    {
      "cell_type": "code",
      "execution_count": 46,
      "metadata": {
        "id": "KiHICX2wSUll"
      },
      "outputs": [
        {
          "name": "stdout",
          "output_type": "stream",
          "text": [
            "Classification accuracy: 0.9868\n"
          ]
        },
        {
          "data": {
            "image/png": "[encoded data removed]",
            "text/plain": [
              "<Figure size 640x480 with 2 Axes>"
            ]
          },
          "metadata": {},
          "output_type": "display_data"
        }
      ],
      "source": [
        "# now, we will build a function that outputs the accuracy on the test split inputs,\n",
        "# in text format and will plot a confusion matrix built on the model predictions\n",
        "def plot_evaluation_report(ys, preds):\n",
        "  predictions = np.argmax(preds, axis=1)\n",
        "\n",
        "  print(\"Classification accuracy: {}\".format(accuracy_score(ys, predictions)))\n",
        "  clf_confusion_matrix = confusion_matrix(ys, predictions)\n",
        "  classes = [str(i) for i in range(10)]\n",
        "\n",
        "  df_cmatrix = pd.DataFrame(clf_confusion_matrix, classes, classes)\n",
        "  df_cmatrix.style.format(\"{:.1f}\")\n",
        "\n",
        "  sn.set(font_scale=1.4)\n",
        "  sn.heatmap(df_cmatrix, annot=True, annot_kws={\"size\": 13}, fmt='g')\n",
        "\n",
        "\n",
        "# evaluate the loaded model\n",
        "plot_evaluation_report(y_test, y_pred)"
      ]
    },
    {
      "cell_type": "code",
      "execution_count": 47,
      "metadata": {
        "id": "kBoPJaapPYfN"
      },
      "outputs": [
        {
          "data": {
            "image/png": "[encoded data removed]",
            "text/plain": [
              "<Figure size 1200x400 with 12 Axes>"
            ]
          },
          "metadata": {},
          "output_type": "display_data"
        }
      ],
      "source": [
        "# See random images with their labels\n",
        "torch.manual_seed(42)  # setting random seed\n",
        "import matplotlib.pyplot as plt\n",
        "%matplotlib inline\n",
        "fig = plt.figure(figsize=(12, 4))\n",
        "\n",
        "rows, cols = 2, 6\n",
        "for i in range(1, (rows * cols) + 1):\n",
        "    random_idx = torch.randint(0, len(test_dataset), size=[1]).item()\n",
        "    img, label_gt = test_dataset[random_idx]\n",
        "    img_temp = img.unsqueeze(dim=0).to(device)\n",
        "    # print(img.shape)\n",
        "    label_pred = torch.argmax(model_lenet5_v1_mnist_loaded(img_temp))\n",
        "    fig.add_subplot(rows, cols, i)\n",
        "    img = img.permute(1, 2, 0)    # CWH --> WHC\n",
        "    plt.imshow(img, cmap='gray')\n",
        "    if label_pred == label_gt:\n",
        "        plt.title(class_names[label_pred], color='g')\n",
        "    else:\n",
        "        plt.title(class_names[label_pred], color='r')\n",
        "    plt.axis(False)\n",
        "    plt.tight_layout();"
      ]
    },
    {
      "cell_type": "markdown",
      "metadata": {
        "id": "XKN-Vp1fPman"
      },
      "source": [
        "##Visualize model metrics"
      ]
    },
    {
      "cell_type": "markdown",
      "metadata": {
        "id": "5JUd-1CmcHwz"
      },
      "source": [
        "`tensorboard` is a state-of-the-art visualization toolkit for machine learning experimentation, for easy automatized visualizations of the models' progress over multiple epochs. Metrics must be registered to be recorded and then the configurable interface allows us to observe clear reports and gain better insight into how the models actually learn and perform."
      ]
    },
    {
      "cell_type": "code",
      "execution_count": 48,
      "metadata": {
        "id": "JVBfrgnJPm9h"
      },
      "outputs": [],
      "source": [
        "%load_ext tensorboard"
      ]
    },
    {
      "cell_type": "code",
      "execution_count": null,
      "metadata": {
        "id": "Z-LaHmckPodO"
      },
      "outputs": [],
      "source": [
        "%tensorboard --logdir=\"./runs/\" --port 6006 --host 0.0.0.0 --load_fast=false"
      ]
    },
    {
      "cell_type": "markdown",
      "metadata": {
        "id": "cVWJoXQqPgX_"
      },
      "source": [
        "##Explainable AI (XAI)"
      ]
    },
    {
      "cell_type": "markdown",
      "metadata": {
        "id": "-LMAuUOScrLd"
      },
      "source": [
        "Explainable AI is a set of processes and methods that allows human users to comprehend and trust the results and output created by machine learning algorithms.\n",
        "\n",
        "Explainable AI is used to describe an AI model, its expected impact and potential biases. It helps characterize model accuracy, fairness, transparency and outcomes in AI-powered decision making. Explainable AI is crucial for an organization in building trust and confidence when putting AI models into production. AI explainability also helps an organization adopt a responsible approach to AI development.\n",
        "\n",
        "In the following code snippets we are going to take a look over integrated gradients and feature map activations throughout the model."
      ]
    },
    {
      "cell_type": "markdown",
      "metadata": {
        "id": "8CU2J1LGk2WZ"
      },
      "source": [
        "###Integrated Gradients visualization"
      ]
    },
    {
      "cell_type": "code",
      "execution_count": 50,
      "metadata": {
        "id": "89HocxOmRnHn"
      },
      "outputs": [],
      "source": [
        "#pip install captum"
      ]
    },
    {
      "cell_type": "code",
      "execution_count": 51,
      "metadata": {
        "id": "-jD-qijFPhJW"
      },
      "outputs": [],
      "source": [
        "from captum.attr import IntegratedGradients"
      ]
    },
    {
      "cell_type": "code",
      "execution_count": 52,
      "metadata": {
        "colab": {
          "base_uri": "https://localhost:8080/",
          "height": 316
        },
        "id": "gHmHzvKvPjp2",
        "outputId": "063c43ce-8b4a-4928-d1ee-7ca906bc49a1"
      },
      "outputs": [
        {
          "data": {
            "text/plain": [
              "<matplotlib.image.AxesImage at 0x7efcd40f0340>"
            ]
          },
          "execution_count": 52,
          "metadata": {},
          "output_type": "execute_result"
        },
        {
          "data": {
            "image/png": "[encoded data removed]",
            "text/plain": [
              "<Figure size 640x480 with 2 Axes>"
            ]
          },
          "metadata": {},
          "output_type": "display_data"
        }
      ],
      "source": [
        "device = 'cuda' if torch.cuda.is_available() else 'cpu'\n",
        "torch.manual_seed(108)\n",
        "\n",
        "random_idx = torch.randint(0, len(test_dataset), size=[1]).item()\n",
        "img, label = test_dataset[random_idx]\n",
        "img = img.to(device)\n",
        "\n",
        "# Instantiate an IntegratedGradients object for the model\n",
        "ig = IntegratedGradients(model_lenet5_v1_mnist_loaded)\n",
        "\n",
        "# Compute the attribution scores for the random image\n",
        "attr, delta = ig.attribute(img.unsqueeze(0), target=label, return_convergence_delta=True)\n",
        "\n",
        "# Visualize the attribution scores\n",
        "fig, ax = plt.subplots(1, 2)\n",
        "\n",
        "ax[0].imshow(img.permute(1, 2, 0).to('cpu'), cmap='gray')\n",
        "ax[1].imshow(attr[0][0].detach().to('cpu').numpy(), cmap='gray')"
      ]
    },
    {
      "cell_type": "markdown",
      "metadata": {
        "id": "jhYHx6c6aIJe"
      },
      "source": [
        "###Feature maps visualization"
      ]
    },
    {
      "cell_type": "markdown",
      "metadata": {
        "id": "bSzhwOzYaLYH"
      },
      "source": [
        "####Define layer"
      ]
    },
    {
      "cell_type": "code",
      "execution_count": 53,
      "metadata": {
        "colab": {
          "base_uri": "https://localhost:8080/"
        },
        "id": "uL0WDkLlaH2_",
        "outputId": "510c3adf-bdc9-46f6-b990-b605b66d7545"
      },
      "outputs": [
        {
          "name": "stdout",
          "output_type": "stream",
          "text": [
            "AvgPool2d(kernel_size=2, stride=2, padding=0)\n"
          ]
        }
      ],
      "source": [
        "intermediate_layer = model_lenet5_v1_mnist_loaded.features[2]\n",
        "print(intermediate_layer)"
      ]
    },
    {
      "cell_type": "markdown",
      "metadata": {
        "id": "VONuo2TaaOFG"
      },
      "source": [
        "####Hook setup"
      ]
    },
    {
      "cell_type": "code",
      "execution_count": 54,
      "metadata": {
        "id": "mneaeL7wbI-n"
      },
      "outputs": [],
      "source": [
        "# Hook function\n",
        "def hook_fn(module, input, output):\n",
        "    global layer_output\n",
        "    layer_output = output"
      ]
    },
    {
      "cell_type": "code",
      "execution_count": 55,
      "metadata": {
        "id": "LxsQ5dU9aDJ-"
      },
      "outputs": [],
      "source": [
        "# Register the hook\n",
        "handle = intermediate_layer.register_forward_hook(hook_fn)"
      ]
    },
    {
      "cell_type": "markdown",
      "metadata": {
        "id": "4JtYc4GTbV-K"
      },
      "source": [
        "####Input images"
      ]
    },
    {
      "cell_type": "markdown",
      "metadata": {
        "id": "s14fIKEYdMxR"
      },
      "source": [
        "#####Image"
      ]
    },
    {
      "cell_type": "code",
      "execution_count": 56,
      "metadata": {
        "id": "4qqyjrAudEmx"
      },
      "outputs": [],
      "source": [
        "import torchvision.transforms as transforms\n",
        "\n",
        "def viz_plain(layer_num, img, model, device):\n",
        "\n",
        "    # transforms\n",
        "    transforms_img = transforms.Compose(\n",
        "        [\n",
        "            transforms.ToTensor(),\n",
        "            transforms.Normalize(mean=mean, std=std)\n",
        "        ])\n",
        "    img = transforms_img(img).unsqueeze_(dim=0)\n",
        "\n",
        "    # device-agnostic\n",
        "    model = model.to(device)\n",
        "    img = img.to(device)\n",
        "\n",
        "    # Hook function\n",
        "    feature_maps = []\n",
        "    def hook_fn(module, input, output):\n",
        "        feature_maps.append(output)\n",
        "\n",
        "    layer = model_lenet5_v1_mnist_loaded.features[layer_num]\n",
        "    handle = layer.register_forward_hook(hook_fn)\n",
        "\n",
        "    # Forward pass the image through the model\n",
        "    model.eval()\n",
        "    with torch.inference_mode():\n",
        "        preds = model(img)\n",
        "\n",
        "    # Print the predicted class\n",
        "    pred_cls_idx = preds.argmax(dim=1)\n",
        "    print(pred_cls_idx.cpu().detach().numpy())\n",
        "\n",
        "    # Plot the feature maps\n",
        "    layer_output = feature_maps[0].squeeze()\n",
        "    rows, cols = 4, 4  # this is the number of output feature maps\n",
        "    fig = plt.figure(figsize=(12, 8))\n",
        "    for i in range(1, (rows * cols) + 1):\n",
        "        feature_map = layer_output[i-1, :, :].cpu().numpy()\n",
        "        fig.add_subplot(rows, cols, i)\n",
        "        plt.imshow(feature_map, cmap='viridis')\n",
        "        # plt.tight_layout()\n",
        "        plt.axis(False)"
      ]
    },
    {
      "cell_type": "code",
      "execution_count": 57,
      "metadata": {
        "colab": {
          "base_uri": "https://localhost:8080/",
          "height": 670
        },
        "id": "1YstDymkdPVv",
        "outputId": "f500233b-d193-4200-dbc0-bc1a0070a725"
      },
      "outputs": [
        {
          "name": "stdout",
          "output_type": "stream",
          "text": [
            "[7]\n"
          ]
        },
        {
          "data": {
            "image/png": "[encoded data removed]",
            "text/plain": [
              "<Figure size 1200x800 with 16 Axes>"
            ]
          },
          "metadata": {},
          "output_type": "display_data"
        }
      ],
      "source": [
        "import PIL.Image as Image\n",
        "img, label = test_dataset[0]  # any image\n",
        "first_img = Image.fromarray(img.detach().numpy().squeeze())\n",
        "\n",
        "device = 'cuda' if torch.cuda.is_available() else 'cpu'\n",
        "\n",
        "viz_plain(3, first_img, model_lenet5_v1_mnist_loaded, device)"
      ]
    },
    {
      "cell_type": "markdown",
      "metadata": {
        "id": "lHcg_rnFaa4T"
      },
      "source": [
        "#Implementation from Scratch"
      ]
    },
    {
      "cell_type": "markdown",
      "metadata": {
        "id": "M9P64qKpp0YF"
      },
      "source": [
        "<font color=\"red\">TASK: Implement from scratch using ONLY numpy:</font>\n",
        "</br>\n",
        "<font color=\"red\">Initialize the layer-specific parameters in the `__init__` method.</font>\n",
        "</br>\n",
        "<font color=\"red\">Process a given input in the `forward` method by </font>\n",
        "</br>\n",
        "<font color=\"red\">Propagate the gradient inside the `backward` function below.</font>\n",
        "</br>\n",
        "<font color=\"red\">You may define additional functions inside the classes if they would make your work easier.</font>\n",
        "\n",
        "\n",
        "Now you are asked to implement the Flatten, Pooling, and Dropout layers that you might have come across in other learning journeys of yours.\n",
        "<font color='red'>**The Convolution layer is not mandatory to be implemented. If you want to invest your time into learning more about it, you are welcome.**</font>\n",
        "These are some of the most common types of layers, and they are absolutely necessary to be understood in-depth.\n",
        "\n",
        "In this section we are offering the framework that should let you implement your layers and properly test them.\n",
        "\n",
        "There are plenty of resources online, you are free to use any of them as long as you are able to understand them and explain everything to yourself."
      ]
    },
    {
      "cell_type": "markdown",
      "metadata": {
        "id": "_jdzPPp4ad3k"
      },
      "source": [
        "##Functional Skeleton"
      ]
    },
    {
      "cell_type": "code",
      "execution_count": 58,
      "metadata": {
        "id": "8QKg8zIDadey"
      },
      "outputs": [],
      "source": [
        "def enum(*sequential, **named):\n",
        "    # Enum definition for backcompatibility\n",
        "    enums = dict(zip(sequential, range(len(sequential))), **named)\n",
        "    return type('Enum', (), enums)\n",
        "\n",
        "# Enum to encode the which phase a layer is in at the moment.\n",
        "Phase = enum('train', 'test', 'validation')\n",
        "\n",
        "class BaseLayer:\n",
        "\n",
        "    def __init__(self):\n",
        "        self.phase = Phase.train\n",
        "\n",
        "    def forward(self, x):\n",
        "        \"\"\" Return the result of the forward pass of this layer. Save intermediate results\n",
        "        necessary to compute the gradients in the backward pass.\n",
        "        \"\"\"\n",
        "        raise NotImplementedError('Base class - method is not implemented')\n",
        "\n",
        "    def backward(self, error):\n",
        "        \"\"\" Update the parameters/weights of this layer (if applicable),\n",
        "        and return the gradient with respect to the input.\n",
        "        \"\"\"\n",
        "        raise NotImplementedError('Base class - method is not implemented')"
      ]
    },
    {
      "cell_type": "markdown",
      "metadata": {
        "id": "unso_bQIakKP"
      },
      "source": [
        "##Functional Elements"
      ]
    },
    {
      "cell_type": "markdown",
      "metadata": {
        "id": "zz5OyU6IflYF"
      },
      "source": [
        "### Basic notation and terminology\n",
        "\n",
        "We will work with the following notation and terminology:\n",
        "\n",
        "- $\\mathbf{X}$ and $\\mathbf{x}$ represent the input,\n",
        "- $\\mathbf{W}$ and $\\mathbf{w}$ the trainable weights/parameters and\n",
        "- $\\mathbf{Y}$ and $\\mathbf{y}$ the output of a layer.\n",
        "- $L$ represents the loss. Accordingly,\n",
        "- $E_\\mathbf{Y} = \\frac{\\partial L}{\\partial \\mathbf{Y}}$ is the error passed down from the subsequent layer,\n",
        "- $E_\\mathbf{W} = \\frac{\\partial L}{\\partial \\mathbf{W}}$ the error with respect to the weights and\n",
        "- $E_\\mathbf{X} = \\frac{\\partial L}{\\partial \\mathbf{X}}$ is the error with respect to the input.\n"
      ]
    },
    {
      "cell_type": "markdown",
      "metadata": {
        "id": "9aiqbhUHwKpQ"
      },
      "source": [
        "####Helper Functions just for the sake of running the tests, don't mind them."
      ]
    },
    {
      "cell_type": "code",
      "execution_count": 59,
      "metadata": {
        "id": "KyPGdWnsh2ua"
      },
      "outputs": [],
      "source": [
        "import numpy as np\n",
        "import matplotlib.pyplot as plt\n",
        "import os\n",
        "import gzip\n",
        "import struct\n",
        "from pathlib import Path\n",
        "from random import shuffle\n",
        "from sklearn.preprocessing import OneHotEncoder\n",
        "from sklearn.datasets import load_iris, load_digits\n",
        "\n",
        "class SoftMax:\n",
        "    def __init__(self):\n",
        "        self.prediction = None\n",
        "\n",
        "    def forward(self, input_tensor, label_tensor):\n",
        "        prediction = self.predict(input_tensor)\n",
        "        indices = np.where(label_tensor == 1)\n",
        "        loss = np.sum( - np.log(prediction[indices]))\n",
        "        return loss\n",
        "\n",
        "    def backward(self, label_tensor):\n",
        "        indices = np.where(label_tensor == 1)\n",
        "        error = self.prediction.copy()\n",
        "        error[indices] = error[indices] - 1\n",
        "        return error\n",
        "\n",
        "    def predict(self, input_tensor):\n",
        "        input_tensor = input_tensor - np.max(input_tensor)\n",
        "        denominator = np.tile(np.sum(np.exp(input_tensor),axis = 1),(input_tensor.shape[1],1)).T\n",
        "        prediction = np.exp(input_tensor)/denominator\n",
        "        self.prediction = prediction\n",
        "        return prediction\n",
        "\n",
        "def gradient_check(layers, input_tensor, label_tensor):\n",
        "    epsilon = 1e-5\n",
        "    difference = np.zeros_like(input_tensor)\n",
        "\n",
        "    activation_tensor = input_tensor.copy()\n",
        "    for layer in layers[:-1]:\n",
        "        activation_tensor = layer.forward(activation_tensor)\n",
        "    layers[-1].forward(activation_tensor, label_tensor)\n",
        "\n",
        "    error_tensor = layers[-1].backward(label_tensor)\n",
        "    for layer in reversed(layers[:-1]):\n",
        "        error_tensor = layer.backward(error_tensor)\n",
        "\n",
        "    it = np.nditer(input_tensor, flags=['multi_index'])\n",
        "    while not it.finished:\n",
        "        plus_epsilon = input_tensor.copy()\n",
        "        plus_epsilon[it.multi_index] += epsilon\n",
        "        minus_epsilon = input_tensor.copy()\n",
        "        minus_epsilon[it.multi_index] -= epsilon\n",
        "\n",
        "        analytical_derivative = error_tensor[it.multi_index]\n",
        "\n",
        "        for layer in layers[:-1]:\n",
        "            plus_epsilon = layer.forward(plus_epsilon)\n",
        "            minus_epsilon = layer.forward(minus_epsilon)\n",
        "        upper_error = layers[-1].forward(plus_epsilon, label_tensor)\n",
        "        lower_error = layers[-1].forward(minus_epsilon, label_tensor)\n",
        "\n",
        "        numerical_derivative = (upper_error - lower_error) / (2 * epsilon)\n",
        "\n",
        "        #print('Analytical: ' + str(analytical_derivative) + ' vs Numerical :' + str(numerical_derivative))\n",
        "        normalizing_constant = max(np.abs(analytical_derivative), np.abs(numerical_derivative))\n",
        "\n",
        "        if normalizing_constant < 1e-15:\n",
        "            difference[it.multi_index] = 0\n",
        "        else:\n",
        "            difference[it.multi_index] = np.abs(analytical_derivative - numerical_derivative) / normalizing_constant\n",
        "\n",
        "        it.iternext()\n",
        "    return difference\n",
        "\n",
        "\n",
        "def plot_difference(plot, description, shape, difference, directory):\n",
        "    if plot:\n",
        "        image = difference[0, :]\n",
        "        image = image.reshape(shape)\n",
        "        fig = plt.figure(description)\n",
        "        plt.imshow(image)\n",
        "        plt.colorbar()\n",
        "        fig.savefig(os.path.join(directory, description + \".pdf\"), transparent=True, bbox_inches='tight', pad_inches=0)\n",
        "        plt.close('all')\n",
        "\n",
        "\n",
        "def gradient_check_weights(layers, input_tensor, label_tensor, bias):\n",
        "    epsilon = 1e-5\n",
        "    if bias:\n",
        "        weights = layers[0].bias\n",
        "    else:\n",
        "        weights = layers[0].weights\n",
        "    difference = np.zeros_like(weights)\n",
        "\n",
        "    it = np.nditer(weights, flags=['multi_index'])\n",
        "    while not it.finished:\n",
        "        plus_epsilon = weights.copy()\n",
        "        plus_epsilon[it.multi_index] += epsilon\n",
        "        minus_epsilon = weights.copy()\n",
        "        minus_epsilon[it.multi_index] -= epsilon\n",
        "\n",
        "        activation_tensor = input_tensor.copy()\n",
        "        if bias:\n",
        "            layers[0].bias = weights\n",
        "        else:\n",
        "            layers[0].weights = weights\n",
        "        for layer in layers[:-1]:\n",
        "            activation_tensor = layer.forward(activation_tensor)\n",
        "        layers[-1].forward(activation_tensor, label_tensor)\n",
        "\n",
        "        error_tensor = layers[-1].backward(label_tensor)\n",
        "        for layer in reversed(layers[:-1]):\n",
        "            error_tensor = layer.backward(error_tensor)\n",
        "        if bias:\n",
        "            analytical_derivative = layers[0].get_gradient_bias()\n",
        "        else:\n",
        "            analytical_derivative = layers[0].get_gradient_weights()\n",
        "        analytical_derivative = analytical_derivative[it.multi_index]\n",
        "\n",
        "        if bias:\n",
        "            layers[0].bias = plus_epsilon\n",
        "        else:\n",
        "            layers[0].weights = plus_epsilon\n",
        "        plus_epsilon_activation = input_tensor.copy()\n",
        "        for layer in layers[:-1]:\n",
        "            plus_epsilon_activation = layer.forward(plus_epsilon_activation)\n",
        "\n",
        "        if bias:\n",
        "            layers[0].bias = minus_epsilon\n",
        "        else:\n",
        "            layers[0].weights = minus_epsilon\n",
        "        minus_epsilon_activation = input_tensor.copy()\n",
        "        for layer in layers[:-1]:\n",
        "            minus_epsilon_activation = layer.forward(minus_epsilon_activation)\n",
        "\n",
        "        upper_error = layers[-1].forward(plus_epsilon_activation, label_tensor)\n",
        "        lower_error = layers[-1].forward(minus_epsilon_activation, label_tensor)\n",
        "\n",
        "        numerical_derivative = (upper_error - lower_error) / (2 * epsilon)\n",
        "        normalizing_constant = max(np.abs(analytical_derivative), np.abs(numerical_derivative))\n",
        "\n",
        "        if normalizing_constant < 1e-15:\n",
        "            difference[it.multi_index] = 0\n",
        "        else:\n",
        "            difference[it.multi_index] = np.abs(analytical_derivative - numerical_derivative) / normalizing_constant\n",
        "\n",
        "\n",
        "        it.iternext()\n",
        "    return difference\n",
        "\n",
        "\n",
        "\n",
        "def calculate_accuracy(results, labels):\n",
        "\n",
        "    index_maximum = np.argmax(results, axis=1)\n",
        "    one_hot_vector = np.zeros_like(results)\n",
        "    for i in range(one_hot_vector.shape[0]):\n",
        "        one_hot_vector[i, index_maximum[i]] = 1\n",
        "\n",
        "    correct = 0.\n",
        "    wrong = 0.\n",
        "    for column_results, column_labels in zip(one_hot_vector, labels):\n",
        "        if column_results[column_labels > 0.].all() > 0.:\n",
        "            correct += 1.\n",
        "        else:\n",
        "            wrong += 1.\n",
        "\n",
        "    return correct / (correct + wrong)\n",
        "\n",
        "\n",
        "def shuffle_data(input_tensor, label_tensor):\n",
        "    index_shuffling = [i for i in range(input_tensor.shape[0])]\n",
        "    shuffle(index_shuffling)\n",
        "    shuffled_input = [input_tensor[i, :] for i in index_shuffling]\n",
        "    shuffled_labels = [label_tensor[i, :] for i in index_shuffling]\n",
        "    return (np.array(shuffled_input)), (np.array(shuffled_labels))\n",
        "\n",
        "\n",
        "\n",
        "class RandomData:\n",
        "    def __init__(self, input_size, batch_size, categories):\n",
        "        self.input_size = input_size\n",
        "        self.batch_size = batch_size\n",
        "        self.categories = categories\n",
        "        self.label_tensor = np.zeros([self.batch_size, self.categories])\n",
        "\n",
        "    def forward(self):\n",
        "        input_tensor = np.random.random([self.batch_size, self.input_size])\n",
        "\n",
        "        self.label_tensor = np.zeros([self.batch_size, self.categories])\n",
        "        for i in range(self.batch_size):\n",
        "            self.label_tensor[i, np.random.randint(0, self.categories)] = 1\n",
        "\n",
        "        return input_tensor, self.label_tensor"
      ]
    },
    {
      "cell_type": "markdown",
      "metadata": {
        "id": "DhVssce2bScr"
      },
      "source": [
        "#Layers"
      ]
    },
    {
      "cell_type": "markdown",
      "metadata": {
        "id": "hBKPA0Dek8Eb"
      },
      "source": [
        "## Convolutional layers\n",
        "\n",
        "Convolutional layers are without doubt one of the key elements of the success of neural networks in recent years. The main idea is simple: Convolution with trainable filters. They allow to learn which features are important for a given task in a data driven manner. One of their big advantages is that they inherently consider the spatial layout of the data. The animation below shows an example of a 2-D convolution of a padded input (blue) with a $3 \\times 3$ filter kernel that generates the output in green:\n",
        "\n",
        "\n",
        "![Source](https://upload.wikimedia.org/wikipedia/commons/8/80/Convolution_arithmetic_-_Same_padding_no_strides_transposed.gif \"Conv\")\n",
        "\n",
        "In this tutorial, we will implement a 2-D convolutional layer that is fully connected in the depth/channel direction. Accordingly, given an input with $C$ channels, each filter has a shape of $M \\times N \\times C$, where $M$ and $N$ describe the spacial dimensions of the filter. The number of channels of the output depends on the number of filters  $S$ in the convolutional layer.\n",
        "\n",
        "![Source](https://raw.githubusercontent.com/kbreininger/tutorial-dlframework/83df0a128cdc7a365396d07acbe9f38eaf9b6626/img/conv_forward.png \"conv_forward\")\n",
        "\n",
        "In the example above, the input has $C = 3$ channels and the convolutional layer has $S = 2$ filters fully connected in depth direction. Accordingly, the output has two channels.\n",
        "\n",
        "### Forward pass in a Conv layer:\n",
        "We can compute the forward pass in multiple ways:\n",
        "\n",
        "#### As a special case of a fully connected layer: Matrix multiplication\n",
        "Given a fixed input size, a convolutional layer can be considered as a special case of a fully connected layer. Accordingly, we can express the forward pass using a multiplication with a sparse matrix that represents the local connections within a convolutional layer. This allows us to use the same formulas as in the forward pass for the FC layer. While this presents a rather inefficient implementation, it can help to illustrate the connection between the convolutional and the FC layer.\n",
        "\n",
        "#### Convolution\n",
        "The forward pass of a *convolutional* layer can of course also be straight forwardly implemented as a convolution. Different very efficient low-level implementations of convolutions are available, e.g., implementations that use fast Fourier transforms (FFT), generalized matrix multiplication (GEMM) or that are based on Winograd minimal filtering algorithms$^3$. In this tutorial, we will consider a \"naive\" convolution where we slide a filter over the image to facilitate a better understanding, and subordinate efficiency.\n",
        "\n",
        "#### Cross-correlation\n",
        "Cross-correlation is simply a convolution without a flipped filter. For filters that are initialized randomly, we are free to use cross-correlation instead of convolution in the forward pass. We will see that it saves us a bit of kernel flipping in the backward pass.\n",
        "\n",
        "In all cases, the bias in a convolutional layer is an element-wise addition of a scalar value for each output channel.\n",
        "\n",
        "### Backward pass in a Conv layer:\n",
        "\n",
        "In the backward pass, we need to compute the gradient with respect to the weights of the convolutional kernel, the bias and the input, given the backpropagated error tensor $E_Y$.\n",
        "\n",
        "#### Matrix multiplication\n",
        "Like in the forward pass, we can implement the backward pass by reusing the formulas from the fully connected layer if we express the convolution as a matrix multiplication.\n",
        "\n",
        "#### Convolution/cross-correlation\n",
        "We may want to have a detailed look at the animation above, pick up pen and paper and track which pixels of the input/weight and correspondingly which pixels of the error contribute to respective gradient. For the gradient with respect to the input, we can then see that we need flipped kernel weights in the spacial dimensions (width and height). Alternatively, if we used convolution in the forward pass, we can now apply cross-correlation, and vice versa.\n",
        "\n",
        "Next, let's have a look at the channels: If we have $S$ kernels in the forward pass, and the input has $C$ channels, we obviously need to re-arrange the weights to $C$ kernels with $S$ channels for the backward pass.\n",
        "\n",
        "![Source](https://raw.githubusercontent.com/kbreininger/tutorial-dlframework/83df0a128cdc7a365396d07acbe9f38eaf9b6626/img/restacking_filters.gif \"restacking_filters\")\n",
        "\n",
        "\n",
        "\n",
        "In the animation above shows that channel $c$ of $E_X$ depends only on the channel $c$ of the kernel weights. You can further see how the channels of the kernels can be recombined to compute the gradient with respect to the input.\n",
        "\n",
        "For the gradient with respect to the weights, you can observe that a correlation operation is necessary: First, the input has to be padded with half the kernel width. Then, each channel of the input has to be correlated with the channel $s$ of $E_Y$ to yield the gradient for kernel $s$. We have to compute\n",
        "\n",
        "\\begin{equation}\n",
        "\\frac{\\partial L}{\\partial W_{c, s}} = X_c \\star E_{Y_s} \\end{equation}\n",
        "\n",
        "for $c$ in $\\{1, ..., C\\}$ to stack together $W_s$:\n",
        "\n",
        "![Source](https://raw.githubusercontent.com/kbreininger/tutorial-dlframework/83df0a128cdc7a365396d07acbe9f38eaf9b6626/img/conv_back_weights.png \"conv_back_weights\")\n",
        "\n",
        "If convolution was used in the forward pass, the result of this correlation represents the flipped gradient, so it has to be flipped back before an update. If correlation was used instead, we save this flipping operation. To really understand this, you may want to grab pen and paper again.\n",
        "\n",
        "The gradient with respect to the bias can be computed by simply summing over the respective channel.\n",
        "\n",
        "Like in the fully connected layer, the gradient for the full mini-batch are the sum of the gradient of the elements of the batch.\n",
        "\n",
        "![Source](https://upload.wikimedia.org/wikipedia/commons/0/04/Convolution_arithmetic_-_Padding_strides.gif \"Conv\")\n",
        "\n",
        "\n",
        "A strided convolution can be used to downsample the input. From a mathematical perspective, this can be expressed as a convolution followed by subsampling. Similarly, in the backward pass, $E_Y$ is first upsampled (introducing zeros), and then processed as before.\n",
        "\n",
        "### Padding\n",
        "In this tutorial, we will restrict the padding strategy to \"same\" padding, meaning the input will be padded with zeros such that output after the convolution has the same size as the original input.\n",
        "\n",
        "### Reshaping\n",
        "Convolutional layers inherently expect the input to have a certain spatial layout with possibly arbitrary size, which is different to FC layers that expect a vector of fixed size. There are two common ways to make these operations interoperable:\n",
        "\n",
        " - Flatten the input before passing it to an FC layer\n",
        " - Have the convolutional layers reshape the input to the correct spatial layout\n",
        "\n",
        "Here, we will implement the first option. To this end, a FlattenLayer is introduced with the sole purpose of reshaping the input to be compatible with FC layers. As no computation is involved, the backward pass simply consists of reversing the reshaping.\n",
        "\n",
        "### Implementation task\n",
        "\n",
        "In the following, implement the classes ```FlattenLayer``` and ```ConvolutionalLayer``` as described above. The necessary parameters are further described in the method documentation.\n",
        "\n",
        "Note: If you use 3D convolution/correlation (which makes sense from an implementation perspective), keep in mind that you potentially need to compensate for \"unnecessary\" flipping in the channel dimension in your implementation. Check your implementation by running the unit tests in the subsequent cell.\n",
        "\n",
        "$^3$ Lavin A., Gray S. Fast Algorithms for Convolutional Neural Networks. In Proc. CVPR, 2016. arXiv:1509.09308."
      ]
    },
    {
      "cell_type": "code",
      "execution_count": 60,
      "metadata": {
        "id": "emhHXmgildHx"
      },
      "outputs": [],
      "source": [
        "class Initializer:\n",
        "    \"\"\" Base class for initializers. \"\"\"\n",
        "    def initialize(self, weight_shape):\n",
        "        \"\"\" Return weights initialized according to the subclass definition. \n",
        "            Required to work for arbitrary weight shapes.\n",
        "            Base class. \n",
        "        \"\"\"\n",
        "        \n",
        "        # Raises an exeption in base class.\n",
        "        raise NotImplementedError('Method is not implemented')\n",
        "\n",
        "        \n",
        "class Const(Initializer):\n",
        "    \n",
        "    def __init__(self, value):\n",
        "        \"\"\" Create a constant initializer.\n",
        "            params: value (float): constant that is used for initialization of weights\n",
        "        \"\"\"\n",
        "        self.value = value\n",
        "\n",
        "    def initialize(self, weight_shape):\n",
        "        \"\"\" Return a new array of weights initialized with a constant value provided by self.value.\n",
        "            param: weight_shape: shape of the new array\n",
        "            returns (np.ndarray): array of the given shape\n",
        "        \"\"\"\n",
        "        return np.full(weight_shape, self.value)\n",
        "\n",
        "\n",
        "class UniformRandom(Initializer):\n",
        "    \n",
        "    def initialize(self, weight_shape):\n",
        "        \"\"\" Return a new array of weights initialized by drawing from a uniform distribution with range [0, 1].\n",
        "            param: weight_shape: shape of new array\n",
        "            returns (np.ndarray): array of the given shape\n",
        "        \"\"\"\n",
        "        return np.random.uniform(0, 1, weight_shape)\n",
        "\n",
        "\n",
        "class FlattenLayer(BaseLayer):\n",
        "    def __init__(self):\n",
        "        self.dimensions = None\n",
        "\n",
        "    def forward(self, x):\n",
        "        \"\"\" Return a flattened version of the input.\n",
        "            param: x (np.ndarray): input, of shape [b, n_channels, p, q] where b is the batch size,\n",
        "                   n_channels is the number of channels and p x q is the image size\n",
        "            returns (np.ndarray): a flattened representation of x of shape [b, v]\n",
        "                   where b is the batch size and v is the output size = n_channels * p * q\n",
        "        \"\"\"\n",
        "        self.dimensions = x.shape\n",
        "        return x.reshape(x.shape[0], -1)\n",
        "\n",
        "    def backward(self, error):\n",
        "        \"\"\" Return the gradient with respect to the input.\n",
        "            param: error (np.ndarray): the gradient passed down from the subsequent layer, of shape [b, m],\n",
        "                   where b is the batch size and m is the output size with m = n_channels * p * q from\n",
        "                   the forward pass\n",
        "            returns (np.ndarray): the error with restored dimensions from the forward pass, i.e. with\n",
        "                   shape [b, n_channels, p, q] where b is the batch size, n_channels is the number of\n",
        "                   channels and p x q is the image size\n",
        "        \"\"\"\n",
        "        return error.reshape(self.dimensions)\n",
        "\n",
        "\n",
        "class ConvolutionalLayer(BaseLayer):\n",
        "\n",
        "    def __init__(self, stride_shape, kernel_shape, n_kernels, learning_rate, weights_initializer=UniformRandom(), bias_initializer=Const(0.1)):\n",
        "        \"\"\"\n",
        "            param: stride: tuple in the form of (np, nq) which denote the subsampling factor of the\n",
        "                   convolution operation in the spatial dimensions\n",
        "            param: kernel_shape: integer tuple in the form of (n_channels, m, n) where n_channels is\n",
        "                   the number of input channels and m x n is the size of the filter kernels\n",
        "            param: n_kernels (int): number of kernels and therefore the number of output channels\n",
        "            param: learning_rate (float): learning rate of this layer\n",
        "            param: weights_initializer: initializer object for the filter weights\n",
        "            param: bias_initializer: initializer object for the bias\n",
        "        \"\"\"\n",
        "        super().__init__()\n",
        "        self.stride_width, self.stride_height = stride_shape\n",
        "        self.in_channels, self.kernel_width, self.kernel_height = kernel_shape\n",
        "        self.out_channels = n_kernels\n",
        "        self.leaning_rate = learning_rate\n",
        "        self.weights = weights_initializer.initialize((n_kernels, *kernel_shape))\n",
        "        self.bias = bias_initializer.initialize((n_kernels,))\n",
        "        \n",
        "        # define properties which will be defined later\n",
        "        self.input = None\n",
        "        self.output = None\n",
        "        self.grad_weights = None\n",
        "        self.grad_bias = None\n",
        "\n",
        "    def forward(self, x):\n",
        "        \"\"\" Return the result of the forward pass of the convolutional layer.\n",
        "            param: x(np.ndarray): input, of shape [b, n_channels, p, q],  where b is the batch size,\n",
        "                   n_channels is the number of input channels and p x q is the image size\n",
        "            returns (np.ndarray): result of the forward pass, of shape (b, n_kernels, p', q')\n",
        "                   where b is the batch size, n_kernels is the number of kernels in this layer and\n",
        "                   p' x q' is the output image size (which depends on the stride)\n",
        "        \"\"\"\n",
        "        self.input = x    \n",
        "        batch_size, _, image_width, image_height = x.shape\n",
        "        out_width = (image_width - self.kernel_width) // self.stride_width + 1\n",
        "        out_height = (image_height - self.kernel_height) // self.stride_height + 1\n",
        "\n",
        "        out = np.zeros((batch_size, self.out_channels, out_width, out_height))\n",
        "\n",
        "        for b in range(batch_size):\n",
        "            for k in range(self.out_channels):\n",
        "                for i in range(out_width):\n",
        "                    for j in range(out_height):\n",
        "                        out[b, k, i, j] = np.sum(\n",
        "                            x[b, :, i * self.stride_width:i * self.stride_width + self.kernel_width, j * self.stride_height:j * self.stride_height + self.kernel_height] * self.weights[k]) + self.bias[k]\n",
        "        self.out = out\n",
        "        return out\n",
        "\n",
        "    def backward(self, error):\n",
        "        \"\"\" Update the weights of this layer and return the gradient with respect to the input.\n",
        "            param: error (np.ndarray): of shape (b, n_kernels, p', q') where b is the batch size, n_kernels\n",
        "                   is the number of kernels and p' x q' is the spacial error size (depends on the stride)\n",
        "            returns (np.ndarray): the gradient with respect to the input, of shape (b, n_channels, p, q)\n",
        "                   where b is the batch size, n_channels is the number of input channels to this layer and\n",
        "                   p x q is the image size.\n",
        "        \"\"\"\n",
        "        batch_size, _, out_width, out_height = error.shape\n",
        "        _, _, image_width, image_height = self.input.shape\n",
        "\n",
        "        grad_input = np.zeros_like(self.input)\n",
        "        self.grad_weights = np.zeros_like(self.weights)\n",
        "        self.grad_bias = np.zeros_like(self.bias)\n",
        "\n",
        "        for b in range(batch_size):\n",
        "            for k in range(self.out_channels):\n",
        "                for i in range(out_width):\n",
        "                    for j in range(out_height):\n",
        "                        grad_input[b, :, i * self.stride_width:i * self.stride_width + self.kernel_width, j * self.stride_height:j * self.stride_height + self.kernel_height] += \\\n",
        "                            self.weights[k] * error[b, k, i, j]\n",
        "                        self.grad_weights[k] += self.input[b, :, i * self.stride_width:i * self.stride_width + self.kernel_width, j * self.stride_height:j * self.stride_height + self.kernel_height] * \\\n",
        "                                               error[b, k, i, j]\n",
        "                self.grad_bias[k] += np.sum(error[b, k])\n",
        "\n",
        "        # Update weights and bias\n",
        "        self.weights -= self.learning_rate * self.grad_weights\n",
        "        self.bias -= self.learning_rate * self.grad_bias\n",
        "\n",
        "        return grad_input\n",
        "\n",
        "    def get_gradient_weights(self):\n",
        "        \"\"\" Returns the gradient with respect to the weights from the last call of backward() \"\"\"\n",
        "        return self.grad_weights\n",
        "\n",
        "    def get_gradient_bias(self):\n",
        "        \"\"\" Returns the gradient with respect to the bias from the last call of backward() \"\"\"\n",
        "        return self.grad_bias\n",
        "\n",
        "    def initialize(self, weights_initializer, bias_initializer):\n",
        "        \"\"\" Initializes the weights/bias of this layer with the given initializers.\n",
        "            param: weights_initializer: object providing a method weights_initializer.initialize(weights_shape)\n",
        "                   which will return initialized weights with the given shape\n",
        "            param: bias_initializer: object providing a method bias_initializer.initialize(bias_shape)\n",
        "                   which will return an initialized bias with the given shape\n",
        "        \"\"\"\n",
        "        self.weights = weights_initializer.initialize((self.out_channels, self.in_channels, self.kernel_width, self.kernel_height))\n",
        "        self.bias = bias_initializer.initialize((self.out_channels,))"
      ]
    },
    {
      "cell_type": "markdown",
      "metadata": {
        "id": "JdpsKvXZ5ui_"
      },
      "source": [
        "##MaxPool\n",
        "\n",
        "## Pooling Layers\n",
        "\n",
        "As alternative to striding in a convolutional layer, specific pooling layers can be used to downsample the data and condense spacial information. We will look at max pooling as one example. In the forward pass, the output for each pixel is the maximum value in a neighborhood of the corresponding input pixel, calculated separately for every channel. The downsampling is again achieved by using a stride > 1.\n",
        "\n",
        "The above example shows maxpooling with a neighborhood of $3 \\times 3$ and a stride of $[1, 1]$.\n",
        "\n",
        "The maximum operation can be thought of as an on/off switch for the backpropagation of the gradient for each pixel. We therefore need to store the location of the maximum value in the forward pass. Since the layer has no trainable parameters, we only need to compute the gradient with respect to the input. In the backward pass, the subgradient is given by the colloquial rule \"the winner takes it all\". The error is routed only towards the maximum locations; for all other input pixels, the gradient is zero. If the stride is smaller than the neighborhood, the routed gradients for the respective pixels are summed up.\n",
        "\n",
        "### Implementation task\n",
        "\n",
        "In the following, implement the class ```MaxPoolLayer```. Check your implementation as usual by running the unittests in the cell below the implementation."
      ]
    },
    {
      "cell_type": "code",
      "execution_count": 61,
      "metadata": {
        "id": "lT3uJgcg6jK7"
      },
      "outputs": [],
      "source": [
        "class MaxPoolLayer(BaseLayer):\n",
        "\n",
        "    def __init__(self, neighborhood=(2, 2), stride=(2, 2)):\n",
        "        \"\"\" Max pooling layer.\n",
        "           param: neighborhood: tuple with shape (sp, sq) which denote the kernel size of the pooling operation in\n",
        "           the spatial dimensions\n",
        "           param: stride: tuple with shape (np, nq) which denote the subsampling factor of the pooling operation in\n",
        "           the spacial dimensions\n",
        "        \"\"\"\n",
        "        self.pool_height, self.pool_width = neighborhood\n",
        "        self.stride_height, self.stride_width = stride\n",
        "\n",
        "        self.input = None\n",
        "        self.argmax = None\n",
        "\n",
        "    def forward(self, x):\n",
        "        \"\"\" Return the result of maxpooling on the input.\n",
        "            param: x (np.ndarray) with shape (b, n_channels, p, q) where b is the batch size,\n",
        "                   n_channels is the number of input channels and p x q is the image size\n",
        "            returns (np.ndarray): the result of max pooling, of shape (b, n_channels, p', q')\n",
        "                   where b is the batch size, n_channels is the number of input channels and\n",
        "                   p' x q' is the new image size reduced by the stride.\n",
        "        \"\"\"\n",
        "        self.input = x\n",
        "        batch_size, n_channels, in_height, in_width = x.shape\n",
        "\n",
        "        out_height = (in_height - self.pool_height) // self.stride_height + 1\n",
        "        out_width = (in_width - self.pool_width) // self.stride_width + 1\n",
        "\n",
        "        out = np.zeros((batch_size, n_channels, out_height, out_width))\n",
        "        self.argmax = np.zeros_like(out, dtype=int)\n",
        "\n",
        "        for b in range(batch_size):\n",
        "            for c in range(n_channels):\n",
        "                for i in range(out_height):\n",
        "                    for j in range(out_width):\n",
        "                        h_start = i * self.stride_height\n",
        "                        h_end = h_start + self.pool_height\n",
        "                        w_start = j * self.stride_width\n",
        "                        w_end = w_start + self.pool_width\n",
        "\n",
        "                        window = x[b, c, h_start:h_end, w_start:w_end]\n",
        "                        max_val = np.max(window)\n",
        "                        out[b, c, i, j] = max_val\n",
        "                        self.argmax[b, c, i, j] = np.argmax(window)\n",
        "\n",
        "        return out\n",
        "\n",
        "    def backward(self, error):\n",
        "        \"\"\" Return the gradient with respect to the previous layer.\n",
        "            param: error(np.ndarray): the gradient passed own from the subsequent layer,\n",
        "                   of shape [b, n_channels, p', q'] where b is the batch size, n_channels is the\n",
        "                   number of channels and p' x q' is the image size reduced by the stride\n",
        "            returns (np.ndarray): the gradient w.r.t. the previous layer, of shape [b, n_channels, p, q]\n",
        "                   where b is the batch size, n_channels is the number of input channels to this layer and\n",
        "                   p x q is the image size prior to downsampling.\n",
        "        \"\"\"\n",
        "        batch_size, n_channels, out_height, out_width = error.shape\n",
        "        _, _, in_height, in_width = self.input.shape\n",
        "\n",
        "        grad_input = np.zeros_like(self.input)\n",
        "\n",
        "        for b in range(batch_size):\n",
        "            for c in range(n_channels):\n",
        "                for i in range(out_height):\n",
        "                    for j in range(out_width):\n",
        "                        h_start = i * self.stride_height\n",
        "                        h_end = h_start + self.pool_height\n",
        "                        w_start = j * self.stride_width\n",
        "                        w_end = w_start + self.pool_width\n",
        "\n",
        "                        max_index = self.argmax[b, c, i, j]\n",
        "                        max_h = h_start + max_index // self.pool_width\n",
        "                        max_w = w_start + max_index % self.pool_width\n",
        "\n",
        "                        grad_input[b, c, max_h, max_w] += error[b, c, i, j]\n",
        "\n",
        "        return grad_input"
      ]
    },
    {
      "cell_type": "code",
      "execution_count": 62,
      "metadata": {},
      "outputs": [],
      "source": [
        "class FullyConnected(BaseLayer):\n",
        "    def __init__(self, input_size, output_size, learning_rate=0.001):\n",
        "        super().__init__()\n",
        "        self.input_size = input_size\n",
        "        self.output_size = output_size\n",
        "        self.weights = UniformRandom().initialize((input_size, output_size))\n",
        "        self.biases = Const(0.1).initialize((1, output_size,))\n",
        "        self.learning_rate = learning_rate\n",
        "        self.input_data = None\n",
        "        self.output_data = None\n",
        "\n",
        "    def forward(self, x):\n",
        "        if self.phase == Phase.train:\n",
        "            self.input_data = x\n",
        "        self.input_data = x\n",
        "        self.output_data = np.dot(x, self.weights) + self.biases\n",
        "        return self.output_data\n",
        "\n",
        "    def backward(self, error):\n",
        "        if self.phase != Phase.train:\n",
        "            raise ValueError(\"Can only perform backward pass in train phase\")\n",
        "        # Gradient with respect to weights\n",
        "        weights_gradient = np.dot(self.input_data.T, error)\n",
        "        \n",
        "        # Gradient with respect to biases\n",
        "        biases_gradient = np.sum(error, axis=0, keepdims=True)\n",
        "        \n",
        "        # Gradient with respect to input\n",
        "        input_gradient = np.dot(error, self.weights.T)\n",
        "        \n",
        "        # Update weights and biases\n",
        "        self.weights -= self.learning_rate * weights_gradient\n",
        "        self.biases -= self.learning_rate * biases_gradient\n",
        "        \n",
        "        return input_gradient"
      ]
    },
    {
      "cell_type": "code",
      "execution_count": 63,
      "metadata": {
        "id": "5Fk2O-_05yP_"
      },
      "outputs": [],
      "source": [
        "import unittest\n",
        "\n",
        "class TestMaxPooling(unittest.TestCase):\n",
        "    def setUp(self):\n",
        "        self.batch_size = 2\n",
        "        self.input_shape = (2, 4, 7)\n",
        "\n",
        "        np.random.seed(1337)\n",
        "        self.input_tensor = np.abs(np.random.random((self.batch_size, *self.input_shape)))\n",
        "\n",
        "        self.categories = 5\n",
        "        self.label_tensor = np.zeros([self.batch_size, self.categories])\n",
        "        for i in range(self.batch_size):\n",
        "            self.label_tensor[i, np.random.randint(0, self.categories)] = 1\n",
        "\n",
        "        self.layers = list()\n",
        "        self.layers.append(None)\n",
        "        self.layers.append(FlattenLayer())\n",
        "        self.layers.append(None)\n",
        "        self.layers.append(SoftMax())\n",
        "\n",
        "    def test_shape(self):\n",
        "        layer = self.MaxPooling(neighborhood=(2, 2), stride=(2, 2))\n",
        "        result = layer.forward(self.input_tensor)\n",
        "        expected_shape = np.array([self.batch_size, 2, 2, 3])\n",
        "        self.assertEqual(np.abs(np.sum(np.array(result.shape) - expected_shape)), 0)\n",
        "\n",
        "    def test_overlapping_shape(self):\n",
        "        layer = self.MaxPooling(neighborhood=(2, 2), stride=(2, 1))\n",
        "        result = layer.forward(self.input_tensor)\n",
        "        expected_shape = np.array([self.batch_size, 2, 2, 6])\n",
        "        self.assertEqual(np.abs(np.sum(np.array(result.shape) - expected_shape)), 0)\n",
        "\n",
        "    def test_subsampling_shape(self):\n",
        "        layer = self.MaxPooling(neighborhood=(2, 2), stride=(3, 2))\n",
        "        result = layer.forward(self.input_tensor)\n",
        "        expected_shape = np.array([self.batch_size, 2, 1, 3])\n",
        "        self.assertEqual(np.abs(np.sum(np.array(result.shape) - expected_shape)), 0)\n",
        "\n",
        "    def test_gradient_stride(self):\n",
        "        self.layers[0] = self.MaxPooling(neighborhood=(2, 2), stride=(2, 2))\n",
        "        self.layers[2] = self.FullyConnected(12, self.categories, 0.)\n",
        "\n",
        "        difference = gradient_check(self.layers, self.input_tensor, self.label_tensor)\n",
        "\n",
        "        self.assertLessEqual(np.sum(difference), 1e-6)\n",
        "\n",
        "    def test_gradient_overlapping_stride(self):\n",
        "        self.layers[0] = self.MaxPooling(neighborhood=(2, 2), stride=(2, 1))\n",
        "        self.layers[2] = self.FullyConnected(24, self.categories, 0.)\n",
        "\n",
        "        difference = gradient_check(self.layers, self.input_tensor, self.label_tensor)\n",
        "\n",
        "        self.assertLessEqual(np.sum(difference), 1e-6)\n",
        "\n",
        "    def test_gradient_subsampling_stride(self):\n",
        "\n",
        "        self.layers[0] = self.MaxPooling(neighborhood=(2, 2), stride=(3, 2))\n",
        "        self.layers[2] = self.FullyConnected(6, self.categories, 0.)\n",
        "\n",
        "        difference = gradient_check(self.layers, self.input_tensor, self.label_tensor)\n",
        "\n",
        "        self.assertLessEqual(np.sum(difference), 1e-6)\n",
        "\n",
        "    def test_layout_preservation(self):\n",
        "        pool = self.MaxPooling(neighborhood=(1, 1), stride=(1, 1))\n",
        "        input_tensor = np.array(range(np.prod(self.input_shape) * self.batch_size), dtype=np.float64)\n",
        "        input_tensor = input_tensor.reshape(self.batch_size, *self.input_shape)\n",
        "        output_tensor = pool.forward(input_tensor)\n",
        "        self.assertAlmostEqual(np.sum(np.abs(output_tensor-input_tensor)), 0.)\n",
        "\n",
        "    def test_expected_output_valid_edgecase(self):\n",
        "        input_shape = (1, 3, 3)\n",
        "        pool = self.MaxPooling(neighborhood=(2, 2), stride=(2, 2))\n",
        "        batch_size = 2\n",
        "        input_tensor = np.array(range(np.prod(input_shape) * batch_size), dtype=np.float64)\n",
        "        input_tensor = input_tensor.reshape(batch_size, *input_shape)\n",
        "\n",
        "        result = pool.forward(input_tensor)\n",
        "        expected_result = np.array([[4], [13]]).T\n",
        "        self.assertEqual(np.abs(np.sum(result - expected_result)), 0)\n",
        "\n",
        "    def test_expected_output(self):\n",
        "        input_shape = (1, 4, 4)\n",
        "        pool = self.MaxPooling(neighborhood=(2, 2), stride=(2, 2))\n",
        "        batch_size = 2\n",
        "        input_tensor = np.array(range(np.prod(input_shape) * batch_size), dtype=np.float64)\n",
        "        input_tensor = input_tensor.reshape(batch_size, *input_shape)\n",
        "\n",
        "        result = pool.forward(input_tensor)\n",
        "        expected_result = np.array([[[[ 5.,  7.],[13., 15.]]],[[[21., 23.],[29., 31.]]]]).T\n",
        "        self.assertEqual(np.abs(np.sum(result - expected_result)), 0)"
      ]
    },
    {
      "cell_type": "code",
      "execution_count": 64,
      "metadata": {
        "id": "buW7WPQ16mv2"
      },
      "outputs": [],
      "source": [
        "test = TestMaxPooling()\n",
        "test.MaxPooling = MaxPoolLayer\n",
        "test.FullyConnected = FullyConnected\n",
        "test.setUp()\n",
        "test.test_shape()\n",
        "test.test_overlapping_shape()\n",
        "test.test_subsampling_shape()\n",
        "test.test_gradient_stride()\n",
        "test.test_gradient_overlapping_stride()\n",
        "test.test_gradient_subsampling_stride()\n",
        "test.test_layout_preservation()\n",
        "test.test_expected_output_valid_edgecase()\n",
        "test.test_expected_output()"
      ]
    },
    {
      "cell_type": "markdown",
      "metadata": {
        "id": "KFLCT7tCzGM1"
      },
      "source": [
        "## Dropout\n",
        "\n",
        "Most successful deep learning models use some regularization techniques intended to decrease the gap between training and test accuracy. The goal is to bias the model towards a model with lower training accuracy but better generalization capability. One prominent technique is dropout. It was for example used in the famous AlexNet network.\n",
        "The idea of this technique is to break dependencies between features by setting random activations to zero during training. This is typically done with a Bernoulli distribution: In each training iteration, the probability for a certain activation to \"drop out\" is $p$.\n",
        "The application of dropout shifts the mean of the activations because many elements are set to zero during training. At test time, when no element are dropped out, the mean is different, which can decrease performance. To combat this the \"training mean\" can be restored by multiplying all activations with $1 - p$ at test time.\n",
        "\n",
        "Check https://github.com/vdumoulin/conv_arithmetic for reference.\n",
        "\n",
        "![Source](https://raw.githubusercontent.com/kbreininger/tutorial-dlframework/83df0a128cdc7a365396d07acbe9f38eaf9b6626/img/pooling.gif \"Pool\")\n",
        "\n",
        "\n",
        "### Inverted dropout\n",
        "The multiplication at test time can be avoiding by rewriting dropout behaviour during training. This means that the dropout layer can actually be skipped completely during test time, allowing for faster inference. To this end, the activations are multiplied by $\\frac{1}{1 - p}$ after applying the stochastic function during training. This way, the mean is not changed by the layer and no operation needs to be performed during test time.\n",
        "\n",
        "\n",
        "### Implementation task\n",
        "In the following, implement the ```DropOut``` layer with inverted dropout. As usual, check your implementation by running the unittests. Note that dropout operates on each element of the input vector independently."
      ]
    },
    {
      "cell_type": "code",
      "execution_count": 72,
      "metadata": {
        "id": "32ZE8Jh0zF8N"
      },
      "outputs": [],
      "source": [
        "class DropOut(BaseLayer):\n",
        "\n",
        "    def __init__(self, probability):\n",
        "        \"\"\" DropOut Layer.\n",
        "            param: probability: probability of each individual activation to be set to zero, in range [0, 1]\n",
        "        \"\"\"\n",
        "        super().__init__()\n",
        "        self.probability = probability\n",
        "        self.mask = None\n",
        "\n",
        "    def forward(self, x):\n",
        "        \"\"\" Forward pass through the layer: Set activations of the input randomly to zero.\n",
        "            param: x (np.ndarray): input\n",
        "            returns (np.ndarray): a new array of the same shape as x, after dropping random elements\n",
        "        \"\"\"\n",
        "        if self.phase == Phase.train:\n",
        "            self.mask = np.random.binomial(1, 1 - self.probability, size=x.shape)\n",
        "            return x * self.mask / (1 - self.probability)\n",
        "        else:\n",
        "            return x\n",
        "\n",
        "    def backward(self, error):\n",
        "        \"\"\" Backward pass through the layer: Return the gradient with respect to the input.\n",
        "            param: error (np.ndarray): error passed down from the subsequent layer, of the same shape as the\n",
        "                   output of the forward pass\n",
        "            returns (np.ndarray): gradient with respect to the input, of the same shape as error\n",
        "        \"\"\"\n",
        "        if self.phase == Phase.train:\n",
        "            return error * self.mask\n",
        "        else:\n",
        "            raise ValueError(\"Can only perform backward pass in train phase\")"
      ]
    },
    {
      "cell_type": "code",
      "execution_count": 77,
      "metadata": {
        "id": "asvH8JsfzVSf"
      },
      "outputs": [],
      "source": [
        "class TestDropout(unittest.TestCase):\n",
        "    def setUp(self):\n",
        "        self.batch_size = 10000\n",
        "        self.input_size = 10\n",
        "\n",
        "        self.input_tensor = np.ones((self.batch_size, self.input_size))\n",
        "\n",
        "    def test_forward_trainTime(self):\n",
        "        drop_layer = self.DropOut(0.5)\n",
        "        output = drop_layer.forward(self.input_tensor)\n",
        "\n",
        "        self.assertEqual(np.max(output), 2)\n",
        "        self.assertEqual(np.min(output), 0)\n",
        "        sum_over_mean = np.sum(np.mean(output, axis=0))\n",
        "        self.assertAlmostEqual(sum_over_mean, 1. * self.input_size, places=1)\n",
        "\n",
        "    def test_forward_testTime(self):\n",
        "        drop_layer = self.DropOut(0.5)\n",
        "        drop_layer.phase = Phase.test\n",
        "        output = drop_layer.forward(self.input_tensor)\n",
        "\n",
        "        self.assertEqual(np.max(output), 1.)\n",
        "        self.assertEqual(np.min(output), 1.)\n",
        "        self.assertEqual((self.input_tensor == output).all(), True)\n",
        "\n",
        "    def test_backward(self):\n",
        "        drop_layer = self.DropOut(0.5)\n",
        "        drop_layer.forward(self.input_tensor)\n",
        "        output = drop_layer.backward(self.input_tensor)\n",
        "\n",
        "        self.assertEqual(np.max(output), 1.)\n",
        "        self.assertEqual(np.min(output), 0.)\n",
        "        sum_over_mean = np.sum(np.mean(output, axis=0))\n",
        "        self.assertAlmostEqual(sum_over_mean, 0.5 * self.input_size, delta=1)"
      ]
    },
    {
      "cell_type": "code",
      "execution_count": 78,
      "metadata": {
        "id": "b1xQjTnDzPZS"
      },
      "outputs": [],
      "source": [
        "# TODO: run as homework!\n",
        "test = TestDropout()\n",
        "test.DropOut = DropOut\n",
        "test.setUp()\n",
        "test.test_forward_trainTime()\n",
        "test.test_forward_testTime()\n",
        "test.test_backward()"
      ]
    }
  ],
  "metadata": {
    "colab": {
      "collapsed_sections": [
        "9aiqbhUHwKpQ"
      ],
      "provenance": []
    },
    "kernelspec": {
      "display_name": "Python 3 (ipykernel)",
      "language": "python",
      "name": "python3"
    },
    "language_info": {
      "codemirror_mode": {
        "name": "ipython",
        "version": 3
      },
      "file_extension": ".py",
      "mimetype": "text/x-python",
      "name": "python",
      "nbconvert_exporter": "python",
      "pygments_lexer": "ipython3",
      "version": "3.10.14"
    }
  },
  "nbformat": 4,
  "nbformat_minor": 0
}
